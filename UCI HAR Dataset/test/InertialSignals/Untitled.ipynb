{
 "cells": [
  {
   "cell_type": "code",
   "execution_count": 1,
   "id": "ea43d752",
   "metadata": {},
   "outputs": [],
   "source": [
    "import pandas as pd"
   ]
  },
  {
   "cell_type": "code",
   "execution_count": 2,
   "id": "c1d33f2e",
   "metadata": {},
   "outputs": [],
   "source": [
    "def parser(name, feature):\n",
    "    gyro = pd.read_csv(name, header= None,  delim_whitespace=True )\n",
    "    gyro = gyro.T\n",
    "\n",
    "    gyro_new = pd.DataFrame(columns = [feature])\n",
    "    \n",
    "    for i in range(gyro.shape[1]):\n",
    "        df = pd.DataFrame(gyro.iloc[:,i].values, columns = [feature])\n",
    "        gyro_new = pd.concat([gyro_new,df])\n",
    "        \n",
    "    gyro_new = gyro_new.reset_index()\n",
    "    gyro_new.drop(columns = ['index'], inplace = True)\n",
    "    return gyro_new"
   ]
  },
  {
   "cell_type": "code",
   "execution_count": 5,
   "id": "be6ac5ae",
   "metadata": {},
   "outputs": [],
   "source": [
    "acc_x = parser('total_acc_x_test.txt', 'X')"
   ]
  },
  {
   "cell_type": "code",
   "execution_count": 6,
   "id": "a282c2ba",
   "metadata": {},
   "outputs": [],
   "source": [
    "acc_y = parser('total_acc_y_test.txt', 'Y')"
   ]
  },
  {
   "cell_type": "code",
   "execution_count": 7,
   "id": "c00d70a1",
   "metadata": {},
   "outputs": [],
   "source": [
    "acc_z = parser('total_acc_z_test.txt', 'Z')"
   ]
  },
  {
   "cell_type": "code",
   "execution_count": 8,
   "id": "856689c5",
   "metadata": {},
   "outputs": [],
   "source": [
    "acc_test_all = pd.concat([acc_x, acc_y, acc_z],axis = 1)"
   ]
  },
  {
   "cell_type": "code",
   "execution_count": 10,
   "id": "5041e6b8",
   "metadata": {},
   "outputs": [],
   "source": [
    "acc_test_all.to_csv('acc_test_all.csv', index = None)"
   ]
  },
  {
   "cell_type": "markdown",
   "id": "10f89f42",
   "metadata": {},
   "source": [
    "# Gyroscope"
   ]
  },
  {
   "cell_type": "code",
   "execution_count": 11,
   "id": "6a6f9ae4",
   "metadata": {},
   "outputs": [],
   "source": [
    "gyro_x = parser('body_gyro_x_test.txt', 'X')"
   ]
  },
  {
   "cell_type": "code",
   "execution_count": 12,
   "id": "d5a8d544",
   "metadata": {},
   "outputs": [],
   "source": [
    "gyro_y = parser('body_gyro_y_test.txt', 'Y')"
   ]
  },
  {
   "cell_type": "code",
   "execution_count": 13,
   "id": "9604a646",
   "metadata": {},
   "outputs": [],
   "source": [
    "gyro_z = parser('body_gyro_z_test.txt', 'Z')"
   ]
  },
  {
   "cell_type": "code",
   "execution_count": 14,
   "id": "bda9701f",
   "metadata": {},
   "outputs": [],
   "source": [
    "gyro_test_all = pd.concat([gyro_x, gyro_y, gyro_z],axis = 1)"
   ]
  },
  {
   "cell_type": "code",
   "execution_count": 16,
   "id": "00c3643e",
   "metadata": {},
   "outputs": [],
   "source": [
    "gyro_test_all.to_csv('gyro_test_all.csv', index = None)"
   ]
  },
  {
   "cell_type": "code",
   "execution_count": null,
   "id": "d4d76a09",
   "metadata": {},
   "outputs": [],
   "source": []
  }
 ],
 "metadata": {
  "kernelspec": {
   "display_name": "Python 3",
   "language": "python",
   "name": "python3"
  },
  "language_info": {
   "codemirror_mode": {
    "name": "ipython",
    "version": 3
   },
   "file_extension": ".py",
   "mimetype": "text/x-python",
   "name": "python",
   "nbconvert_exporter": "python",
   "pygments_lexer": "ipython3",
   "version": "3.7.3"
  }
 },
 "nbformat": 4,
 "nbformat_minor": 5
}
