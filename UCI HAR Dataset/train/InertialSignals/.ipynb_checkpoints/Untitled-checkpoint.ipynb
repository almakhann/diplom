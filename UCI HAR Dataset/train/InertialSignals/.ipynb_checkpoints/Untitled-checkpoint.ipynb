{
 "cells": [
  {
   "cell_type": "code",
   "execution_count": 2,
   "metadata": {},
   "outputs": [],
   "source": [
    "import pandas as pd"
   ]
  },
  {
   "cell_type": "code",
   "execution_count": 17,
   "metadata": {},
   "outputs": [],
   "source": [
    "acc_x = pd.read_csv('total_acc_x_train.txt', header= None,  delim_whitespace=True )[:1]\n",
    "\n",
    "acc_y = pd.read_csv('total_acc_y_train.txt', header= None,  delim_whitespace=True )[:1]\n",
    "\n",
    "acc_z = pd.read_csv('total_acc_z_train.txt', header= None,  delim_whitespace=True )[:1]"
   ]
  },
  {
   "cell_type": "code",
   "execution_count": null,
   "metadata": {},
   "outputs": [],
   "source": [
    "acc = pd.DataFrame(columns = ['X','Y','Z'])\n",
    "\n",
    "acc[['X']] = acc_x.T\n",
    "acc[['Y']] = acc_y.T\n",
    "acc[['Z']] = acc_z.T\n",
    "\n",
    "acc.to_csv('ACC_TEST.csv', index = None)"
   ]
  },
  {
   "cell_type": "code",
   "execution_count": null,
   "metadata": {},
   "outputs": [],
   "source": []
  },
  {
   "cell_type": "code",
   "execution_count": 24,
   "metadata": {},
   "outputs": [],
   "source": [
    "gyro_x = pd.read_csv('body_gyro_x_train.txt', header= None,  delim_whitespace=True )[:1]\n",
    "\n",
    "gyro_y = pd.read_csv('body_gyro_y_train.txt', header= None,  delim_whitespace=True )[:1]\n",
    "\n",
    "gyro_z = pd.read_csv('body_gyro_z_train.txt', header= None,  delim_whitespace=True )[:1]"
   ]
  },
  {
   "cell_type": "code",
   "execution_count": null,
   "metadata": {},
   "outputs": [],
   "source": [
    "gyro = pd.DataFrame(columns = ['X','Y','Z'])\n",
    "\n",
    "gyro[['X']] = gyro_x.T\n",
    "gyro[['Y']] = gyro_y.T\n",
    "gyro[['Z']] = gyro_z.T\n",
    "\n",
    "gyro.to_csv('GYRO_TEST.csv', index = None)"
   ]
  },
  {
   "cell_type": "code",
   "execution_count": null,
   "metadata": {},
   "outputs": [],
   "source": []
  },
  {
   "cell_type": "code",
   "execution_count": 23,
   "metadata": {},
   "outputs": [],
   "source": []
  },
  {
   "cell_type": "code",
   "execution_count": null,
   "metadata": {},
   "outputs": [],
   "source": []
  },
  {
   "cell_type": "code",
   "execution_count": null,
   "metadata": {},
   "outputs": [],
   "source": []
  }
 ],
 "metadata": {
  "kernelspec": {
   "display_name": "Python 3",
   "language": "python",
   "name": "python3"
  },
  "language_info": {
   "codemirror_mode": {
    "name": "ipython",
    "version": 3
   },
   "file_extension": ".py",
   "mimetype": "text/x-python",
   "name": "python",
   "nbconvert_exporter": "python",
   "pygments_lexer": "ipython3",
   "version": "3.7.3"
  }
 },
 "nbformat": 4,
 "nbformat_minor": 4
}
