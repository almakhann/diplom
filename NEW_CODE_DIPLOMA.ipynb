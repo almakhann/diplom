{
 "cells": [
  {
   "cell_type": "code",
   "execution_count": 1,
   "metadata": {
    "colab": {},
    "colab_type": "code",
    "id": "kctBbYFYcP79"
   },
   "outputs": [],
   "source": [
    "import pandas as pd\n",
    "import numpy as np\n",
    "import matplotlib.pyplot as plt\n",
    "import re\n",
    "import os"
   ]
  },
  {
   "cell_type": "code",
   "execution_count": 2,
   "metadata": {
    "colab": {
     "base_uri": "https://localhost:8080/",
     "height": 71
    },
    "colab_type": "code",
    "id": "Zdya0hdsc3xw",
    "outputId": "63201879-1b34-465f-ef80-d27907e58f3a"
   },
   "outputs": [],
   "source": [
    "from sklearn.svm import SVC\n",
    "from sklearn.metrics import classification_report\n",
    "from sklearn.metrics import confusion_matrix\n",
    "from sklearn.metrics import plot_confusion_matrix\n",
    "from sklearn.decomposition import PCA\n",
    "from sklearn.neighbors import KNeighborsClassifier\n",
    "from sklearn.ensemble import RandomForestClassifier\n",
    "\n",
    "from sklearn.preprocessing import MinMaxScaler\n",
    "\n",
    "import sklearn.metrics as metrics\n",
    "\n",
    "\n",
    "import seaborn as sn\n",
    "LABELS = [\n",
    "    \"WALKING\",\n",
    "    \"WALKING_UPSTAIRS\",\n",
    "    \"WALKING_DOWNSTAIRS\",\n",
    "    \"SITTING\",\n",
    "    \"STANDING\",\n",
    "    \"LAYING\"\n",
    "]"
   ]
  },
  {
   "cell_type": "code",
   "execution_count": 3,
   "metadata": {
    "colab": {
     "base_uri": "https://localhost:8080/",
     "height": 102
    },
    "colab_type": "code",
    "id": "BEEwKqJYLM_7",
    "outputId": "443a8c87-55e4-477b-d858-a1d65585ec5f"
   },
   "outputs": [],
   "source": [
    "d = {'Precision':[],'Recall':[],'F-score':[],'Accuracy':[] }\n",
    "def results(model, X_train, y_train, X_test, y_test): \n",
    "    model.fit(X_train, y_train.values.ravel())\n",
    "    \n",
    "    X_test_values = X_test.values\n",
    "    y_predicted = model.predict(X_test_values)\n",
    "    print(classification_report(y_test, y_predicted))\n",
    "\n",
    "    array = confusion_matrix(y_test, y_predicted)\n",
    "    df_cm = pd.DataFrame(array, index = [i for i in LABELS],\n",
    "                    columns = [i for i in LABELS])\n",
    "    plt.figure(figsize = (10,7))\n",
    "    sn.heatmap(df_cm, annot=True, cmap=\"BuPu\",fmt='g')\n",
    "    \n",
    "   \n",
    "    recall = metrics.recall_score(y_test, y_predicted, average='macro' )\n",
    "    precision = metrics.precision_score(y_test, y_predicted, average='macro' )\n",
    "    f_score = metrics.f1_score(y_test, y_predicted, average=\"macro\") \n",
    "    acc = metrics.accuracy_score(y_test, y_predicted)\n",
    "    \n",
    "    print(round(recall,4) * 100, 'Recall')\n",
    "    print(round(precision, 4)*100, 'pre')\n",
    "    print(round(f_score, 4)*100, \"fscore\")\n",
    "    print(round(acc, 4) *100, 'acc')\n",
    "    \n",
    "    \n",
    "    \n",
    "    d['Precision'].append(round(precision, 4)*100)\n",
    "    d['Recall'].append(round(recall,4) * 100)\n",
    "    d['F-score'].append(round(f_score, 4)*100)\n",
    "    d['Accuracy'].append(round(acc, 4) *100)\n",
    "                \n"
   ]
  },
  {
   "cell_type": "code",
   "execution_count": 4,
   "metadata": {},
   "outputs": [],
   "source": [
    "#The data with extracted features\n",
    "X_train_fex_old = pd.read_csv(\"UCI HAR Dataset/train/X_train.txt\", delim_whitespace=True, header=None)\n",
    "X_test_fex_old = pd.read_csv(\"UCI HAR Dataset/test/X_test.txt\",delim_whitespace=True, header=None)\n",
    "\n",
    "y_train_old = pd.read_csv(\"UCI HAR Dataset/train/y_train.txt\", delim_whitespace=True, header=None)\n",
    "y_test_old = pd.read_csv(\"UCI HAR Dataset/test/y_test.txt\", delim_whitespace=True, header=None)"
   ]
  },
  {
   "cell_type": "code",
   "execution_count": 5,
   "metadata": {},
   "outputs": [
    {
     "name": "stdout",
     "output_type": "stream",
     "text": [
      "(7351, 561) (2946, 561)\n",
      "(7351, 1) (2946, 1)\n"
     ]
    }
   ],
   "source": [
    "scaler = MinMaxScaler(feature_range = [-1,1])\n",
    "\n",
    "X_train_fex = pd.read_csv(\"TRAIN_NEW_ALL.csv\")\n",
    "X_test_fex = pd.read_csv(\"TEST_NEW_ALL.csv\")\n",
    "\n",
    "\n",
    "X_train_fex = scaler.fit_transform(X_train_fex)\n",
    "X_test_fex  = scaler.fit_transform(X_test_fex)\n",
    "\n",
    "X_train_fex = pd.DataFrame(X_train_fex)\n",
    "X_test_fex = pd.DataFrame(X_test_fex)\n",
    "\n",
    "print(X_train_fex.shape, X_test_fex.shape)\n",
    "\n",
    "\n",
    "\n",
    "y_train = pd.read_csv(\"UCI HAR Dataset/train/y_train.txt\", delim_whitespace=True, header=None)[:-1]\n",
    "y_test = pd.read_csv(\"UCI HAR Dataset/test/y_test.txt\", delim_whitespace=True, header=None)[:-1]\n",
    "\n",
    "print(y_train.shape, y_test.shape)"
   ]
  },
  {
   "cell_type": "code",
   "execution_count": 6,
   "metadata": {},
   "outputs": [
    {
     "name": "stdout",
     "output_type": "stream",
     "text": [
      "(14703, 561) (5893, 561)\n",
      "(14703, 1) (5893, 1)\n"
     ]
    }
   ],
   "source": [
    "X_train_fex_new = pd.concat([X_train_fex_old, X_train_fex])\n",
    "X_test_fex_new = pd.concat([X_test_fex_old, X_test_fex])\n",
    "\n",
    "print(X_train_fex_new.shape, X_test_fex_new.shape)\n",
    "\n",
    "\n",
    "y_train_new = pd.concat([y_train_old, y_train])\n",
    "y_test_new = pd.concat([y_test_old, y_test])\n",
    "\n",
    "print(y_train_new.shape,y_test_new.shape )"
   ]
  },
  {
   "cell_type": "code",
   "execution_count": null,
   "metadata": {},
   "outputs": [],
   "source": []
  },
  {
   "cell_type": "code",
   "execution_count": null,
   "metadata": {},
   "outputs": [],
   "source": []
  },
  {
   "cell_type": "code",
   "execution_count": null,
   "metadata": {},
   "outputs": [],
   "source": []
  },
  {
   "cell_type": "code",
   "execution_count": null,
   "metadata": {},
   "outputs": [],
   "source": []
  },
  {
   "cell_type": "code",
   "execution_count": null,
   "metadata": {},
   "outputs": [],
   "source": []
  },
  {
   "cell_type": "code",
   "execution_count": null,
   "metadata": {},
   "outputs": [],
   "source": []
  },
  {
   "cell_type": "code",
   "execution_count": null,
   "metadata": {},
   "outputs": [],
   "source": []
  },
  {
   "cell_type": "code",
   "execution_count": null,
   "metadata": {},
   "outputs": [],
   "source": []
  },
  {
   "cell_type": "code",
   "execution_count": null,
   "metadata": {},
   "outputs": [],
   "source": []
  },
  {
   "cell_type": "code",
   "execution_count": null,
   "metadata": {},
   "outputs": [],
   "source": []
  },
  {
   "cell_type": "code",
   "execution_count": null,
   "metadata": {},
   "outputs": [],
   "source": []
  },
  {
   "cell_type": "code",
   "execution_count": null,
   "metadata": {},
   "outputs": [],
   "source": []
  },
  {
   "cell_type": "code",
   "execution_count": null,
   "metadata": {},
   "outputs": [],
   "source": []
  },
  {
   "cell_type": "code",
   "execution_count": null,
   "metadata": {},
   "outputs": [],
   "source": []
  },
  {
   "cell_type": "code",
   "execution_count": null,
   "metadata": {},
   "outputs": [],
   "source": []
  },
  {
   "cell_type": "code",
   "execution_count": null,
   "metadata": {},
   "outputs": [],
   "source": []
  },
  {
   "cell_type": "code",
   "execution_count": null,
   "metadata": {},
   "outputs": [],
   "source": []
  },
  {
   "cell_type": "code",
   "execution_count": null,
   "metadata": {},
   "outputs": [],
   "source": []
  },
  {
   "cell_type": "code",
   "execution_count": null,
   "metadata": {},
   "outputs": [],
   "source": []
  },
  {
   "cell_type": "code",
   "execution_count": null,
   "metadata": {},
   "outputs": [],
   "source": []
  },
  {
   "cell_type": "code",
   "execution_count": null,
   "metadata": {},
   "outputs": [],
   "source": []
  },
  {
   "cell_type": "code",
   "execution_count": null,
   "metadata": {},
   "outputs": [],
   "source": []
  },
  {
   "cell_type": "code",
   "execution_count": 7,
   "metadata": {},
   "outputs": [
    {
     "name": "stdout",
     "output_type": "stream",
     "text": [
      "              precision    recall  f1-score   support\n",
      "\n",
      "           1       0.90      0.87      0.89       496\n",
      "           2       0.99      0.81      0.89       470\n",
      "           3       0.79      0.99      0.88       420\n",
      "           4       0.67      0.99      0.80       491\n",
      "           5       0.99      0.55      0.71       532\n",
      "           6       1.00      1.00      1.00       537\n",
      "\n",
      "    accuracy                           0.86      2946\n",
      "   macro avg       0.89      0.87      0.86      2946\n",
      "weighted avg       0.90      0.86      0.86      2946\n",
      "\n",
      "86.96000000000001 Recall\n",
      "89.18 pre\n",
      "86.2 fscore\n",
      "86.49 acc\n"
     ]
    },
    {
     "data": {
      "image/png": "[encoded data removed]",
      "text/plain": [
       "<Figure size 720x504 with 2 Axes>"
      ]
     },
     "metadata": {
      "needs_background": "light"
     },
     "output_type": "display_data"
    }
   ],
   "source": [
    "svm = SVC(C = 10, gamma = 0.01, kernel= 'rbf')\n",
    "results(svm, X_train_fex, y_train, X_test_fex, y_test)"
   ]
  },
  {
   "cell_type": "code",
   "execution_count": null,
   "metadata": {},
   "outputs": [],
   "source": []
  },
  {
   "cell_type": "code",
   "execution_count": null,
   "metadata": {},
   "outputs": [],
   "source": []
  },
  {
   "cell_type": "code",
   "execution_count": null,
   "metadata": {},
   "outputs": [],
   "source": []
  },
  {
   "cell_type": "code",
   "execution_count": 6,
   "metadata": {},
   "outputs": [
    {
     "data": {
      "text/html": [
       "<div>\n",
       "<style scoped>\n",
       "    .dataframe tbody tr th:only-of-type {\n",
       "        vertical-align: middle;\n",
       "    }\n",
       "\n",
       "    .dataframe tbody tr th {\n",
       "        vertical-align: top;\n",
       "    }\n",
       "\n",
       "    .dataframe thead th {\n",
       "        text-align: right;\n",
       "    }\n",
       "</style>\n",
       "<table border=\"1\" class=\"dataframe\">\n",
       "  <thead>\n",
       "    <tr style=\"text-align: right;\">\n",
       "      <th></th>\n",
       "      <th>0</th>\n",
       "      <th>1</th>\n",
       "      <th>2</th>\n",
       "      <th>3</th>\n",
       "      <th>4</th>\n",
       "      <th>5</th>\n",
       "      <th>6</th>\n",
       "      <th>7</th>\n",
       "      <th>8</th>\n",
       "      <th>9</th>\n",
       "      <th>...</th>\n",
       "      <th>551</th>\n",
       "      <th>552</th>\n",
       "      <th>553</th>\n",
       "      <th>554</th>\n",
       "      <th>555</th>\n",
       "      <th>556</th>\n",
       "      <th>557</th>\n",
       "      <th>558</th>\n",
       "      <th>559</th>\n",
       "      <th>560</th>\n",
       "    </tr>\n",
       "  </thead>\n",
       "  <tbody>\n",
       "    <tr>\n",
       "      <th>count</th>\n",
       "      <td>7351.000000</td>\n",
       "      <td>7351.000000</td>\n",
       "      <td>7351.000000</td>\n",
       "      <td>7351.000000</td>\n",
       "      <td>7351.000000</td>\n",
       "      <td>7351.000000</td>\n",
       "      <td>7351.000000</td>\n",
       "      <td>7351.000000</td>\n",
       "      <td>7351.000000</td>\n",
       "      <td>7351.000000</td>\n",
       "      <td>...</td>\n",
       "      <td>7351.000000</td>\n",
       "      <td>7351.000000</td>\n",
       "      <td>7351.000000</td>\n",
       "      <td>7351.000000</td>\n",
       "      <td>7351.000000</td>\n",
       "      <td>7351.000000</td>\n",
       "      <td>7351.000000</td>\n",
       "      <td>7351.000000</td>\n",
       "      <td>7351.000000</td>\n",
       "      <td>7351.000000</td>\n",
       "    </tr>\n",
       "    <tr>\n",
       "      <th>mean</th>\n",
       "      <td>-0.041764</td>\n",
       "      <td>0.024651</td>\n",
       "      <td>0.010698</td>\n",
       "      <td>-0.693395</td>\n",
       "      <td>-0.673158</td>\n",
       "      <td>-0.634587</td>\n",
       "      <td>-0.744563</td>\n",
       "      <td>-0.718746</td>\n",
       "      <td>-0.738726</td>\n",
       "      <td>-0.750173</td>\n",
       "      <td>...</td>\n",
       "      <td>0.588460</td>\n",
       "      <td>0.528897</td>\n",
       "      <td>0.462929</td>\n",
       "      <td>0.003689</td>\n",
       "      <td>-0.007708</td>\n",
       "      <td>-0.490565</td>\n",
       "      <td>0.127552</td>\n",
       "      <td>-0.487831</td>\n",
       "      <td>0.444620</td>\n",
       "      <td>-0.063355</td>\n",
       "    </tr>\n",
       "    <tr>\n",
       "      <th>std</th>\n",
       "      <td>0.137896</td>\n",
       "      <td>0.112260</td>\n",
       "      <td>0.130442</td>\n",
       "      <td>0.336992</td>\n",
       "      <td>0.380106</td>\n",
       "      <td>0.408590</td>\n",
       "      <td>0.294540</td>\n",
       "      <td>0.332310</td>\n",
       "      <td>0.310031</td>\n",
       "      <td>0.280563</td>\n",
       "      <td>...</td>\n",
       "      <td>0.316412</td>\n",
       "      <td>0.281200</td>\n",
       "      <td>0.313303</td>\n",
       "      <td>0.460094</td>\n",
       "      <td>0.477701</td>\n",
       "      <td>0.861121</td>\n",
       "      <td>0.461045</td>\n",
       "      <td>0.511717</td>\n",
       "      <td>0.406266</td>\n",
       "      <td>0.281879</td>\n",
       "    </tr>\n",
       "    <tr>\n",
       "      <th>min</th>\n",
       "      <td>-1.000000</td>\n",
       "      <td>-1.000000</td>\n",
       "      <td>-1.000000</td>\n",
       "      <td>-1.000000</td>\n",
       "      <td>-1.000000</td>\n",
       "      <td>-1.000000</td>\n",
       "      <td>-1.000000</td>\n",
       "      <td>-1.000000</td>\n",
       "      <td>-1.000000</td>\n",
       "      <td>-1.000000</td>\n",
       "      <td>...</td>\n",
       "      <td>-1.000000</td>\n",
       "      <td>-1.000000</td>\n",
       "      <td>-1.000000</td>\n",
       "      <td>-1.000000</td>\n",
       "      <td>-1.000000</td>\n",
       "      <td>-1.000000</td>\n",
       "      <td>-1.000000</td>\n",
       "      <td>-1.000000</td>\n",
       "      <td>-1.000000</td>\n",
       "      <td>-1.000000</td>\n",
       "    </tr>\n",
       "    <tr>\n",
       "      <th>25%</th>\n",
       "      <td>-0.058049</td>\n",
       "      <td>0.014604</td>\n",
       "      <td>-0.003415</td>\n",
       "      <td>-0.988255</td>\n",
       "      <td>-0.986078</td>\n",
       "      <td>-0.988623</td>\n",
       "      <td>-0.991653</td>\n",
       "      <td>-0.989882</td>\n",
       "      <td>-0.992896</td>\n",
       "      <td>-0.989537</td>\n",
       "      <td>...</td>\n",
       "      <td>0.401653</td>\n",
       "      <td>0.396947</td>\n",
       "      <td>0.301442</td>\n",
       "      <td>-0.337894</td>\n",
       "      <td>-0.371466</td>\n",
       "      <td>-1.000000</td>\n",
       "      <td>-0.149677</td>\n",
       "      <td>-0.811596</td>\n",
       "      <td>0.338585</td>\n",
       "      <td>-0.151012</td>\n",
       "    </tr>\n",
       "    <tr>\n",
       "      <th>50%</th>\n",
       "      <td>-0.041374</td>\n",
       "      <td>0.027357</td>\n",
       "      <td>0.010888</td>\n",
       "      <td>-0.907514</td>\n",
       "      <td>-0.923556</td>\n",
       "      <td>-0.917709</td>\n",
       "      <td>-0.946229</td>\n",
       "      <td>-0.950742</td>\n",
       "      <td>-0.958117</td>\n",
       "      <td>-0.915971</td>\n",
       "      <td>...</td>\n",
       "      <td>0.651743</td>\n",
       "      <td>0.578332</td>\n",
       "      <td>0.519449</td>\n",
       "      <td>0.008741</td>\n",
       "      <td>-0.001520</td>\n",
       "      <td>-1.000000</td>\n",
       "      <td>0.131098</td>\n",
       "      <td>-0.707314</td>\n",
       "      <td>0.612371</td>\n",
       "      <td>-0.002939</td>\n",
       "    </tr>\n",
       "    <tr>\n",
       "      <th>75%</th>\n",
       "      <td>-0.027101</td>\n",
       "      <td>0.037801</td>\n",
       "      <td>0.023791</td>\n",
       "      <td>-0.415361</td>\n",
       "      <td>-0.420114</td>\n",
       "      <td>-0.278851</td>\n",
       "      <td>-0.515707</td>\n",
       "      <td>-0.487298</td>\n",
       "      <td>-0.488095</td>\n",
       "      <td>-0.540270</td>\n",
       "      <td>...</td>\n",
       "      <td>0.842485</td>\n",
       "      <td>0.732574</td>\n",
       "      <td>0.698221</td>\n",
       "      <td>0.354313</td>\n",
       "      <td>0.359161</td>\n",
       "      <td>0.414214</td>\n",
       "      <td>0.477220</td>\n",
       "      <td>-0.501801</td>\n",
       "      <td>0.702589</td>\n",
       "      <td>0.102574</td>\n",
       "    </tr>\n",
       "    <tr>\n",
       "      <th>max</th>\n",
       "      <td>1.000000</td>\n",
       "      <td>1.000000</td>\n",
       "      <td>1.000000</td>\n",
       "      <td>1.000000</td>\n",
       "      <td>1.000000</td>\n",
       "      <td>1.000000</td>\n",
       "      <td>1.000000</td>\n",
       "      <td>1.000000</td>\n",
       "      <td>1.000000</td>\n",
       "      <td>1.000000</td>\n",
       "      <td>...</td>\n",
       "      <td>1.000000</td>\n",
       "      <td>1.000000</td>\n",
       "      <td>1.000000</td>\n",
       "      <td>1.000000</td>\n",
       "      <td>1.000000</td>\n",
       "      <td>1.000000</td>\n",
       "      <td>1.000000</td>\n",
       "      <td>1.000000</td>\n",
       "      <td>1.000000</td>\n",
       "      <td>1.000000</td>\n",
       "    </tr>\n",
       "  </tbody>\n",
       "</table>\n",
       "<p>8 rows × 561 columns</p>\n",
       "</div>"
      ],
      "text/plain": [
       "               0            1            2            3            4    \\\n",
       "count  7351.000000  7351.000000  7351.000000  7351.000000  7351.000000   \n",
       "mean     -0.041764     0.024651     0.010698    -0.693395    -0.673158   \n",
       "std       0.137896     0.112260     0.130442     0.336992     0.380106   \n",
       "min      -1.000000    -1.000000    -1.000000    -1.000000    -1.000000   \n",
       "25%      -0.058049     0.014604    -0.003415    -0.988255    -0.986078   \n",
       "50%      -0.041374     0.027357     0.010888    -0.907514    -0.923556   \n",
       "75%      -0.027101     0.037801     0.023791    -0.415361    -0.420114   \n",
       "max       1.000000     1.000000     1.000000     1.000000     1.000000   \n",
       "\n",
       "               5            6            7            8            9    ...  \\\n",
       "count  7351.000000  7351.000000  7351.000000  7351.000000  7351.000000  ...   \n",
       "mean     -0.634587    -0.744563    -0.718746    -0.738726    -0.750173  ...   \n",
       "std       0.408590     0.294540     0.332310     0.310031     0.280563  ...   \n",
       "min      -1.000000    -1.000000    -1.000000    -1.000000    -1.000000  ...   \n",
       "25%      -0.988623    -0.991653    -0.989882    -0.992896    -0.989537  ...   \n",
       "50%      -0.917709    -0.946229    -0.950742    -0.958117    -0.915971  ...   \n",
       "75%      -0.278851    -0.515707    -0.487298    -0.488095    -0.540270  ...   \n",
       "max       1.000000     1.000000     1.000000     1.000000     1.000000  ...   \n",
       "\n",
       "               551          552          553          554          555  \\\n",
       "count  7351.000000  7351.000000  7351.000000  7351.000000  7351.000000   \n",
       "mean      0.588460     0.528897     0.462929     0.003689    -0.007708   \n",
       "std       0.316412     0.281200     0.313303     0.460094     0.477701   \n",
       "min      -1.000000    -1.000000    -1.000000    -1.000000    -1.000000   \n",
       "25%       0.401653     0.396947     0.301442    -0.337894    -0.371466   \n",
       "50%       0.651743     0.578332     0.519449     0.008741    -0.001520   \n",
       "75%       0.842485     0.732574     0.698221     0.354313     0.359161   \n",
       "max       1.000000     1.000000     1.000000     1.000000     1.000000   \n",
       "\n",
       "               556          557          558          559          560  \n",
       "count  7351.000000  7351.000000  7351.000000  7351.000000  7351.000000  \n",
       "mean     -0.490565     0.127552    -0.487831     0.444620    -0.063355  \n",
       "std       0.861121     0.461045     0.511717     0.406266     0.281879  \n",
       "min      -1.000000    -1.000000    -1.000000    -1.000000    -1.000000  \n",
       "25%      -1.000000    -0.149677    -0.811596     0.338585    -0.151012  \n",
       "50%      -1.000000     0.131098    -0.707314     0.612371    -0.002939  \n",
       "75%       0.414214     0.477220    -0.501801     0.702589     0.102574  \n",
       "max       1.000000     1.000000     1.000000     1.000000     1.000000  \n",
       "\n",
       "[8 rows x 561 columns]"
      ]
     },
     "execution_count": 6,
     "metadata": {},
     "output_type": "execute_result"
    }
   ],
   "source": [
    "X_train_fex.describe()"
   ]
  },
  {
   "cell_type": "code",
   "execution_count": 7,
   "metadata": {},
   "outputs": [
    {
     "data": {
      "text/plain": [
       "0.9999988813719067"
      ]
     },
     "execution_count": 7,
     "metadata": {},
     "output_type": "execute_result"
    }
   ],
   "source": [
    "X_train_fex.iloc[1,:].max()"
   ]
  },
  {
   "cell_type": "code",
   "execution_count": 8,
   "metadata": {},
   "outputs": [
    {
     "data": {
      "text/plain": [
       "Int64Index([0], dtype='int64')"
      ]
     },
     "execution_count": 8,
     "metadata": {},
     "output_type": "execute_result"
    }
   ],
   "source": [
    "y_train.columns"
   ]
  },
  {
   "cell_type": "code",
   "execution_count": 9,
   "metadata": {},
   "outputs": [
    {
     "data": {
      "text/plain": [
       "6    1407\n",
       "5    1374\n",
       "4    1286\n",
       "1    1226\n",
       "2    1072\n",
       "3     986\n",
       "Name: 0, dtype: int64"
      ]
     },
     "execution_count": 9,
     "metadata": {},
     "output_type": "execute_result"
    }
   ],
   "source": [
    "y_train[0].value_counts()"
   ]
  },
  {
   "cell_type": "code",
   "execution_count": 10,
   "metadata": {},
   "outputs": [],
   "source": [
    "y_tr = y_train.copy()\n",
    "y_tt = y_test.copy()"
   ]
  },
  {
   "cell_type": "code",
   "execution_count": 12,
   "metadata": {},
   "outputs": [
    {
     "data": {
      "image/png": "[encoded data removed]",
      "text/plain": [
       "<Figure size 432x288 with 1 Axes>"
      ]
     },
     "metadata": {
      "needs_background": "light"
     },
     "output_type": "display_data"
    }
   ],
   "source": [
    "y_tr['Label'] = y_tr[0].apply(lambda x: LABELS[x-1] )\n",
    "\n",
    "plt.bar(x = y_tr.groupby('Label').count().index, height = y_tr.groupby('Label').count()[0].values)\n",
    "\n",
    "plt.title('Train data Activity distribution')\n",
    "plt.ylabel(\"Count\")\n",
    "plt.xlabel('Activity')\n",
    "plt.xticks(rotation = 90)\n",
    "plt.show()"
   ]
  },
  {
   "cell_type": "code",
   "execution_count": 13,
   "metadata": {},
   "outputs": [
    {
     "data": {
      "image/png": "[encoded data removed]",
      "text/plain": [
       "<Figure size 432x288 with 1 Axes>"
      ]
     },
     "metadata": {
      "needs_background": "light"
     },
     "output_type": "display_data"
    }
   ],
   "source": [
    "y_tt['Label'] = y_tt[0].apply(lambda x: LABELS[x-1] )\n",
    "\n",
    "plt.bar(x = y_tt.groupby('Label').count().index, height = y_tt.groupby('Label').count()[0].values)\n",
    "\n",
    "plt.title('Test data Activity distribution')\n",
    "plt.ylabel(\"Count\")\n",
    "plt.xlabel('Activity')\n",
    "plt.xticks(rotation = 90)\n",
    "plt.show()"
   ]
  },
  {
   "cell_type": "code",
   "execution_count": 14,
   "metadata": {},
   "outputs": [
    {
     "data": {
      "text/plain": [
       "6    537\n",
       "5    532\n",
       "1    496\n",
       "4    491\n",
       "2    470\n",
       "3    420\n",
       "Name: 0, dtype: int64"
      ]
     },
     "execution_count": 14,
     "metadata": {},
     "output_type": "execute_result"
    }
   ],
   "source": [
    "y_test[0].value_counts()"
   ]
  },
  {
   "cell_type": "code",
   "execution_count": 15,
   "metadata": {},
   "outputs": [
    {
     "data": {
      "text/html": [
       "<div>\n",
       "<style scoped>\n",
       "    .dataframe tbody tr th:only-of-type {\n",
       "        vertical-align: middle;\n",
       "    }\n",
       "\n",
       "    .dataframe tbody tr th {\n",
       "        vertical-align: top;\n",
       "    }\n",
       "\n",
       "    .dataframe thead th {\n",
       "        text-align: right;\n",
       "    }\n",
       "</style>\n",
       "<table border=\"1\" class=\"dataframe\">\n",
       "  <thead>\n",
       "    <tr style=\"text-align: right;\">\n",
       "      <th></th>\n",
       "      <th>0</th>\n",
       "      <th>1</th>\n",
       "      <th>2</th>\n",
       "      <th>3</th>\n",
       "      <th>4</th>\n",
       "      <th>5</th>\n",
       "      <th>6</th>\n",
       "      <th>7</th>\n",
       "      <th>8</th>\n",
       "      <th>9</th>\n",
       "      <th>...</th>\n",
       "      <th>551</th>\n",
       "      <th>552</th>\n",
       "      <th>553</th>\n",
       "      <th>554</th>\n",
       "      <th>555</th>\n",
       "      <th>556</th>\n",
       "      <th>557</th>\n",
       "      <th>558</th>\n",
       "      <th>559</th>\n",
       "      <th>560</th>\n",
       "    </tr>\n",
       "  </thead>\n",
       "  <tbody>\n",
       "    <tr>\n",
       "      <th>0</th>\n",
       "      <td>-0.034867</td>\n",
       "      <td>0.029984</td>\n",
       "      <td>0.011540</td>\n",
       "      <td>-0.986228</td>\n",
       "      <td>-0.989347</td>\n",
       "      <td>-0.993678</td>\n",
       "      <td>-0.991574</td>\n",
       "      <td>-0.994851</td>\n",
       "      <td>-0.994852</td>\n",
       "      <td>-0.987284</td>\n",
       "      <td>...</td>\n",
       "      <td>0.187200</td>\n",
       "      <td>0.669455</td>\n",
       "      <td>0.627104</td>\n",
       "      <td>-0.649474</td>\n",
       "      <td>0.149614</td>\n",
       "      <td>1.000000</td>\n",
       "      <td>-0.334595</td>\n",
       "      <td>-0.844690</td>\n",
       "      <td>0.611444</td>\n",
       "      <td>-0.059641</td>\n",
       "    </tr>\n",
       "    <tr>\n",
       "      <th>1</th>\n",
       "      <td>-0.043683</td>\n",
       "      <td>0.027475</td>\n",
       "      <td>0.010393</td>\n",
       "      <td>-0.980545</td>\n",
       "      <td>-0.992967</td>\n",
       "      <td>-0.989469</td>\n",
       "      <td>-0.991608</td>\n",
       "      <td>-0.995063</td>\n",
       "      <td>-0.992626</td>\n",
       "      <td>-0.981462</td>\n",
       "      <td>...</td>\n",
       "      <td>-0.446341</td>\n",
       "      <td>0.587493</td>\n",
       "      <td>0.538350</td>\n",
       "      <td>0.854003</td>\n",
       "      <td>0.811173</td>\n",
       "      <td>-1.000000</td>\n",
       "      <td>0.159273</td>\n",
       "      <td>-0.847550</td>\n",
       "      <td>0.610115</td>\n",
       "      <td>-0.057621</td>\n",
       "    </tr>\n",
       "    <tr>\n",
       "      <th>2</th>\n",
       "      <td>-0.044210</td>\n",
       "      <td>0.024735</td>\n",
       "      <td>0.011911</td>\n",
       "      <td>-0.981882</td>\n",
       "      <td>-0.993238</td>\n",
       "      <td>-0.985878</td>\n",
       "      <td>-0.986605</td>\n",
       "      <td>-0.996517</td>\n",
       "      <td>-0.987119</td>\n",
       "      <td>-0.982522</td>\n",
       "      <td>...</td>\n",
       "      <td>0.836744</td>\n",
       "      <td>0.705557</td>\n",
       "      <td>0.666245</td>\n",
       "      <td>0.322774</td>\n",
       "      <td>0.523541</td>\n",
       "      <td>-1.000000</td>\n",
       "      <td>0.161483</td>\n",
       "      <td>-0.848351</td>\n",
       "      <td>0.612078</td>\n",
       "      <td>-0.054715</td>\n",
       "    </tr>\n",
       "    <tr>\n",
       "      <th>3</th>\n",
       "      <td>-0.033082</td>\n",
       "      <td>0.026948</td>\n",
       "      <td>0.017390</td>\n",
       "      <td>-0.987623</td>\n",
       "      <td>-0.994360</td>\n",
       "      <td>-0.985298</td>\n",
       "      <td>-0.992201</td>\n",
       "      <td>-0.996782</td>\n",
       "      <td>-0.993885</td>\n",
       "      <td>-0.981066</td>\n",
       "      <td>...</td>\n",
       "      <td>-0.923568</td>\n",
       "      <td>0.664082</td>\n",
       "      <td>0.621716</td>\n",
       "      <td>-0.725785</td>\n",
       "      <td>0.120955</td>\n",
       "      <td>-1.000000</td>\n",
       "      <td>-0.025439</td>\n",
       "      <td>-0.846925</td>\n",
       "      <td>0.617202</td>\n",
       "      <td>-0.050947</td>\n",
       "    </tr>\n",
       "    <tr>\n",
       "      <th>4</th>\n",
       "      <td>-0.039095</td>\n",
       "      <td>0.028647</td>\n",
       "      <td>0.011870</td>\n",
       "      <td>-0.986110</td>\n",
       "      <td>-0.992326</td>\n",
       "      <td>-0.986664</td>\n",
       "      <td>-0.991539</td>\n",
       "      <td>-0.995206</td>\n",
       "      <td>-0.991583</td>\n",
       "      <td>-0.979392</td>\n",
       "      <td>...</td>\n",
       "      <td>-0.763316</td>\n",
       "      <td>0.804387</td>\n",
       "      <td>0.780616</td>\n",
       "      <td>-0.582948</td>\n",
       "      <td>0.056492</td>\n",
       "      <td>-1.000000</td>\n",
       "      <td>0.446214</td>\n",
       "      <td>-0.848571</td>\n",
       "      <td>0.616962</td>\n",
       "      <td>-0.049085</td>\n",
       "    </tr>\n",
       "    <tr>\n",
       "      <th>...</th>\n",
       "      <td>...</td>\n",
       "      <td>...</td>\n",
       "      <td>...</td>\n",
       "      <td>...</td>\n",
       "      <td>...</td>\n",
       "      <td>...</td>\n",
       "      <td>...</td>\n",
       "      <td>...</td>\n",
       "      <td>...</td>\n",
       "      <td>...</td>\n",
       "      <td>...</td>\n",
       "      <td>...</td>\n",
       "      <td>...</td>\n",
       "      <td>...</td>\n",
       "      <td>...</td>\n",
       "      <td>...</td>\n",
       "      <td>...</td>\n",
       "      <td>...</td>\n",
       "      <td>...</td>\n",
       "      <td>...</td>\n",
       "      <td>...</td>\n",
       "    </tr>\n",
       "    <tr>\n",
       "      <th>7346</th>\n",
       "      <td>-0.259926</td>\n",
       "      <td>0.178848</td>\n",
       "      <td>-0.028531</td>\n",
       "      <td>-0.303277</td>\n",
       "      <td>0.052854</td>\n",
       "      <td>-0.232865</td>\n",
       "      <td>-0.378857</td>\n",
       "      <td>-0.112823</td>\n",
       "      <td>-0.316276</td>\n",
       "      <td>-0.479619</td>\n",
       "      <td>...</td>\n",
       "      <td>0.885565</td>\n",
       "      <td>0.431418</td>\n",
       "      <td>0.348264</td>\n",
       "      <td>0.644000</td>\n",
       "      <td>0.738936</td>\n",
       "      <td>0.414214</td>\n",
       "      <td>-0.188671</td>\n",
       "      <td>-0.800994</td>\n",
       "      <td>0.677442</td>\n",
       "      <td>0.052844</td>\n",
       "    </tr>\n",
       "    <tr>\n",
       "      <th>7347</th>\n",
       "      <td>0.262918</td>\n",
       "      <td>-0.063479</td>\n",
       "      <td>-0.223621</td>\n",
       "      <td>-0.310774</td>\n",
       "      <td>0.087419</td>\n",
       "      <td>-0.111020</td>\n",
       "      <td>-0.549724</td>\n",
       "      <td>-0.144338</td>\n",
       "      <td>-0.494297</td>\n",
       "      <td>-0.246950</td>\n",
       "      <td>...</td>\n",
       "      <td>0.722896</td>\n",
       "      <td>0.279734</td>\n",
       "      <td>0.180007</td>\n",
       "      <td>-0.712040</td>\n",
       "      <td>0.707773</td>\n",
       "      <td>1.000000</td>\n",
       "      <td>0.857900</td>\n",
       "      <td>-0.766402</td>\n",
       "      <td>0.708133</td>\n",
       "      <td>0.061081</td>\n",
       "    </tr>\n",
       "    <tr>\n",
       "      <th>7348</th>\n",
       "      <td>-0.023705</td>\n",
       "      <td>-0.201847</td>\n",
       "      <td>-0.282011</td>\n",
       "      <td>-0.427277</td>\n",
       "      <td>0.087998</td>\n",
       "      <td>-0.099537</td>\n",
       "      <td>-0.397856</td>\n",
       "      <td>0.076499</td>\n",
       "      <td>-0.510736</td>\n",
       "      <td>-0.577428</td>\n",
       "      <td>...</td>\n",
       "      <td>0.568826</td>\n",
       "      <td>0.358708</td>\n",
       "      <td>0.263393</td>\n",
       "      <td>-0.167262</td>\n",
       "      <td>-0.203954</td>\n",
       "      <td>-1.000000</td>\n",
       "      <td>0.930017</td>\n",
       "      <td>-0.772834</td>\n",
       "      <td>0.704712</td>\n",
       "      <td>0.053547</td>\n",
       "    </tr>\n",
       "    <tr>\n",
       "      <th>7349</th>\n",
       "      <td>-0.060045</td>\n",
       "      <td>-0.075793</td>\n",
       "      <td>-0.122774</td>\n",
       "      <td>-0.418850</td>\n",
       "      <td>0.159064</td>\n",
       "      <td>-0.226480</td>\n",
       "      <td>-0.439601</td>\n",
       "      <td>-0.024697</td>\n",
       "      <td>-0.571475</td>\n",
       "      <td>-0.645987</td>\n",
       "      <td>...</td>\n",
       "      <td>0.863081</td>\n",
       "      <td>0.308219</td>\n",
       "      <td>0.187789</td>\n",
       "      <td>-0.048374</td>\n",
       "      <td>-0.479103</td>\n",
       "      <td>1.000000</td>\n",
       "      <td>-0.387360</td>\n",
       "      <td>-0.780506</td>\n",
       "      <td>0.704531</td>\n",
       "      <td>0.019459</td>\n",
       "    </tr>\n",
       "    <tr>\n",
       "      <th>7350</th>\n",
       "      <td>-0.043627</td>\n",
       "      <td>-0.048401</td>\n",
       "      <td>-0.021405</td>\n",
       "      <td>-0.463373</td>\n",
       "      <td>0.158106</td>\n",
       "      <td>-0.231679</td>\n",
       "      <td>-0.532424</td>\n",
       "      <td>-0.329285</td>\n",
       "      <td>-0.562166</td>\n",
       "      <td>-0.625518</td>\n",
       "      <td>...</td>\n",
       "      <td>0.876609</td>\n",
       "      <td>0.255642</td>\n",
       "      <td>0.140745</td>\n",
       "      <td>-0.127225</td>\n",
       "      <td>-0.602473</td>\n",
       "      <td>-1.000000</td>\n",
       "      <td>0.752172</td>\n",
       "      <td>-0.783054</td>\n",
       "      <td>0.700785</td>\n",
       "      <td>0.030904</td>\n",
       "    </tr>\n",
       "  </tbody>\n",
       "</table>\n",
       "<p>7351 rows × 561 columns</p>\n",
       "</div>"
      ],
      "text/plain": [
       "           0         1         2         3         4         5         6    \\\n",
       "0    -0.034867  0.029984  0.011540 -0.986228 -0.989347 -0.993678 -0.991574   \n",
       "1    -0.043683  0.027475  0.010393 -0.980545 -0.992967 -0.989469 -0.991608   \n",
       "2    -0.044210  0.024735  0.011911 -0.981882 -0.993238 -0.985878 -0.986605   \n",
       "3    -0.033082  0.026948  0.017390 -0.987623 -0.994360 -0.985298 -0.992201   \n",
       "4    -0.039095  0.028647  0.011870 -0.986110 -0.992326 -0.986664 -0.991539   \n",
       "...        ...       ...       ...       ...       ...       ...       ...   \n",
       "7346 -0.259926  0.178848 -0.028531 -0.303277  0.052854 -0.232865 -0.378857   \n",
       "7347  0.262918 -0.063479 -0.223621 -0.310774  0.087419 -0.111020 -0.549724   \n",
       "7348 -0.023705 -0.201847 -0.282011 -0.427277  0.087998 -0.099537 -0.397856   \n",
       "7349 -0.060045 -0.075793 -0.122774 -0.418850  0.159064 -0.226480 -0.439601   \n",
       "7350 -0.043627 -0.048401 -0.021405 -0.463373  0.158106 -0.231679 -0.532424   \n",
       "\n",
       "           7         8         9    ...       551       552       553  \\\n",
       "0    -0.994851 -0.994852 -0.987284  ...  0.187200  0.669455  0.627104   \n",
       "1    -0.995063 -0.992626 -0.981462  ... -0.446341  0.587493  0.538350   \n",
       "2    -0.996517 -0.987119 -0.982522  ...  0.836744  0.705557  0.666245   \n",
       "3    -0.996782 -0.993885 -0.981066  ... -0.923568  0.664082  0.621716   \n",
       "4    -0.995206 -0.991583 -0.979392  ... -0.763316  0.804387  0.780616   \n",
       "...        ...       ...       ...  ...       ...       ...       ...   \n",
       "7346 -0.112823 -0.316276 -0.479619  ...  0.885565  0.431418  0.348264   \n",
       "7347 -0.144338 -0.494297 -0.246950  ...  0.722896  0.279734  0.180007   \n",
       "7348  0.076499 -0.510736 -0.577428  ...  0.568826  0.358708  0.263393   \n",
       "7349 -0.024697 -0.571475 -0.645987  ...  0.863081  0.308219  0.187789   \n",
       "7350 -0.329285 -0.562166 -0.625518  ...  0.876609  0.255642  0.140745   \n",
       "\n",
       "           554       555       556       557       558       559       560  \n",
       "0    -0.649474  0.149614  1.000000 -0.334595 -0.844690  0.611444 -0.059641  \n",
       "1     0.854003  0.811173 -1.000000  0.159273 -0.847550  0.610115 -0.057621  \n",
       "2     0.322774  0.523541 -1.000000  0.161483 -0.848351  0.612078 -0.054715  \n",
       "3    -0.725785  0.120955 -1.000000 -0.025439 -0.846925  0.617202 -0.050947  \n",
       "4    -0.582948  0.056492 -1.000000  0.446214 -0.848571  0.616962 -0.049085  \n",
       "...        ...       ...       ...       ...       ...       ...       ...  \n",
       "7346  0.644000  0.738936  0.414214 -0.188671 -0.800994  0.677442  0.052844  \n",
       "7347 -0.712040  0.707773  1.000000  0.857900 -0.766402  0.708133  0.061081  \n",
       "7348 -0.167262 -0.203954 -1.000000  0.930017 -0.772834  0.704712  0.053547  \n",
       "7349 -0.048374 -0.479103  1.000000 -0.387360 -0.780506  0.704531  0.019459  \n",
       "7350 -0.127225 -0.602473 -1.000000  0.752172 -0.783054  0.700785  0.030904  \n",
       "\n",
       "[7351 rows x 561 columns]"
      ]
     },
     "execution_count": 15,
     "metadata": {},
     "output_type": "execute_result"
    }
   ],
   "source": [
    "X_train_fex"
   ]
  },
  {
   "cell_type": "code",
   "execution_count": 16,
   "metadata": {
    "colab": {
     "base_uri": "https://localhost:8080/",
     "height": 312
    },
    "colab_type": "code",
    "id": "aTPLsOp7j62z",
    "outputId": "ea983a66-6701-4540-9b96-add59693f584"
   },
   "outputs": [
    {
     "name": "stdout",
     "output_type": "stream",
     "text": [
      "561\n"
     ]
    },
    {
     "data": {
      "image/png": "[encoded data removed]",
      "text/plain": [
       "<Figure size 432x288 with 1 Axes>"
      ]
     },
     "metadata": {
      "needs_background": "light"
     },
     "output_type": "display_data"
    }
   ],
   "source": [
    "pca = PCA().fit(X_train_fex)\n",
    "n_pcs= pca.components_.shape[0]\n",
    "print(n_pcs)\n",
    "most_important = [np.abs(pca.components_[i]).argmax() for i in range(n_pcs)]\n",
    "most_important = most_important[:300]\n",
    "#Plotting the Cumulative Summation of the Explained Variance\n",
    "plt.figure()\n",
    "plt.plot(np.cumsum(pca.explained_variance_ratio_))\n",
    "plt.xlabel('Number of Components')\n",
    "plt.ylabel('Variance (%)') #for each component\n",
    "plt.title('HAR FEATURE Explained Variance')\n",
    "plt.show()\n",
    "#components_"
   ]
  },
  {
   "cell_type": "code",
   "execution_count": null,
   "metadata": {},
   "outputs": [],
   "source": []
  },
  {
   "cell_type": "code",
   "execution_count": 17,
   "metadata": {
    "colab": {
     "base_uri": "https://localhost:8080/",
     "height": 758
    },
    "colab_type": "code",
    "id": "cjx7yCGxabYO",
    "outputId": "6ec74984-fa97-47d4-f8a9-128e12d3b8ea"
   },
   "outputs": [
    {
     "name": "stdout",
     "output_type": "stream",
     "text": [
      "              precision    recall  f1-score   support\n",
      "\n",
      "           1       0.92      0.84      0.88       496\n",
      "           2       0.98      0.84      0.90       470\n",
      "           3       0.76      0.97      0.85       420\n",
      "           4       0.71      0.96      0.82       491\n",
      "           5       0.95      0.64      0.76       532\n",
      "           6       1.00      1.00      1.00       537\n",
      "\n",
      "    accuracy                           0.87      2946\n",
      "   macro avg       0.89      0.87      0.87      2946\n",
      "weighted avg       0.89      0.87      0.87      2946\n",
      "\n",
      "87.44 Recall\n",
      "88.73 pre\n",
      "86.94 fscore\n",
      "87.1 acc\n"
     ]
    },
    {
     "data": {
      "image/png": "[encoded data removed]",
      "text/plain": [
       "<Figure size 720x504 with 2 Axes>"
      ]
     },
     "metadata": {
      "needs_background": "light"
     },
     "output_type": "display_data"
    }
   ],
   "source": [
    "clf = SVC(gamma='auto')\n",
    "results(clf, X_test_fex, y_test)"
   ]
  },
  {
   "cell_type": "code",
   "execution_count": 12,
   "metadata": {},
   "outputs": [
    {
     "data": {
      "text/plain": [
       "{'Precision': [94.19],\n",
       " 'Recall': [93.87],\n",
       " 'F-score': [93.97],\n",
       " 'Accuracy': [94.03]}"
      ]
     },
     "execution_count": 12,
     "metadata": {},
     "output_type": "execute_result"
    }
   ],
   "source": [
    "d"
   ]
  },
  {
   "cell_type": "code",
   "execution_count": 20,
   "metadata": {
    "colab": {
     "base_uri": "https://localhost:8080/",
     "height": 758
    },
    "colab_type": "code",
    "id": "1BhjwTt1dvHH",
    "outputId": "5ce9e36f-fa51-41c0-fa75-836428314f5f"
   },
   "outputs": [
    {
     "name": "stdout",
     "output_type": "stream",
     "text": [
      "              precision    recall  f1-score   support\n",
      "\n",
      "           1       0.81      0.81      0.81       496\n",
      "           2       0.94      0.77      0.85       470\n",
      "           3       0.74      0.90      0.81       420\n",
      "           4       0.79      0.91      0.84       491\n",
      "           5       0.91      0.77      0.83       532\n",
      "           6       1.00      1.00      1.00       537\n",
      "\n",
      "    accuracy                           0.86      2946\n",
      "   macro avg       0.86      0.86      0.86      2946\n",
      "weighted avg       0.87      0.86      0.86      2946\n",
      "\n",
      "86.00999999999999 Recall\n",
      "86.47 pre\n",
      "85.79 fscore\n",
      "86.05000000000001 acc\n"
     ]
    },
    {
     "data": {
      "image/png": "[encoded data removed]",
      "text/plain": [
       "<Figure size 720x504 with 2 Axes>"
      ]
     },
     "metadata": {
      "needs_background": "light"
     },
     "output_type": "display_data"
    }
   ],
   "source": [
    "clf = KNeighborsClassifier()\n",
    "results(clf, X_test_fex, y_test)"
   ]
  },
  {
   "cell_type": "code",
   "execution_count": 21,
   "metadata": {
    "colab": {
     "base_uri": "https://localhost:8080/",
     "height": 758
    },
    "colab_type": "code",
    "id": "7PTa0gMwrjjb",
    "outputId": "6e8f75d5-a44b-4d23-d909-48ac46fdb6a4"
   },
   "outputs": [
    {
     "name": "stdout",
     "output_type": "stream",
     "text": [
      "              precision    recall  f1-score   support\n",
      "\n",
      "           1       0.89      0.74      0.81       496\n",
      "           2       0.97      0.75      0.85       470\n",
      "           3       0.66      0.97      0.79       420\n",
      "           4       0.78      0.95      0.86       491\n",
      "           5       0.94      0.76      0.84       532\n",
      "           6       1.00      1.00      1.00       537\n",
      "\n",
      "    accuracy                           0.86      2946\n",
      "   macro avg       0.88      0.86      0.86      2946\n",
      "weighted avg       0.88      0.86      0.86      2946\n",
      "\n",
      "86.07000000000001 Recall\n",
      "87.55 pre\n",
      "85.69 fscore\n",
      "85.95 acc\n"
     ]
    },
    {
     "data": {
      "image/png": "[encoded data removed]",
      "text/plain": [
       "<Figure size 720x504 with 2 Axes>"
      ]
     },
     "metadata": {
      "needs_background": "light"
     },
     "output_type": "display_data"
    }
   ],
   "source": [
    "clf = RandomForestClassifier()\n",
    "results(clf, X_test_fex, y_test)"
   ]
  },
  {
   "cell_type": "code",
   "execution_count": 65,
   "metadata": {},
   "outputs": [],
   "source": []
  },
  {
   "cell_type": "raw",
   "metadata": {},
   "source": []
  },
  {
   "cell_type": "code",
   "execution_count": 22,
   "metadata": {},
   "outputs": [
    {
     "ename": "ValueError",
     "evalue": "Shape of passed values is (4, 4), indices imply (3, 4)",
     "output_type": "error",
     "traceback": [
      "\u001b[0;31m---------------------------------------------------------------------------\u001b[0m",
      "\u001b[0;31mValueError\u001b[0m                                Traceback (most recent call last)",
      "\u001b[0;32m~/anaconda3/lib/python3.7/site-packages/pandas/core/internals/managers.py\u001b[0m in \u001b[0;36mcreate_block_manager_from_arrays\u001b[0;34m(arrays, names, axes)\u001b[0m\n\u001b[1;32m   1670\u001b[0m         \u001b[0mblocks\u001b[0m \u001b[0;34m=\u001b[0m \u001b[0mform_blocks\u001b[0m\u001b[0;34m(\u001b[0m\u001b[0marrays\u001b[0m\u001b[0;34m,\u001b[0m \u001b[0mnames\u001b[0m\u001b[0;34m,\u001b[0m \u001b[0maxes\u001b[0m\u001b[0;34m)\u001b[0m\u001b[0;34m\u001b[0m\u001b[0;34m\u001b[0m\u001b[0m\n\u001b[0;32m-> 1671\u001b[0;31m         \u001b[0mmgr\u001b[0m \u001b[0;34m=\u001b[0m \u001b[0mBlockManager\u001b[0m\u001b[0;34m(\u001b[0m\u001b[0mblocks\u001b[0m\u001b[0;34m,\u001b[0m \u001b[0maxes\u001b[0m\u001b[0;34m)\u001b[0m\u001b[0;34m\u001b[0m\u001b[0;34m\u001b[0m\u001b[0m\n\u001b[0m\u001b[1;32m   1672\u001b[0m         \u001b[0mmgr\u001b[0m\u001b[0;34m.\u001b[0m\u001b[0m_consolidate_inplace\u001b[0m\u001b[0;34m(\u001b[0m\u001b[0;34m)\u001b[0m\u001b[0;34m\u001b[0m\u001b[0;34m\u001b[0m\u001b[0m\n",
      "\u001b[0;32m~/anaconda3/lib/python3.7/site-packages/pandas/core/internals/managers.py\u001b[0m in \u001b[0;36m__init__\u001b[0;34m(self, blocks, axes, do_integrity_check)\u001b[0m\n\u001b[1;32m    138\u001b[0m         \u001b[0;32mif\u001b[0m \u001b[0mdo_integrity_check\u001b[0m\u001b[0;34m:\u001b[0m\u001b[0;34m\u001b[0m\u001b[0;34m\u001b[0m\u001b[0m\n\u001b[0;32m--> 139\u001b[0;31m             \u001b[0mself\u001b[0m\u001b[0;34m.\u001b[0m\u001b[0m_verify_integrity\u001b[0m\u001b[0;34m(\u001b[0m\u001b[0;34m)\u001b[0m\u001b[0;34m\u001b[0m\u001b[0;34m\u001b[0m\u001b[0m\n\u001b[0m\u001b[1;32m    140\u001b[0m \u001b[0;34m\u001b[0m\u001b[0m\n",
      "\u001b[0;32m~/anaconda3/lib/python3.7/site-packages/pandas/core/internals/managers.py\u001b[0m in \u001b[0;36m_verify_integrity\u001b[0;34m(self)\u001b[0m\n\u001b[1;32m    333\u001b[0m             \u001b[0;32mif\u001b[0m \u001b[0mblock\u001b[0m\u001b[0;34m.\u001b[0m\u001b[0m_verify_integrity\u001b[0m \u001b[0;32mand\u001b[0m \u001b[0mblock\u001b[0m\u001b[0;34m.\u001b[0m\u001b[0mshape\u001b[0m\u001b[0;34m[\u001b[0m\u001b[0;36m1\u001b[0m\u001b[0;34m:\u001b[0m\u001b[0;34m]\u001b[0m \u001b[0;34m!=\u001b[0m \u001b[0mmgr_shape\u001b[0m\u001b[0;34m[\u001b[0m\u001b[0;36m1\u001b[0m\u001b[0;34m:\u001b[0m\u001b[0;34m]\u001b[0m\u001b[0;34m:\u001b[0m\u001b[0;34m\u001b[0m\u001b[0;34m\u001b[0m\u001b[0m\n\u001b[0;32m--> 334\u001b[0;31m                 \u001b[0mconstruction_error\u001b[0m\u001b[0;34m(\u001b[0m\u001b[0mtot_items\u001b[0m\u001b[0;34m,\u001b[0m \u001b[0mblock\u001b[0m\u001b[0;34m.\u001b[0m\u001b[0mshape\u001b[0m\u001b[0;34m[\u001b[0m\u001b[0;36m1\u001b[0m\u001b[0;34m:\u001b[0m\u001b[0;34m]\u001b[0m\u001b[0;34m,\u001b[0m \u001b[0mself\u001b[0m\u001b[0;34m.\u001b[0m\u001b[0maxes\u001b[0m\u001b[0;34m)\u001b[0m\u001b[0;34m\u001b[0m\u001b[0;34m\u001b[0m\u001b[0m\n\u001b[0m\u001b[1;32m    335\u001b[0m         \u001b[0;32mif\u001b[0m \u001b[0mlen\u001b[0m\u001b[0;34m(\u001b[0m\u001b[0mself\u001b[0m\u001b[0;34m.\u001b[0m\u001b[0mitems\u001b[0m\u001b[0;34m)\u001b[0m \u001b[0;34m!=\u001b[0m \u001b[0mtot_items\u001b[0m\u001b[0;34m:\u001b[0m\u001b[0;34m\u001b[0m\u001b[0;34m\u001b[0m\u001b[0m\n",
      "\u001b[0;32m~/anaconda3/lib/python3.7/site-packages/pandas/core/internals/managers.py\u001b[0m in \u001b[0;36mconstruction_error\u001b[0;34m(tot_items, block_shape, axes, e)\u001b[0m\n\u001b[1;32m   1693\u001b[0m         \u001b[0;32mraise\u001b[0m \u001b[0mValueError\u001b[0m\u001b[0;34m(\u001b[0m\u001b[0;34m\"Empty data passed with indices specified.\"\u001b[0m\u001b[0;34m)\u001b[0m\u001b[0;34m\u001b[0m\u001b[0;34m\u001b[0m\u001b[0m\n\u001b[0;32m-> 1694\u001b[0;31m     \u001b[0;32mraise\u001b[0m \u001b[0mValueError\u001b[0m\u001b[0;34m(\u001b[0m\u001b[0;34mf\"Shape of passed values is {passed}, indices imply {implied}\"\u001b[0m\u001b[0;34m)\u001b[0m\u001b[0;34m\u001b[0m\u001b[0;34m\u001b[0m\u001b[0m\n\u001b[0m\u001b[1;32m   1695\u001b[0m \u001b[0;34m\u001b[0m\u001b[0m\n",
      "\u001b[0;31mValueError\u001b[0m: Shape of passed values is (4, 4), indices imply (3, 4)",
      "\nDuring handling of the above exception, another exception occurred:\n",
      "\u001b[0;31mValueError\u001b[0m                                Traceback (most recent call last)",
      "\u001b[0;32m<ipython-input-22-1d906745efc1>\u001b[0m in \u001b[0;36m<module>\u001b[0;34m\u001b[0m\n\u001b[1;32m      4\u001b[0m     ]\n\u001b[1;32m      5\u001b[0m \u001b[0md\u001b[0m\u001b[0;34m\u001b[0m\u001b[0;34m\u001b[0m\u001b[0m\n\u001b[0;32m----> 6\u001b[0;31m \u001b[0mq\u001b[0m \u001b[0;34m=\u001b[0m \u001b[0mpd\u001b[0m\u001b[0;34m.\u001b[0m\u001b[0mDataFrame\u001b[0m\u001b[0;34m(\u001b[0m\u001b[0md\u001b[0m\u001b[0;34m,\u001b[0m \u001b[0mindex\u001b[0m \u001b[0;34m=\u001b[0m \u001b[0ml\u001b[0m\u001b[0;34m)\u001b[0m\u001b[0;34m\u001b[0m\u001b[0;34m\u001b[0m\u001b[0m\n\u001b[0m\u001b[1;32m      7\u001b[0m \u001b[0mq\u001b[0m\u001b[0;34m\u001b[0m\u001b[0;34m\u001b[0m\u001b[0m\n",
      "\u001b[0;32m~/anaconda3/lib/python3.7/site-packages/pandas/core/frame.py\u001b[0m in \u001b[0;36m__init__\u001b[0;34m(self, data, index, columns, dtype, copy)\u001b[0m\n\u001b[1;32m    433\u001b[0m             )\n\u001b[1;32m    434\u001b[0m         \u001b[0;32melif\u001b[0m \u001b[0misinstance\u001b[0m\u001b[0;34m(\u001b[0m\u001b[0mdata\u001b[0m\u001b[0;34m,\u001b[0m \u001b[0mdict\u001b[0m\u001b[0;34m)\u001b[0m\u001b[0;34m:\u001b[0m\u001b[0;34m\u001b[0m\u001b[0;34m\u001b[0m\u001b[0m\n\u001b[0;32m--> 435\u001b[0;31m             \u001b[0mmgr\u001b[0m \u001b[0;34m=\u001b[0m \u001b[0minit_dict\u001b[0m\u001b[0;34m(\u001b[0m\u001b[0mdata\u001b[0m\u001b[0;34m,\u001b[0m \u001b[0mindex\u001b[0m\u001b[0;34m,\u001b[0m \u001b[0mcolumns\u001b[0m\u001b[0;34m,\u001b[0m \u001b[0mdtype\u001b[0m\u001b[0;34m=\u001b[0m\u001b[0mdtype\u001b[0m\u001b[0;34m)\u001b[0m\u001b[0;34m\u001b[0m\u001b[0;34m\u001b[0m\u001b[0m\n\u001b[0m\u001b[1;32m    436\u001b[0m         \u001b[0;32melif\u001b[0m \u001b[0misinstance\u001b[0m\u001b[0;34m(\u001b[0m\u001b[0mdata\u001b[0m\u001b[0;34m,\u001b[0m \u001b[0mma\u001b[0m\u001b[0;34m.\u001b[0m\u001b[0mMaskedArray\u001b[0m\u001b[0;34m)\u001b[0m\u001b[0;34m:\u001b[0m\u001b[0;34m\u001b[0m\u001b[0;34m\u001b[0m\u001b[0m\n\u001b[1;32m    437\u001b[0m             \u001b[0;32mimport\u001b[0m \u001b[0mnumpy\u001b[0m\u001b[0;34m.\u001b[0m\u001b[0mma\u001b[0m\u001b[0;34m.\u001b[0m\u001b[0mmrecords\u001b[0m \u001b[0;32mas\u001b[0m \u001b[0mmrecords\u001b[0m\u001b[0;34m\u001b[0m\u001b[0;34m\u001b[0m\u001b[0m\n",
      "\u001b[0;32m~/anaconda3/lib/python3.7/site-packages/pandas/core/internals/construction.py\u001b[0m in \u001b[0;36minit_dict\u001b[0;34m(data, index, columns, dtype)\u001b[0m\n\u001b[1;32m    252\u001b[0m             \u001b[0marr\u001b[0m \u001b[0;32mif\u001b[0m \u001b[0;32mnot\u001b[0m \u001b[0mis_datetime64tz_dtype\u001b[0m\u001b[0;34m(\u001b[0m\u001b[0marr\u001b[0m\u001b[0;34m)\u001b[0m \u001b[0;32melse\u001b[0m \u001b[0marr\u001b[0m\u001b[0;34m.\u001b[0m\u001b[0mcopy\u001b[0m\u001b[0;34m(\u001b[0m\u001b[0;34m)\u001b[0m \u001b[0;32mfor\u001b[0m \u001b[0marr\u001b[0m \u001b[0;32min\u001b[0m \u001b[0marrays\u001b[0m\u001b[0;34m\u001b[0m\u001b[0;34m\u001b[0m\u001b[0m\n\u001b[1;32m    253\u001b[0m         ]\n\u001b[0;32m--> 254\u001b[0;31m     \u001b[0;32mreturn\u001b[0m \u001b[0marrays_to_mgr\u001b[0m\u001b[0;34m(\u001b[0m\u001b[0marrays\u001b[0m\u001b[0;34m,\u001b[0m \u001b[0mdata_names\u001b[0m\u001b[0;34m,\u001b[0m \u001b[0mindex\u001b[0m\u001b[0;34m,\u001b[0m \u001b[0mcolumns\u001b[0m\u001b[0;34m,\u001b[0m \u001b[0mdtype\u001b[0m\u001b[0;34m=\u001b[0m\u001b[0mdtype\u001b[0m\u001b[0;34m)\u001b[0m\u001b[0;34m\u001b[0m\u001b[0;34m\u001b[0m\u001b[0m\n\u001b[0m\u001b[1;32m    255\u001b[0m \u001b[0;34m\u001b[0m\u001b[0m\n\u001b[1;32m    256\u001b[0m \u001b[0;34m\u001b[0m\u001b[0m\n",
      "\u001b[0;32m~/anaconda3/lib/python3.7/site-packages/pandas/core/internals/construction.py\u001b[0m in \u001b[0;36marrays_to_mgr\u001b[0;34m(arrays, arr_names, index, columns, dtype)\u001b[0m\n\u001b[1;32m     72\u001b[0m     \u001b[0maxes\u001b[0m \u001b[0;34m=\u001b[0m \u001b[0;34m[\u001b[0m\u001b[0mensure_index\u001b[0m\u001b[0;34m(\u001b[0m\u001b[0mcolumns\u001b[0m\u001b[0;34m)\u001b[0m\u001b[0;34m,\u001b[0m \u001b[0mindex\u001b[0m\u001b[0;34m]\u001b[0m\u001b[0;34m\u001b[0m\u001b[0;34m\u001b[0m\u001b[0m\n\u001b[1;32m     73\u001b[0m \u001b[0;34m\u001b[0m\u001b[0m\n\u001b[0;32m---> 74\u001b[0;31m     \u001b[0;32mreturn\u001b[0m \u001b[0mcreate_block_manager_from_arrays\u001b[0m\u001b[0;34m(\u001b[0m\u001b[0marrays\u001b[0m\u001b[0;34m,\u001b[0m \u001b[0marr_names\u001b[0m\u001b[0;34m,\u001b[0m \u001b[0maxes\u001b[0m\u001b[0;34m)\u001b[0m\u001b[0;34m\u001b[0m\u001b[0;34m\u001b[0m\u001b[0m\n\u001b[0m\u001b[1;32m     75\u001b[0m \u001b[0;34m\u001b[0m\u001b[0m\n\u001b[1;32m     76\u001b[0m \u001b[0;34m\u001b[0m\u001b[0m\n",
      "\u001b[0;32m~/anaconda3/lib/python3.7/site-packages/pandas/core/internals/managers.py\u001b[0m in \u001b[0;36mcreate_block_manager_from_arrays\u001b[0;34m(arrays, names, axes)\u001b[0m\n\u001b[1;32m   1673\u001b[0m         \u001b[0;32mreturn\u001b[0m \u001b[0mmgr\u001b[0m\u001b[0;34m\u001b[0m\u001b[0;34m\u001b[0m\u001b[0m\n\u001b[1;32m   1674\u001b[0m     \u001b[0;32mexcept\u001b[0m \u001b[0mValueError\u001b[0m \u001b[0;32mas\u001b[0m \u001b[0me\u001b[0m\u001b[0;34m:\u001b[0m\u001b[0;34m\u001b[0m\u001b[0;34m\u001b[0m\u001b[0m\n\u001b[0;32m-> 1675\u001b[0;31m         \u001b[0mconstruction_error\u001b[0m\u001b[0;34m(\u001b[0m\u001b[0mlen\u001b[0m\u001b[0;34m(\u001b[0m\u001b[0marrays\u001b[0m\u001b[0;34m)\u001b[0m\u001b[0;34m,\u001b[0m \u001b[0marrays\u001b[0m\u001b[0;34m[\u001b[0m\u001b[0;36m0\u001b[0m\u001b[0;34m]\u001b[0m\u001b[0;34m.\u001b[0m\u001b[0mshape\u001b[0m\u001b[0;34m,\u001b[0m \u001b[0maxes\u001b[0m\u001b[0;34m,\u001b[0m \u001b[0me\u001b[0m\u001b[0;34m)\u001b[0m\u001b[0;34m\u001b[0m\u001b[0;34m\u001b[0m\u001b[0m\n\u001b[0m\u001b[1;32m   1676\u001b[0m \u001b[0;34m\u001b[0m\u001b[0m\n\u001b[1;32m   1677\u001b[0m \u001b[0;34m\u001b[0m\u001b[0m\n",
      "\u001b[0;32m~/anaconda3/lib/python3.7/site-packages/pandas/core/internals/managers.py\u001b[0m in \u001b[0;36mconstruction_error\u001b[0;34m(tot_items, block_shape, axes, e)\u001b[0m\n\u001b[1;32m   1692\u001b[0m     \u001b[0;32mif\u001b[0m \u001b[0mblock_shape\u001b[0m\u001b[0;34m[\u001b[0m\u001b[0;36m0\u001b[0m\u001b[0;34m]\u001b[0m \u001b[0;34m==\u001b[0m \u001b[0;36m0\u001b[0m\u001b[0;34m:\u001b[0m\u001b[0;34m\u001b[0m\u001b[0;34m\u001b[0m\u001b[0m\n\u001b[1;32m   1693\u001b[0m         \u001b[0;32mraise\u001b[0m \u001b[0mValueError\u001b[0m\u001b[0;34m(\u001b[0m\u001b[0;34m\"Empty data passed with indices specified.\"\u001b[0m\u001b[0;34m)\u001b[0m\u001b[0;34m\u001b[0m\u001b[0;34m\u001b[0m\u001b[0m\n\u001b[0;32m-> 1694\u001b[0;31m     \u001b[0;32mraise\u001b[0m \u001b[0mValueError\u001b[0m\u001b[0;34m(\u001b[0m\u001b[0;34mf\"Shape of passed values is {passed}, indices imply {implied}\"\u001b[0m\u001b[0;34m)\u001b[0m\u001b[0;34m\u001b[0m\u001b[0;34m\u001b[0m\u001b[0m\n\u001b[0m\u001b[1;32m   1695\u001b[0m \u001b[0;34m\u001b[0m\u001b[0m\n\u001b[1;32m   1696\u001b[0m \u001b[0;34m\u001b[0m\u001b[0m\n",
      "\u001b[0;31mValueError\u001b[0m: Shape of passed values is (4, 4), indices imply (3, 4)"
     ]
    }
   ],
   "source": [
    "l = ['Support Vector Machine',\n",
    "    'K-Nearest Neighbors',\n",
    "    'Random Forest'\n",
    "    ]\n",
    "d\n",
    "q = pd.DataFrame(d, index = l)\n",
    "q"
   ]
  },
  {
   "cell_type": "markdown",
   "metadata": {},
   "source": [
    "# GridSearch"
   ]
  },
  {
   "cell_type": "code",
   "execution_count": 23,
   "metadata": {
    "colab": {},
    "colab_type": "code",
    "id": "A0Zz6e5iZ8d8"
   },
   "outputs": [],
   "source": [
    "from sklearn.model_selection import GridSearchCV"
   ]
  },
  {
   "cell_type": "code",
   "execution_count": 25,
   "metadata": {
    "colab": {},
    "colab_type": "code",
    "id": "JhwqEYWEaMzv"
   },
   "outputs": [
    {
     "name": "stderr",
     "output_type": "stream",
     "text": [
      "/Users/serik/anaconda3/lib/python3.7/site-packages/sklearn/utils/validation.py:760: DataConversionWarning: A column-vector y was passed when a 1d array was expected. Please change the shape of y to (n_samples, ), for example using ravel().\n",
      "  y = column_or_1d(y, warn=True)\n"
     ]
    },
    {
     "data": {
      "text/plain": [
       "{'C': 10, 'gamma': 0.01, 'kernel': 'rbf'}"
      ]
     },
     "execution_count": 25,
     "metadata": {},
     "output_type": "execute_result"
    }
   ],
   "source": [
    "def svc_param_selection(X, y, nfolds):\n",
    "\n",
    "    param_grid = {'C': [0.01, 0.1, 1, 10, 100, 1000], \n",
    "                  'gamma' : [0.01, 0.1, 1, 10, 100], \n",
    "                  'kernel': ['linear', 'poly', 'rbf', 'sigmoid'] }\n",
    "\n",
    "#     param_grid = {'C': [100, 1000,10000, 100000], \n",
    "#                 'gamma' : [0.0001, 0.001, 0.01], \n",
    "#                 'kernel': ['rbf'] }\n",
    "\n",
    "    grid_search = GridSearchCV( SVC(), \n",
    "                             param_grid, \n",
    "                             cv = nfolds,\n",
    "                             n_jobs = -1) # use all processor\n",
    "    grid_search.fit(X, y)\n",
    "\n",
    "    return grid_search.best_params_\n",
    "\n",
    "svc_param_selection(X_train_fex.values, y_train, 5)"
   ]
  },
  {
   "cell_type": "code",
   "execution_count": 16,
   "metadata": {},
   "outputs": [],
   "source": [
    "d = {\"Precision\":[], 'Recall':[],'F-score': [], 'Accuracy': []} "
   ]
  },
  {
   "cell_type": "code",
   "execution_count": 28,
   "metadata": {
    "colab": {
     "base_uri": "https://localhost:8080/",
     "height": 758
    },
    "colab_type": "code",
    "id": "d0IShq6hC3DR",
    "outputId": "30dd1445-b451-4d18-92c1-484c62e849c4"
   },
   "outputs": [
    {
     "name": "stdout",
     "output_type": "stream",
     "text": [
      "              precision    recall  f1-score   support\n",
      "\n",
      "           1       0.90      0.87      0.89       496\n",
      "           2       0.99      0.81      0.89       470\n",
      "           3       0.79      0.99      0.88       420\n",
      "           4       0.67      0.99      0.80       491\n",
      "           5       0.99      0.55      0.71       532\n",
      "           6       1.00      1.00      1.00       537\n",
      "\n",
      "    accuracy                           0.86      2946\n",
      "   macro avg       0.89      0.87      0.86      2946\n",
      "weighted avg       0.90      0.86      0.86      2946\n",
      "\n",
      "86.96000000000001 Recall\n",
      "89.18 pre\n",
      "86.2 fscore\n",
      "86.49 acc\n"
     ]
    },
    {
     "data": {
      "image/png": "[encoded data removed]",
      "text/plain": [
       "<Figure size 720x504 with 2 Axes>"
      ]
     },
     "metadata": {
      "needs_background": "light"
     },
     "output_type": "display_data"
    }
   ],
   "source": [
    "clf = SVC(C = 10, gamma = 0.01, kernel= 'rbf')\n",
    "results(clf, X_test_fex, y_test)"
   ]
  },
  {
   "cell_type": "code",
   "execution_count": null,
   "metadata": {},
   "outputs": [],
   "source": []
  },
  {
   "cell_type": "code",
   "execution_count": 40,
   "metadata": {
    "colab": {},
    "colab_type": "code",
    "id": "czMuzM5RaNTB"
   },
   "outputs": [
    {
     "name": "stderr",
     "output_type": "stream",
     "text": [
      "/Users/serik/anaconda3/lib/python3.7/site-packages/sklearn/model_selection/_search.py:739: DataConversionWarning: A column-vector y was passed when a 1d array was expected. Please change the shape of y to (n_samples, ), for example using ravel().\n",
      "  self.best_estimator_.fit(X, y, **fit_params)\n"
     ]
    },
    {
     "data": {
      "text/plain": [
       "{'n_neighbors': 15}"
      ]
     },
     "execution_count": 40,
     "metadata": {},
     "output_type": "execute_result"
    }
   ],
   "source": [
    "def knn_param_selection(X, y, nfolds):\n",
    "    # param_grid = {'n_neighbors' : [3,5,7,11], \n",
    "    param_grid = {'n_neighbors' : [11,13,15,19,21]}\n",
    "                # 'weights':['uniform', 'distance'], \n",
    "                # 'metric':['euclidean','manhattan'] }\n",
    "\n",
    "    grid_search = GridSearchCV(KNeighborsClassifier(), \n",
    "                             param_grid, \n",
    "                             cv = nfolds,\n",
    "                             n_jobs = -1)\n",
    "\n",
    "    grid_search.fit(X,y)\n",
    "\n",
    "    return grid_search.best_params_\n",
    "                  \n",
    "# knn_param_selection(X_train_fex.values, y_train, 5)"
   ]
  },
  {
   "cell_type": "code",
   "execution_count": 18,
   "metadata": {
    "colab": {
     "base_uri": "https://localhost:8080/",
     "height": 758
    },
    "colab_type": "code",
    "id": "4jmGec1UDMkp",
    "outputId": "6ffaeaaf-524d-4013-dccf-287ad57d5334"
   },
   "outputs": [
    {
     "name": "stdout",
     "output_type": "stream",
     "text": [
      "              precision    recall  f1-score   support\n",
      "\n",
      "           1       0.86      0.98      0.92       496\n",
      "           2       0.88      0.91      0.89       471\n",
      "           3       0.98      0.78      0.87       420\n",
      "           4       0.97      0.82      0.89       491\n",
      "           5       0.86      0.98      0.91       532\n",
      "           6       1.00      1.00      1.00       537\n",
      "\n",
      "    accuracy                           0.92      2947\n",
      "   macro avg       0.92      0.91      0.91      2947\n",
      "weighted avg       0.92      0.92      0.92      2947\n",
      "\n",
      "91.23 Recall\n",
      "92.45 pre\n",
      "91.43 fscore\n",
      "91.79 acc\n"
     ]
    }
   ],
   "source": [
    "clf = KNeighborsClassifier(metric= 'manhattan', n_neighbors = 15, weights = 'distance')\n",
    "results(clf, X_test_fex, y_test)"
   ]
  },
  {
   "cell_type": "code",
   "execution_count": 7,
   "metadata": {
    "colab": {},
    "colab_type": "code",
    "id": "UHmwdLQ8aNOF"
   },
   "outputs": [
    {
     "name": "stderr",
     "output_type": "stream",
     "text": [
      "/Users/serik/anaconda3/lib/python3.7/site-packages/sklearn/model_selection/_search.py:739: DataConversionWarning: A column-vector y was passed when a 1d array was expected. Please change the shape of y to (n_samples,), for example using ravel().\n",
      "  self.best_estimator_.fit(X, y, **fit_params)\n"
     ]
    },
    {
     "data": {
      "text/plain": [
       "{'max_features': 'sqrt', 'min_samples_split': 6, 'n_estimators': 150}"
      ]
     },
     "execution_count": 7,
     "metadata": {},
     "output_type": "execute_result"
    }
   ],
   "source": [
    "def rf_param_selection(X, y, nfolds):\n",
    "    param_grid = {'n_estimators': [40, 50, 150],\n",
    "                'max_features': ['sqrt', 0.25, 0.5, 0.75, 1.0],\n",
    "                'min_samples_split': [4, 6,8, 10]}\n",
    "\n",
    "    grid_search = GridSearchCV(RandomForestClassifier(),\n",
    "                             param_grid,\n",
    "                             cv = nfolds,\n",
    "                             n_jobs = -1)\n",
    "    grid_search.fit(X,y)\n",
    "\n",
    "    return grid_search.best_params_\n",
    "\n",
    "rf_param_selection(X_train_fex.values, y_train, 5)"
   ]
  },
  {
   "cell_type": "code",
   "execution_count": 29,
   "metadata": {
    "colab": {
     "base_uri": "https://localhost:8080/",
     "height": 758
    },
    "colab_type": "code",
    "id": "y1YPGpgjnoKM",
    "outputId": "3e473f9f-0d88-4731-b1c1-4d57e2e00060"
   },
   "outputs": [
    {
     "name": "stdout",
     "output_type": "stream",
     "text": [
      "              precision    recall  f1-score   support\n",
      "\n",
      "           1       0.91      0.76      0.83       496\n",
      "           2       0.97      0.69      0.81       470\n",
      "           3       0.64      0.97      0.77       420\n",
      "           4       0.79      0.95      0.86       491\n",
      "           5       0.94      0.77      0.85       532\n",
      "           6       1.00      1.00      1.00       537\n",
      "\n",
      "    accuracy                           0.86      2946\n",
      "   macro avg       0.87      0.86      0.85      2946\n",
      "weighted avg       0.88      0.86      0.86      2946\n",
      "\n",
      "85.57000000000001 Recall\n",
      "87.42 pre\n",
      "85.19 fscore\n",
      "85.50999999999999 acc\n"
     ]
    },
    {
     "data": {
      "image/png": "[encoded data removed]",
      "text/plain": [
       "<Figure size 720x504 with 2 Axes>"
      ]
     },
     "metadata": {
      "needs_background": "light"
     },
     "output_type": "display_data"
    }
   ],
   "source": [
    "clf = RandomForestClassifier(max_features= 'sqrt', min_samples_split= 6, n_estimators = 50)\n",
    "results(clf, X_test_fex, y_test)"
   ]
  },
  {
   "cell_type": "code",
   "execution_count": 20,
   "metadata": {},
   "outputs": [
    {
     "data": {
      "text/html": [
       "<div>\n",
       "<style scoped>\n",
       "    .dataframe tbody tr th:only-of-type {\n",
       "        vertical-align: middle;\n",
       "    }\n",
       "\n",
       "    .dataframe tbody tr th {\n",
       "        vertical-align: top;\n",
       "    }\n",
       "\n",
       "    .dataframe thead th {\n",
       "        text-align: right;\n",
       "    }\n",
       "</style>\n",
       "<table border=\"1\" class=\"dataframe\">\n",
       "  <thead>\n",
       "    <tr style=\"text-align: right;\">\n",
       "      <th></th>\n",
       "      <th>Precision</th>\n",
       "      <th>Recall</th>\n",
       "      <th>F-score</th>\n",
       "      <th>Accuracy</th>\n",
       "    </tr>\n",
       "  </thead>\n",
       "  <tbody>\n",
       "    <tr>\n",
       "      <th>Support Vector Machine</th>\n",
       "      <td>96.63</td>\n",
       "      <td>96.33</td>\n",
       "      <td>96.42</td>\n",
       "      <td>96.47</td>\n",
       "    </tr>\n",
       "    <tr>\n",
       "      <th>K-Nearest Neighbors</th>\n",
       "      <td>92.45</td>\n",
       "      <td>91.23</td>\n",
       "      <td>91.43</td>\n",
       "      <td>91.79</td>\n",
       "    </tr>\n",
       "    <tr>\n",
       "      <th>Random Forest</th>\n",
       "      <td>92.62</td>\n",
       "      <td>92.24</td>\n",
       "      <td>92.35</td>\n",
       "      <td>92.53</td>\n",
       "    </tr>\n",
       "  </tbody>\n",
       "</table>\n",
       "</div>"
      ],
      "text/plain": [
       "                        Precision  Recall  F-score  Accuracy\n",
       "Support Vector Machine      96.63   96.33    96.42     96.47\n",
       "K-Nearest Neighbors         92.45   91.23    91.43     91.79\n",
       "Random Forest               92.62   92.24    92.35     92.53"
      ]
     },
     "execution_count": 20,
     "metadata": {},
     "output_type": "execute_result"
    }
   ],
   "source": [
    "l = ['Support Vector Machine',\n",
    "    'K-Nearest Neighbors',\n",
    "    'Random Forest'\n",
    "    ]\n",
    "d\n",
    "q = pd.DataFrame(d, index = l)\n",
    "q"
   ]
  },
  {
   "cell_type": "markdown",
   "metadata": {},
   "source": [
    "# TEST"
   ]
  },
  {
   "cell_type": "code",
   "execution_count": 48,
   "metadata": {},
   "outputs": [],
   "source": [
    "pd.options.display.max_columns = 9999\n",
    "pd.options.display.float_format = '{:,.5f}'.format"
   ]
  },
  {
   "cell_type": "code",
   "execution_count": 46,
   "metadata": {},
   "outputs": [
    {
     "data": {
      "text/plain": [
       "SVC(C=10000, break_ties=False, cache_size=200, class_weight=None, coef0=0.0,\n",
       "    decision_function_shape='ovr', degree=3, gamma=0.01, kernel='rbf',\n",
       "    max_iter=-1, probability=False, random_state=None, shrinking=True,\n",
       "    tol=0.001, verbose=False)"
      ]
     },
     "execution_count": 46,
     "metadata": {},
     "output_type": "execute_result"
    }
   ],
   "source": [
    "clf = SVC(C = 10000, gamma = 0.01, kernel= 'rbf')\n",
    "clf.fit(X_train_fex.values, y_train.values.ravel())\n"
   ]
  },
  {
   "cell_type": "code",
   "execution_count": 28,
   "metadata": {},
   "outputs": [
    {
     "data": {
      "text/plain": [
       "RandomForestClassifier(bootstrap=True, ccp_alpha=0.0, class_weight=None,\n",
       "                       criterion='gini', max_depth=None, max_features='sqrt',\n",
       "                       max_leaf_nodes=None, max_samples=None,\n",
       "                       min_impurity_decrease=0.0, min_impurity_split=None,\n",
       "                       min_samples_leaf=1, min_samples_split=6,\n",
       "                       min_weight_fraction_leaf=0.0, n_estimators=50,\n",
       "                       n_jobs=None, oob_score=False, random_state=None,\n",
       "                       verbose=0, warm_start=False)"
      ]
     },
     "execution_count": 28,
     "metadata": {},
     "output_type": "execute_result"
    }
   ],
   "source": [
    "rf = RandomForestClassifier(max_features= 'sqrt', min_samples_split= 6, n_estimators = 50)\n",
    "rf.fit(X_train_fex.values, y_train.values.ravel())"
   ]
  },
  {
   "cell_type": "code",
   "execution_count": null,
   "metadata": {},
   "outputs": [],
   "source": [
    "LABELS = [\n",
    "    \"WALKING\",\n",
    "    \"WALKING_UPSTAIRS\",\n",
    "    \"WALKING_DOWNSTAIRS\",\n",
    "    \"SITTING\",\n",
    "    \"STANDING\",\n",
    "    \"LAYING\"\n",
    "]"
   ]
  },
  {
   "cell_type": "code",
   "execution_count": 25,
   "metadata": {},
   "outputs": [],
   "source": [
    "from sklearn.preprocessing import MinMaxScaler"
   ]
  },
  {
   "cell_type": "code",
   "execution_count": 39,
   "metadata": {},
   "outputs": [],
   "source": [
    "X_train_fex = pd.read_csv(\"TRAIN_NEW_ALL.csv\")\n",
    "X_train_fex\n",
    "\n",
    "y_train = pd.read_csv(\"UCI HAR Dataset/train/y_train.txt\", delim_whitespace=True, header=None)[:-1]\n",
    "\n",
    "X_test_fex = pd.read_csv(\"TEST_NEW_ALL.csv\")\n",
    "X_test_fex\n",
    "\n",
    "Y = pd.read_csv(\"UCI HAR Dataset/test/y_test.txt\", delim_whitespace=True, header=None)[:-1]\n",
    "\n",
    "\n",
    "scaler = MinMaxScaler(feature_range = [-1,1])\n",
    "X_train_fex  = scaler.fit_transform(X_train_fex)\n",
    "X_train_fex = pd.DataFrame(X_train_fex)"
   ]
  },
  {
   "cell_type": "code",
   "execution_count": 15,
   "metadata": {},
   "outputs": [],
   "source": [
    "X_test_fex = pd.read_csv(\"TEST_NEW_ALL.csv\")\n",
    "X_test_fex\n",
    "\n",
    "Y = pd.read_csv(\"UCI HAR Dataset/test/y_test.txt\", delim_whitespace=True, header=None)[:-1]"
   ]
  },
  {
   "cell_type": "code",
   "execution_count": 16,
   "metadata": {},
   "outputs": [],
   "source": [
    "scaler = MinMaxScaler(feature_range = [-1,1])\n",
    "\n",
    "X_test_fex  = scaler.fit_transform(X_test_fex)\n",
    "\n",
    "X_test_fex = pd.DataFrame(X_test_fex)"
   ]
  },
  {
   "cell_type": "code",
   "execution_count": null,
   "metadata": {},
   "outputs": [],
   "source": []
  },
  {
   "cell_type": "code",
   "execution_count": 27,
   "metadata": {},
   "outputs": [
    {
     "data": {
      "text/plain": [
       "SVC(C=10000, break_ties=False, cache_size=200, class_weight=None, coef0=0.0,\n",
       "    decision_function_shape='ovr', degree=3, gamma=0.01, kernel='rbf',\n",
       "    max_iter=-1, probability=False, random_state=None, shrinking=True,\n",
       "    tol=0.001, verbose=False)"
      ]
     },
     "execution_count": 27,
     "metadata": {},
     "output_type": "execute_result"
    }
   ],
   "source": [
    "clf = SVC(C = 10000, gamma = 0.01, kernel= 'rbf')\n",
    "clf.fit(X_train_fex.values, y_train.values.ravel())"
   ]
  },
  {
   "cell_type": "code",
   "execution_count": 18,
   "metadata": {},
   "outputs": [
    {
     "name": "stdout",
     "output_type": "stream",
     "text": [
      "{1, 2, 3, 4, 5, 6}\n"
     ]
    }
   ],
   "source": [
    "y_predicted = clf.predict(X_test_fex)\n",
    "print(set(y_predicted))"
   ]
  },
  {
   "cell_type": "code",
   "execution_count": null,
   "metadata": {},
   "outputs": [],
   "source": []
  },
  {
   "cell_type": "code",
   "execution_count": 19,
   "metadata": {},
   "outputs": [
    {
     "data": {
      "text/plain": [
       "<matplotlib.axes._subplots.AxesSubplot at 0x10d5fc208>"
      ]
     },
     "execution_count": 19,
     "metadata": {},
     "output_type": "execute_result"
    },
    {
     "data": {
      "image/png": "[encoded data removed]",
      "text/plain": [
       "<Figure size 720x504 with 2 Axes>"
      ]
     },
     "metadata": {
      "needs_background": "light"
     },
     "output_type": "display_data"
    }
   ],
   "source": [
    "array = confusion_matrix(np.squeeze(Y.values),y_predicted)\n",
    "df_cm = pd.DataFrame(array, index = [i for i in LABELS],\n",
    "                columns = [i for i in LABELS])\n",
    "plt.figure(figsize = (10,7))\n",
    "sn.heatmap(df_cm, annot=True, cmap=\"BuPu\",fmt='g')"
   ]
  },
  {
   "cell_type": "code",
   "execution_count": 20,
   "metadata": {},
   "outputs": [
    {
     "data": {
      "text/plain": [
       "0.8486082824168364"
      ]
     },
     "execution_count": 20,
     "metadata": {},
     "output_type": "execute_result"
    }
   ],
   "source": [
    "metrics.accuracy_score(np.squeeze(Y.values),y_predicted)"
   ]
  },
  {
   "cell_type": "code",
   "execution_count": 37,
   "metadata": {},
   "outputs": [],
   "source": [
    "# #The data with extracted features\n",
    "# X_train_fex = pd.read_csv(\"UCI HAR Dataset/train/X_train.txt\", delim_whitespace=True, header=None)\n",
    "# X_test_fex = pd.read_csv(\"UCI HAR Dataset/test/X_test.txt\",delim_whitespace=True, header=None)\n",
    "\n",
    "# y_train = pd.read_csv(\"UCI HAR Dataset/train/y_train.txt\", delim_whitespace=True, header=None)\n",
    "# y_test = pd.read_csv(\"UCI HAR Dataset/test/y_test.txt\", delim_whitespace=True, header=None)"
   ]
  },
  {
   "cell_type": "code",
   "execution_count": 29,
   "metadata": {},
   "outputs": [],
   "source": [
    "def check(model, X, Y):\n",
    "    path = 'Real-Time'\n",
    "    model.fit(X_train_fex.values, y_train.values.ravel())\n",
    "    \n",
    "    test_x = pd.read_csv('{0}/{1}'.format(path, X))\n",
    "    test_y = pd.read_csv('{0}/{1}'.format(path, Y))\n",
    "\n",
    "    scaler = MinMaxScaler(feature_range = [-1,1])\n",
    "    test_x  = scaler.fit_transform(test_x)\n",
    "    \n",
    "    y_predicted = model.predict(test_x)\n",
    "\n",
    "    print(set(y_predicted))\n",
    "\n",
    "    print('Accuracy is: ', metrics.accuracy_score(test_y,y_predicted))\n",
    "    \n",
    "    array = confusion_matrix(test_y,y_predicted)\n",
    "    df_cm = pd.DataFrame(array, index = [i for i in LABELS],\n",
    "                    columns = [i for i in LABELS])\n",
    "    plt.figure(figsize = (10,7))\n",
    "    sn.heatmap(df_cm, annot=True, cmap=\"BuPu\",fmt='g')\n",
    "\n"
   ]
  },
  {
   "cell_type": "markdown",
   "metadata": {},
   "source": [
    "# SVM"
   ]
  },
  {
   "cell_type": "code",
   "execution_count": 40,
   "metadata": {},
   "outputs": [
    {
     "name": "stdout",
     "output_type": "stream",
     "text": [
      "{1, 2, 3, 4, 5, 6}\n",
      "Accuracy is:  0.7671232876712328\n"
     ]
    },
    {
     "data": {
      "image/png": "[encoded data removed]",
      "text/plain": [
       "<Figure size 720x504 with 2 Axes>"
      ]
     },
     "metadata": {
      "needs_background": "light"
     },
     "output_type": "display_data"
    }
   ],
   "source": [
    "clf = SVC(C = 10000, gamma = 0.01, kernel= 'rbf')\n",
    "clf.fit(X_train_fex.values, y_train.values.ravel())\n",
    "\n",
    "check(svm, 'X.csv', 'Y.csv')"
   ]
  },
  {
   "cell_type": "code",
   "execution_count": 62,
   "metadata": {},
   "outputs": [
    {
     "name": "stdout",
     "output_type": "stream",
     "text": [
      "{1, 2, 3, 4, 5, 6}\n",
      "Accuracy is:  0.6883116883116883\n"
     ]
    },
    {
     "data": {
      "image/png": "[encoded data removed]",
      "text/plain": [
       "<Figure size 720x504 with 2 Axes>"
      ]
     },
     "metadata": {
      "needs_background": "light"
     },
     "output_type": "display_data"
    }
   ],
   "source": [
    "clf = SVC(C = 10000, gamma = 0.01, kernel= 'rbf')\n",
    "clf.fit(X_train_fex.values, y_train.values.ravel())\n",
    "\n",
    "check(svm, 'X.csv', 'Y.csv')"
   ]
  },
  {
   "cell_type": "code",
   "execution_count": 50,
   "metadata": {},
   "outputs": [
    {
     "name": "stdout",
     "output_type": "stream",
     "text": [
      "{1, 2, 3, 4, 5, 6}\n",
      "Accuracy is:  0.6883116883116883\n"
     ]
    },
    {
     "data": {
      "image/png": "[encoded data removed]",
      "text/plain": [
       "<Figure size 720x504 with 2 Axes>"
      ]
     },
     "metadata": {
      "needs_background": "light"
     },
     "output_type": "display_data"
    }
   ],
   "source": [
    "check(svm, 'X.csv', 'Y.csv')"
   ]
  },
  {
   "cell_type": "markdown",
   "metadata": {},
   "source": [
    "# KNN"
   ]
  },
  {
   "cell_type": "code",
   "execution_count": 58,
   "metadata": {},
   "outputs": [
    {
     "name": "stdout",
     "output_type": "stream",
     "text": [
      "{1, 2, 3, 4, 5, 6}\n",
      "Accuracy is:  0.7142857142857143\n"
     ]
    },
    {
     "data": {
      "image/png": "[encoded data removed]",
      "text/plain": [
       "<Figure size 720x504 with 2 Axes>"
      ]
     },
     "metadata": {
      "needs_background": "light"
     },
     "output_type": "display_data"
    }
   ],
   "source": [
    "knn = KNeighborsClassifier(metric= 'manhattan', n_neighbors = 15, weights = 'distance')\n",
    "\n",
    "knn.fit(X_train_fex.values, y_train.values.ravel())\n",
    "\n",
    "check(knn, 'X.csv', 'Y.csv')"
   ]
  },
  {
   "cell_type": "markdown",
   "metadata": {},
   "source": [
    "# Random Forest"
   ]
  },
  {
   "cell_type": "code",
   "execution_count": 59,
   "metadata": {},
   "outputs": [
    {
     "name": "stdout",
     "output_type": "stream",
     "text": [
      "{2, 3, 4, 5, 6}\n",
      "Accuracy is:  0.6623376623376623\n"
     ]
    },
    {
     "data": {
      "image/png": "[encoded data removed]",
      "text/plain": [
       "<Figure size 720x504 with 2 Axes>"
      ]
     },
     "metadata": {
      "needs_background": "light"
     },
     "output_type": "display_data"
    }
   ],
   "source": [
    "rf = RandomForestClassifier(max_features= 'sqrt', min_samples_split= 6, n_estimators = 50)\n",
    "\n",
    "rf.fit(X_train_fex.values, y_train.values.ravel())\n",
    "\n",
    "check(rf, 'X.csv', 'Y.csv')"
   ]
  },
  {
   "cell_type": "code",
   "execution_count": null,
   "metadata": {},
   "outputs": [],
   "source": []
  },
  {
   "cell_type": "code",
   "execution_count": null,
   "metadata": {},
   "outputs": [],
   "source": []
  },
  {
   "cell_type": "code",
   "execution_count": null,
   "metadata": {},
   "outputs": [],
   "source": []
  },
  {
   "cell_type": "code",
   "execution_count": null,
   "metadata": {},
   "outputs": [],
   "source": []
  }
 ],
 "metadata": {
  "accelerator": "TPU",
  "colab": {
   "collapsed_sections": [],
   "name": "DM_Project.ipynb",
   "provenance": []
  },
  "kernelspec": {
   "display_name": "Python 3",
   "language": "python",
   "name": "python3"
  },
  "language_info": {
   "codemirror_mode": {
    "name": "ipython",
    "version": 3
   },
   "file_extension": ".py",
   "mimetype": "text/x-python",
   "name": "python",
   "nbconvert_exporter": "python",
   "pygments_lexer": "ipython3",
   "version": "3.7.3"
  }
 },
 "nbformat": 4,
 "nbformat_minor": 1
}
