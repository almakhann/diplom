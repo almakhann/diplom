{
 "cells": [
  {
   "cell_type": "code",
   "execution_count": 1,
   "metadata": {},
   "outputs": [
    {
     "name": "stderr",
     "output_type": "stream",
     "text": [
      "Using TensorFlow backend.\n"
     ]
    }
   ],
   "source": [
    "import tensorflow as tf\n",
    "from tensorflow.keras.models import Sequential, load_model\n",
    "from tensorflow.keras.layers import Dense, Input, Dropout, Flatten, LSTM\n",
    "\n",
    "from sklearn.preprocessing import LabelEncoder, MinMaxScaler\n",
    "from sklearn.utils import shuffle\n",
    "\n",
    "import pandas as pd\n",
    "import numpy as np\n",
    "import matplotlib.pyplot as plt\n",
    "import seaborn as sn\n",
    "\n",
    "import sklearn.metrics as metrics\n",
    "from sklearn.metrics import confusion_matrix, classification_report\n",
    "from sklearn.model_selection import train_test_split\n",
    "\n",
    "from sklearn.svm import SVC\n",
    "from sklearn.neighbors import KNeighborsClassifier\n",
    "from sklearn.ensemble import RandomForestClassifier\n",
    "\n",
    "from sklearn.preprocessing import MinMaxScaler\n",
    "from sklearn.model_selection import GridSearchCV\n",
    "\n",
    "from sklearn.decomposition import PCA\n",
    "from sklearn.discriminant_analysis import LinearDiscriminantAnalysis as LDA\n",
    "\n",
    "import pickle\n",
    "from keras.models import load_model"
   ]
  },
  {
   "cell_type": "code",
   "execution_count": 2,
   "metadata": {},
   "outputs": [],
   "source": [
    "SEED = 42\n",
    "np.random.seed(SEED)\n",
    "tf.random.set_seed(SEED)"
   ]
  },
  {
   "cell_type": "code",
   "execution_count": 3,
   "metadata": {},
   "outputs": [],
   "source": [
    "LABELS = [\n",
    "    \"WALKING\",\n",
    "    \"WALKING_UPSTAIRS\",\n",
    "    \"WALKING_DOWNSTAIRS\",\n",
    "    \"SITTING\",\n",
    "    \"STANDING\",\n",
    "    \"LAYING\"\n",
    "]"
   ]
  },
  {
   "cell_type": "markdown",
   "metadata": {},
   "source": [
    "# Loading and preprocessing the raw data to a .csv file-"
   ]
  },
  {
   "cell_type": "code",
   "execution_count": 4,
   "metadata": {},
   "outputs": [],
   "source": [
    "# # The data is given in the form of .txt files. Here we convert the data into a .csv file \n",
    "# # and save it under the 'train' and 'test' directories for further use. Also the data here is \n",
    "# # arranged according to the subject ID. Therefore to break any correlation that may exists \n",
    "# # between the datapoints, we shuffle the dataset before dividing it into public and private \n",
    "# # datasets to be used in the Neural Network model.\n",
    "# features = []\n",
    "# with open(\"./UCI HAR Dataset/features.txt\") as file:\n",
    "#     for line in file:\n",
    "#         features.append(line.split()[1])\n",
    "        \n",
    "# # Renaming duplicate column names\n",
    "# names = []\n",
    "# count = {}\n",
    "# for feature in features:\n",
    "#     if(features.count(feature) > 1):\n",
    "#         names.append(feature)\n",
    "# for name in names:\n",
    "#     count[name] = features.count(name)\n",
    "\n",
    "# for i in range(len(features)):\n",
    "#     if(features[i] in names):\n",
    "#         num = count[features[i]]\n",
    "#         count[features[i]] -= 1;\n",
    "#         features[i] = str(features[i] + str(num))\n",
    "        \n",
    "# train_df = pd.read_csv(\"./UCI HAR Dataset/train/X_train.txt\", delim_whitespace = True,names= features)\n",
    "# train_df['subject_id'] = pd.read_csv(\"./UCI HAR Dataset/train/subject_train.txt\",header= None,squeeze=True)\n",
    "# train_df[\"activity\"] = pd.read_csv(\"./UCI HAR Dataset/train/y_train.txt\", header = None, squeeze = True)\n",
    "# activity = pd.read_csv(\"./UCI HAR Dataset/train/y_train.txt\", header = None, squeeze = True)\n",
    "# label_name = activity.map({1: \"WALKING\", 2:\"WALKING_UPSTAIRS\", 3:\"WALKING_DOWNSTAIRS\", 4:\"SITTING\", 5:\"STANDING\", 6:\"LYING\"})\n",
    "# train_df[\"activity_name\"] = label_name\n",
    "# train_df.head()"
   ]
  },
  {
   "cell_type": "code",
   "execution_count": 5,
   "metadata": {},
   "outputs": [],
   "source": [
    "# test_df = pd.read_csv(\"./UCI HAR Dataset/test/X_test.txt\", delim_whitespace = True, names = features)\n",
    "# test_df['subject_id'] = pd.read_csv(\"./UCI HAR Dataset/test/subject_test.txt\",header= None,squeeze=True)\n",
    "# test_df[\"activity\"] = pd.read_csv(\"./UCI HAR Dataset/test/y_test.txt\", header = None, squeeze = True)\n",
    "# activity = pd.read_csv(\"./UCI HAR Dataset/test/y_test.txt\", header = None, squeeze = True)\n",
    "# label_name = activity.map({1: \"WALKING\", 2:\"WALKING_UPSTAIRS\", 3:\"WALKING_DOWNSTAIRS\", 4:\"SITTING\", 5:\"STANDING\", 6:\"LYING\"})\n",
    "# test_df[\"activity_name\"] = label_name\n",
    "# test_df.head()"
   ]
  },
  {
   "cell_type": "markdown",
   "metadata": {},
   "source": [
    "# Saving train and test data to a resuable .csv file-"
   ]
  },
  {
   "cell_type": "code",
   "execution_count": 6,
   "metadata": {},
   "outputs": [],
   "source": [
    "# train_df = shuffle(train_df)\n",
    "# test_df = shuffle(test_df)\n",
    "# train_df.to_csv(\"./UCI HAR Dataset/train/train.csv\", index = False)\n",
    "# test_df.to_csv(\"./UCI HAR Dataset/test/test.csv\", index = False)"
   ]
  },
  {
   "cell_type": "markdown",
   "metadata": {},
   "source": [
    "# Loading the data from the .csv file-"
   ]
  },
  {
   "cell_type": "code",
   "execution_count": 7,
   "metadata": {},
   "outputs": [],
   "source": [
    "train_df = pd.read_csv('./UCI HAR Dataset/train/train.csv')\n",
    "test_df = pd.read_csv('./UCI HAR Dataset/test/test.csv')\n",
    "train_df['activity'] -= 1;\n",
    "test_df['activity'] -= 1;\n",
    "\n",
    "y_train = train_df['activity']\n",
    "X_train = train_df.drop(['activity','activity_name','subject_id'],axis=1)\n",
    "y_test = test_df['activity']\n",
    "X_test = test_df.drop(['activity','activity_name','subject_id'],axis=1)"
   ]
  },
  {
   "cell_type": "code",
   "execution_count": 8,
   "metadata": {},
   "outputs": [
    {
     "data": {
      "text/plain": [
       "((7352, 561), (7352,), (2947, 561), (2947,))"
      ]
     },
     "execution_count": 8,
     "metadata": {},
     "output_type": "execute_result"
    }
   ],
   "source": [
    "X_train.shape, y_train.shape, X_test.shape, y_test.shape"
   ]
  },
  {
   "cell_type": "code",
   "execution_count": 9,
   "metadata": {},
   "outputs": [],
   "source": [
    "# X_train = pd.concat([X_train,X_test], axis = 0)\n",
    "# y_train = pd.concat([y_train,y_test], axis = 0)\n",
    "\n",
    "# X_train.shape, y_train.shape"
   ]
  },
  {
   "cell_type": "code",
   "execution_count": null,
   "metadata": {},
   "outputs": [],
   "source": []
  },
  {
   "cell_type": "code",
   "execution_count": null,
   "metadata": {},
   "outputs": [],
   "source": []
  },
  {
   "cell_type": "code",
   "execution_count": null,
   "metadata": {},
   "outputs": [],
   "source": []
  },
  {
   "cell_type": "code",
   "execution_count": 10,
   "metadata": {},
   "outputs": [],
   "source": [
    "def results(clf, trainX, trainY ,X, y_true): \n",
    "    clf.fit(trainX, trainY.values.ravel())\n",
    "    \n",
    "    X_test_values = X\n",
    "    y_predicted = clf.predict(X_test_values)\n",
    "    print(classification_report(y_true, y_predicted))\n",
    "\n",
    "    array = confusion_matrix(y_true, y_predicted)\n",
    "    df_cm = pd.DataFrame(array, index = [i for i in LABELS],\n",
    "                    columns = [i for i in LABELS])\n",
    "#     plt.figure(figsize = (10,7))\n",
    "#     sn.heatmap(df_cm, annot=True, cmap=\"BuPu\",fmt='g')\n",
    "    \n",
    "   \n",
    "    recall = metrics.recall_score(y_true, y_predicted, average='macro' )\n",
    "    precision = metrics.precision_score(y_true, y_predicted, average='macro' )\n",
    "    f_score = metrics.f1_score(y_true, y_predicted, average=\"macro\") \n",
    "    acc = metrics.accuracy_score(y_true, y_predicted)\n",
    "    \n",
    "    print(round(recall,4) * 100, 'Recall')\n",
    "    print(round(precision, 4)*100, 'pre')\n",
    "    print(round(f_score, 4)*100, \"fscore\")\n",
    "    print(round(acc, 4) *100, 'acc')"
   ]
  },
  {
   "cell_type": "markdown",
   "metadata": {},
   "source": [
    "# Dimensionality Reduction"
   ]
  },
  {
   "cell_type": "markdown",
   "metadata": {},
   "source": [
    "## PCA"
   ]
  },
  {
   "cell_type": "code",
   "execution_count": 11,
   "metadata": {},
   "outputs": [
    {
     "data": {
      "image/png": "[encoded data removed]",
      "text/plain": [
       "<Figure size 432x288 with 1 Axes>"
      ]
     },
     "metadata": {
      "needs_background": "light"
     },
     "output_type": "display_data"
    }
   ],
   "source": [
    "pca = PCA().fit(X_train)\n",
    "n_pcs= pca.components_.shape[0]\n",
    "\n",
    "\n",
    "most_important = [np.abs(pca.components_[i]).argmax() for i in range(n_pcs)]\n",
    "\n",
    "\n",
    "temp = []\n",
    "for  i in most_important:\n",
    "    if i not in temp:\n",
    "        temp.append(i)\n",
    "        \n",
    "\n",
    "most_important = temp\n",
    "\n",
    "most_important = most_important[:200]\n",
    "\n",
    "\n",
    "\n",
    "# Plotting the Cumulative Summation of the Explained Variance\n",
    "plt.figure()\n",
    "plt.plot(np.cumsum(pca.explained_variance_ratio_))\n",
    "plt.xlabel('Number of Components')\n",
    "plt.ylabel('Variance (%)') #for each component\n",
    "plt.title('HAR FEATURE Explained Variance')\n",
    "plt.show()"
   ]
  },
  {
   "cell_type": "code",
   "execution_count": 12,
   "metadata": {},
   "outputs": [],
   "source": [
    "# most_important"
   ]
  },
  {
   "cell_type": "code",
   "execution_count": 13,
   "metadata": {},
   "outputs": [],
   "source": [
    "# ratio = np.cumsum(pca.explained_variance_ratio_)\n",
    "# for i in range(len(ratio)):\n",
    "#     print(i, ratio[i])"
   ]
  },
  {
   "cell_type": "code",
   "execution_count": 14,
   "metadata": {},
   "outputs": [],
   "source": [
    "X_train_pca = X_train.iloc[:,most_important]\n",
    "X_test_pca = X_test.iloc[:,most_important]"
   ]
  },
  {
   "cell_type": "code",
   "execution_count": 15,
   "metadata": {},
   "outputs": [],
   "source": [
    "# sorted(list(X_train_pca.columns))[::-1]"
   ]
  },
  {
   "cell_type": "code",
   "execution_count": 16,
   "metadata": {},
   "outputs": [],
   "source": [
    "# with open('most_important_feature.txt', 'w') as file:\n",
    "#     for i in most_important:\n",
    "#         file.writelines([str(i),'\\n'])"
   ]
  },
  {
   "cell_type": "code",
   "execution_count": 17,
   "metadata": {},
   "outputs": [],
   "source": [
    "# len(set(most_important))"
   ]
  },
  {
   "cell_type": "markdown",
   "metadata": {},
   "source": [
    "### Models"
   ]
  },
  {
   "cell_type": "code",
   "execution_count": 18,
   "metadata": {},
   "outputs": [
    {
     "name": "stdout",
     "output_type": "stream",
     "text": [
      "              precision    recall  f1-score   support\n",
      "\n",
      "           0       0.96      0.99      0.98       496\n",
      "           1       0.97      0.96      0.97       471\n",
      "           2       0.98      0.95      0.97       420\n",
      "           3       0.95      0.90      0.93       491\n",
      "           4       0.92      0.96      0.94       532\n",
      "           5       1.00      1.00      1.00       537\n",
      "\n",
      "    accuracy                           0.96      2947\n",
      "   macro avg       0.96      0.96      0.96      2947\n",
      "weighted avg       0.96      0.96      0.96      2947\n",
      "\n",
      "96.13000000000001 Recall\n",
      "96.28 pre\n",
      "96.17999999999999 fscore\n",
      "96.2 acc\n"
     ]
    }
   ],
   "source": [
    "#SVM\n",
    "\n",
    "svm = SVC(C = 10, gamma = 0.01, kernel = 'rbf')\n",
    "results(svm, X_train_pca, y_train ,X_test_pca, y_test)"
   ]
  },
  {
   "cell_type": "code",
   "execution_count": 19,
   "metadata": {},
   "outputs": [],
   "source": [
    "# svc_param_selection(X_train_pca, y_train, 5)\n",
    "\n",
    "# import pickle\n",
    "# import sys\n",
    "\n",
    "# p = pickle.dumps(svm)\n",
    "# print(sys.getsizeof(p))"
   ]
  },
  {
   "cell_type": "code",
   "execution_count": 20,
   "metadata": {},
   "outputs": [
    {
     "name": "stdout",
     "output_type": "stream",
     "text": [
      "              precision    recall  f1-score   support\n",
      "\n",
      "           0       0.87      0.99      0.93       496\n",
      "           1       0.91      0.90      0.91       471\n",
      "           2       0.98      0.84      0.91       420\n",
      "           3       0.92      0.76      0.83       491\n",
      "           4       0.81      0.95      0.87       532\n",
      "           5       0.99      0.97      0.98       537\n",
      "\n",
      "    accuracy                           0.91      2947\n",
      "   macro avg       0.91      0.90      0.90      2947\n",
      "weighted avg       0.91      0.91      0.90      2947\n",
      "\n",
      "90.22 Recall\n",
      "91.39 pre\n",
      "90.41 fscore\n",
      "90.57 acc\n"
     ]
    }
   ],
   "source": [
    "#KNN\n",
    "\n",
    "knn = KNeighborsClassifier(metric= 'manhattan', n_neighbors = 15, weights = 'distance')\n",
    "results(knn, X_train_pca, y_train ,X_test_pca, y_test)"
   ]
  },
  {
   "cell_type": "code",
   "execution_count": 21,
   "metadata": {},
   "outputs": [],
   "source": [
    "# knn_param_selection(X_train_pca, y_train, 5)"
   ]
  },
  {
   "cell_type": "code",
   "execution_count": 22,
   "metadata": {},
   "outputs": [
    {
     "name": "stdout",
     "output_type": "stream",
     "text": [
      "              precision    recall  f1-score   support\n",
      "\n",
      "           0       0.96      0.98      0.97       496\n",
      "           1       0.92      0.97      0.94       471\n",
      "           2       0.96      0.89      0.93       420\n",
      "           3       0.95      0.84      0.89       491\n",
      "           4       0.87      0.96      0.91       532\n",
      "           5       1.00      1.00      1.00       537\n",
      "\n",
      "    accuracy                           0.94      2947\n",
      "   macro avg       0.94      0.94      0.94      2947\n",
      "weighted avg       0.94      0.94      0.94      2947\n",
      "\n",
      "93.94 Recall\n",
      "94.39999999999999 pre\n",
      "94.04 fscore\n",
      "94.16 acc\n"
     ]
    }
   ],
   "source": [
    "#RF\n",
    "\n",
    "rf = RandomForestClassifier(max_features= 'sqrt', min_samples_split= 6, n_estimators = 50)\n",
    "results(rf, X_train_pca, y_train ,X_test_pca, y_test)"
   ]
  },
  {
   "cell_type": "code",
   "execution_count": null,
   "metadata": {},
   "outputs": [],
   "source": [
    "# rf_param_selection(X_train_pca, y_train, 5)"
   ]
  },
  {
   "cell_type": "code",
   "execution_count": null,
   "metadata": {},
   "outputs": [],
   "source": [
    "#LSTM"
   ]
  },
  {
   "cell_type": "code",
   "execution_count": null,
   "metadata": {},
   "outputs": [],
   "source": []
  },
  {
   "cell_type": "code",
   "execution_count": null,
   "metadata": {},
   "outputs": [],
   "source": [
    "X_train_lstm = np.reshape(X_train_pca.values, (X_train_pca.shape[0], 1, X_train_pca.shape[1]))\n",
    "X_test_lstm = np.reshape(X_test_pca.values, (X_test_pca.shape[0], 1, X_test_pca.shape[1]))"
   ]
  },
  {
   "cell_type": "code",
   "execution_count": null,
   "metadata": {},
   "outputs": [],
   "source": [
    "def LSTM_Model(trainX, trainY, testX, testY):\n",
    "    n_steps = 16\n",
    "    n_feature = 1\n",
    "    verbose, epochs, batch_size = 0, 50, 64\n",
    "\n",
    "    lstm = Sequential()\n",
    "    lstm.add(LSTM(units= trainX.shape[0], input_shape=(n_feature, n_steps) ))\n",
    "    lstm.add(Dense(128, activation='relu'))\n",
    "    lstm.add(Dropout(0.2))\n",
    "    lstm.add(Dense(64, activation='relu'))\n",
    "#     lstm.add(Dropout(0.2))\n",
    "#     lstm.add(Dense(64, activation='relu'))\n",
    "    lstm.add(Dense(6, activation='softmax'))\n",
    "\n",
    "    print(lstm.summary())\n",
    "\n",
    "    lstm.compile(loss='sparse_categorical_crossentropy', optimizer='adam', metrics=['accuracy'])\n",
    "    \n",
    "    \n",
    "    lstm.fit(trainX, trainY, epochs=epochs, batch_size=batch_size, verbose=verbose)\n",
    "\n",
    "\n",
    "    _, accuracy = lstm.evaluate(testX, testY, batch_size=batch_size, verbose=0)\n",
    "    \n",
    "    y_pred = lstm.predict(testX)\n",
    "    y_pred = np.argmax(y_pred,axis=1)\n",
    "    \n",
    "    recall = metrics.recall_score(testY, y_pred, average='macro' )\n",
    "    precision = metrics.precision_score(testY, y_pred, average='macro' )\n",
    "    f_score = metrics.f1_score(testY, y_pred, average=\"macro\") \n",
    "\n",
    "    print(round(recall,4) * 100, 'Recall')\n",
    "    print(round(precision, 4)*100, 'pre')\n",
    "    print(round(f_score, 4)*100, \"fscore\")\n",
    "    print('Accuracy is: ', metrics.accuracy_score(testY, y_pred))\n",
    "    \n",
    "    array = confusion_matrix(testY, y_pred)\n",
    "    \n",
    "    df_cm = pd.DataFrame(array, index = [i for i in LABELS],\n",
    "                    columns = [i for i in LABELS])\n",
    "    \n",
    "    plt.figure(figsize = (10,7))\n",
    "    sn.heatmap(df_cm, annot=True, cmap=\"BuPu\",fmt='g')\n",
    "\n",
    "    return accuracy, lstm\n",
    "\n",
    "accuracy, lstm = LSTM_Model(X_train_lstm, y_train, X_test_lstm, y_test)"
   ]
  },
  {
   "cell_type": "markdown",
   "metadata": {},
   "source": [
    "## LDA"
   ]
  },
  {
   "cell_type": "code",
   "execution_count": 23,
   "metadata": {},
   "outputs": [],
   "source": [
    "lda = LDA(n_components=None)\n",
    "\n",
    "lda = lda.fit(X_train_pca, y_train.values.ravel())\n",
    "\n",
    "X_train_lda = lda.transform(X_train_pca)   \n",
    "X_test_lda = lda.transform(X_test_pca) \n"
   ]
  },
  {
   "cell_type": "code",
   "execution_count": 24,
   "metadata": {},
   "outputs": [
    {
     "name": "stdout",
     "output_type": "stream",
     "text": [
      "[[-5.16540684e+00  3.83588114e+00  6.93502199e-02  1.34840627e+00\n",
      "  -1.01308417e+00]\n",
      " [-4.00874186e-01  1.67695549e-01  1.99572024e-01 -2.28538787e-01\n",
      "   1.95390231e-01]\n",
      " [-4.47063979e+00 -6.47387428e+00  6.83393852e-02  1.63215466e+00\n",
      "  -1.41561227e+00]\n",
      " [-2.34012081e-02 -3.03232548e-02 -9.65822727e-02  2.97261213e-02\n",
      "   6.77159191e-02]\n",
      " [ 1.06638479e-01 -3.77836545e-02  4.78369348e-02  4.65188251e-02\n",
      "  -2.18203939e-01]\n",
      " [-2.23882387e-02  9.23875408e-02 -4.37688824e-02  1.17542921e-01\n",
      "  -3.93567272e-01]\n",
      " [ 1.88043774e-02  5.71682324e-02 -1.28477239e-01 -1.33273890e-01\n",
      "  -8.50901484e-02]\n",
      " [ 1.87815366e-01 -1.95279125e-01 -3.06341329e-01 -2.24845474e-01\n",
      "  -2.78946067e-01]\n",
      " [-4.24152353e-02  5.87088796e-03 -4.26854808e-03  4.28141349e-02\n",
      "  -1.39487226e-01]\n",
      " [-6.06749211e-02  8.66365918e-03  6.45382472e-03 -2.77047678e-02\n",
      "  -5.07692520e-02]\n",
      " [ 3.78609377e-02 -1.30107061e-01 -1.14251304e-01 -7.11470275e-02\n",
      "   2.73243547e-01]\n",
      " [-8.56107552e-03 -3.23415982e-01 -6.54039673e-02  1.91819835e-01\n",
      "  -3.86915132e-01]\n",
      " [ 4.97186615e-01 -1.83155026e-01  3.88218701e-01  5.19702116e-01\n",
      "   1.18948360e+00]\n",
      " [-2.87365631e-01 -1.61965755e-02 -2.94152753e-01 -3.57424835e-01\n",
      "  -1.77956306e+00]\n",
      " [ 3.27965971e-01  2.92816096e-01  3.39269057e-01 -3.79148665e-01\n",
      "   7.12876336e-01]\n",
      " [-1.76389162e+00 -2.62049057e+00  1.31310041e-01 -7.07523097e-02\n",
      "   3.99283257e-01]\n",
      " [ 8.75765224e-01  3.19694888e-01 -1.41025434e+00  2.06003322e+00\n",
      "   3.33098919e-01]\n",
      " [ 7.96147066e-01  7.51016909e-02  1.69837680e+00 -9.34602817e-01\n",
      "  -2.53537365e-01]\n",
      " [-2.22195989e-01  1.33806132e-02 -3.35900189e-01  1.37970146e-02\n",
      "   3.51800420e-02]\n",
      " [-5.51262272e-01  5.93963828e-01 -6.95140928e-01 -9.45219674e-01\n",
      "   1.68053752e+00]\n",
      " [-7.24685026e-02 -4.07985760e-02 -1.12576845e-01 -1.19032130e-01\n",
      "   5.56435717e-01]\n",
      " [-3.57667867e-01  1.43647300e-02 -1.41126105e-01  2.37757834e-01\n",
      "   3.73283028e-01]\n",
      " [-1.67385767e-02 -5.21740068e-02  8.54368657e-03  1.02721102e-01\n",
      "   2.09128305e-01]\n",
      " [-4.08279315e-01 -4.93889323e-01 -1.14875512e+00 -1.87041319e+00\n",
      "   8.24358738e-01]\n",
      " [ 4.31994279e-02 -6.45330921e-02  6.07427141e-02 -3.89594038e-01\n",
      "  -5.33379529e-02]\n",
      " [-1.12919393e-01  8.09763899e-02 -2.05859493e-01 -2.84340418e-01\n",
      "  -5.38520089e-01]\n",
      " [-8.78054481e-02 -3.49945313e-01  3.69948248e-01 -2.58056119e-01\n",
      "  -4.70227216e-01]\n",
      " [ 7.89722509e-02 -2.87128836e-03  4.72716848e-01  1.86761688e-01\n",
      "   9.83960607e-02]\n",
      " [ 4.99578810e-01 -1.75417205e-01  8.09428715e-02 -4.68906350e-01\n",
      "  -7.53276061e-02]\n",
      " [-2.13772858e-01  3.46548007e-01  4.65534150e-01  3.82594698e-01\n",
      "   1.35636962e-01]\n",
      " [ 2.81879536e-01  3.14099779e-01 -3.49606560e-01 -2.75274907e-01\n",
      "  -3.59393073e-01]\n",
      " [ 2.05943749e-01 -4.36308817e-02 -3.48839721e-02 -5.01012239e-02\n",
      "   1.56771729e-01]\n",
      " [ 1.70927770e-01  2.11093021e-01 -1.45212737e-01 -5.66254671e-01\n",
      "  -1.04981894e+00]\n",
      " [ 2.02810752e-01 -7.25577693e-02 -2.43589160e-02  3.00127637e-01\n",
      "  -5.03542272e-01]\n",
      " [ 3.77890308e-01  4.90832863e-02 -7.15355513e-01  2.29294960e-01\n",
      "   9.36756713e-02]\n",
      " [ 1.13324801e-01 -1.78003772e-01  3.91699142e-01 -4.28537646e-01\n",
      "   1.26360717e-01]\n",
      " [-9.63156308e-02 -2.27361496e-02  9.78779972e-02  1.28523954e-01\n",
      "  -1.31690558e-01]\n",
      " [ 1.43223478e-01 -4.44857315e-02 -2.76913690e-02  2.99175445e-01\n",
      "   1.63618541e-01]\n",
      " [-6.06433528e-02  1.43921129e-02 -3.80437442e-01 -7.61208864e-01\n",
      "  -8.86004560e-01]\n",
      " [-7.37845007e-03  4.43726701e-01 -2.19975817e-01  3.44936546e-02\n",
      "   2.12421441e-01]\n",
      " [-2.25246585e-01  2.25101042e-02  2.55684630e-01 -6.43162987e-01\n",
      "   2.63492181e-01]\n",
      " [ 4.53138721e-01  6.46960332e-02  2.80640169e-01 -4.70104451e-01\n",
      "  -6.45904665e-01]\n",
      " [ 1.48662960e-01  2.04175025e-02 -2.72212502e-01  1.54108125e-01\n",
      "   1.08255517e-01]\n",
      " [ 2.87492242e-01 -1.85237048e-01 -3.24362369e-01  1.03690289e+00\n",
      "  -2.76990539e-01]\n",
      " [-2.09694992e-03  9.20926786e-02  9.91207150e-02 -1.46925489e-01\n",
      "  -5.98585182e-02]\n",
      " [-4.73675529e-02 -9.56854459e-02  1.64793112e-02  2.91146802e-01\n",
      "   1.48071437e-01]\n",
      " [ 9.45977405e-02  2.20282543e-02 -9.30726861e-03 -1.82166841e-01\n",
      "  -4.01909768e-02]\n",
      " [-2.56165877e-02  1.93248854e-01 -4.96667897e-03  1.72317058e-01\n",
      "  -1.29447091e-01]\n",
      " [-1.74008615e-01  2.73259696e-01  5.90120563e-01 -1.32415415e-01\n",
      "  -2.93210484e-01]\n",
      " [ 1.23898776e-01  3.86480518e-01 -1.25180889e-01 -5.19402986e-01\n",
      "   2.06066458e-01]\n",
      " [ 2.25574170e-01  3.58432004e-01 -4.26464860e-01 -1.58530918e-01\n",
      "   3.05607639e-01]\n",
      " [ 1.11626477e+00 -6.75136530e-01  1.10558978e+00  4.22767821e-02\n",
      "  -5.21900880e-01]\n",
      " [-7.38123394e-01  5.00550147e-01  4.22335465e-01  6.30619384e-02\n",
      "   5.89747347e-01]\n",
      " [-2.71775943e-01  4.84243646e-01  3.37611958e-01 -7.15421174e-01\n",
      "   7.59850486e-01]\n",
      " [-8.22240509e-02  4.13425531e-02 -1.15189400e-02  9.48374697e-02\n",
      "   1.87441991e-01]\n",
      " [-1.26057411e-01  8.50010324e-02 -8.65058797e-02 -7.96563519e-02\n",
      "   2.83191852e-01]\n",
      " [-4.12894146e-02  1.24738543e-01  6.01593482e-01 -1.13574832e+00\n",
      "  -7.72559339e-02]\n",
      " [ 1.22755302e-01 -1.32865311e-01 -1.63855298e-01  3.02211124e-01\n",
      "  -5.87352166e-02]\n",
      " [-1.80323150e-01  4.10919979e-03  5.54507039e-01  7.21199004e-02\n",
      "   7.76349033e-02]\n",
      " [ 1.92957049e-01 -2.75184217e-01 -2.20369436e-01 -1.89112358e-01\n",
      "  -1.21580502e-01]\n",
      " [-2.21077171e-01  5.43650221e-03 -3.00641564e-01  1.64330940e-01\n",
      "   1.04393709e+00]\n",
      " [-4.24620202e-02  3.34208230e-02  1.85167316e-02  5.03954299e-02\n",
      "   3.56696390e-02]\n",
      " [-1.75592513e-01 -2.04703927e-01  4.07154137e-01 -2.79755683e-01\n",
      "   4.04736378e-01]\n",
      " [-2.53009535e-01  1.89520884e-01  1.43109360e-01 -7.82066954e-02\n",
      "   2.31487061e-01]\n",
      " [ 1.27649191e-01  1.74040394e-02  1.46279936e-01 -1.25138080e-01\n",
      "   1.22018603e-01]\n",
      " [-3.28162994e-01 -1.79463548e-01  1.15257698e-01 -5.12096884e-01\n",
      "  -2.10630615e-01]\n",
      " [-4.24222808e-01  2.36292618e-01  5.48973383e-01 -5.36400985e-02\n",
      "  -8.39682564e-02]\n",
      " [ 1.08363379e-01 -1.52209265e-01  3.03591394e-01  3.47214615e-01\n",
      "  -1.37231221e-02]\n",
      " [-4.09443682e-01 -3.64507793e-01 -4.38819552e-02  3.27467760e-01\n",
      "   1.11729131e+00]\n",
      " [ 2.30497457e-02 -3.75823671e-01  6.07976455e-01 -4.22615662e-01\n",
      "   5.16388047e-01]\n",
      " [ 6.62540006e-02  3.65246585e-02  1.87315492e-01 -1.61490797e-01\n",
      "  -1.63531196e-01]\n",
      " [ 7.29441562e-02 -2.99553680e-02  4.77291789e-02 -6.36313468e-02\n",
      "  -1.31771546e-01]\n",
      " [-1.48192179e-02  1.17343205e-02  8.46910480e-01 -5.96240874e-01\n",
      "  -2.85340526e-01]\n",
      " [ 4.10167124e-02 -4.36283263e-03 -8.83197078e-02  3.34841899e-01\n",
      "   9.51122647e-02]\n",
      " [ 1.93225234e-01 -2.20038762e-01 -6.61085528e-02 -5.29889526e-01\n",
      "  -3.01060724e-01]\n",
      " [-5.30462959e-02  2.25328781e-01 -6.62366064e-01 -1.17371056e-01\n",
      "   1.06743895e-01]\n",
      " [-6.90849868e-02 -2.23844297e-02  3.23847096e-01 -1.03936860e-01\n",
      "  -1.59966621e-01]\n",
      " [ 1.05095596e-01 -4.19531810e-02  3.35296907e-01 -2.34930931e-01\n",
      "  -2.11613803e-02]\n",
      " [ 1.89804755e-01 -4.88201758e-03 -4.02269973e-01  1.73406641e-01\n",
      "  -1.49713634e-02]\n",
      " [-4.70165902e-01  3.31995670e-01 -2.82590878e+00 -2.07520705e+00\n",
      "   2.46941917e-01]\n",
      " [ 2.01998895e-02 -1.57732367e-01 -2.21432213e-01 -8.56626679e-02\n",
      "  -1.41691689e-01]\n",
      " [-3.69216179e-02 -4.54953672e-02  3.38938278e-01  1.84735545e-01\n",
      "  -9.16210808e-01]\n",
      " [-3.80110425e-01  1.24859083e-02  1.61748184e-01 -4.62687532e-01\n",
      "  -3.81404119e-02]\n",
      " [ 8.53966289e-02 -9.97714352e-02  9.63702681e-02 -1.21484662e-01\n",
      "   2.68421459e-01]\n",
      " [-6.30642453e-01  5.01090145e-01 -3.49375338e-03  2.22891751e-01\n",
      "  -4.10486576e+00]\n",
      " [ 3.36300959e-01 -1.04112032e-01  3.12068881e-01 -3.98641660e-01\n",
      "   1.40227065e-01]\n",
      " [ 1.12534987e+00 -4.58980603e-01  1.91150151e-01 -2.37000648e-01\n",
      "   5.69076377e-01]\n",
      " [-1.06935201e-03  6.20187346e-03  1.67148617e-01 -6.27952248e-02\n",
      "   8.67983830e-01]\n",
      " [-3.33567679e-01  2.16139935e-01  6.05455018e-01 -2.67534343e-01\n",
      "   1.51627821e-01]\n",
      " [-3.08616864e-01 -2.18792589e-01  8.19328242e-01  2.54507622e+00\n",
      "  -6.17894084e-01]\n",
      " [-6.56709171e-02 -1.05191817e-01 -1.36198330e+00 -3.14491230e-01\n",
      "  -4.12407785e-01]\n",
      " [-1.02822249e-01  7.60731374e-02  5.31813553e-01 -7.20407955e-02\n",
      "  -1.29425666e-01]\n",
      " [-1.57220874e-01  2.50192709e-01 -3.82381255e-01  3.51766883e-01\n",
      "  -3.20184542e-02]\n",
      " [-3.00288753e-01  2.96783166e-01 -1.13999978e+00 -5.85460806e-01\n",
      "   1.11294658e+00]\n",
      " [ 1.07696998e-02  1.93038245e-01  1.25148654e-01 -7.23570641e-02\n",
      "   1.21780466e-01]\n",
      " [-7.19837074e-01  8.20099715e-01  2.75354375e+00  8.92676277e-01\n",
      "   1.45240598e+00]\n",
      " [-1.09944589e+00  3.51639551e-01  5.22836449e-01  1.41487394e+00\n",
      "  -2.06124775e-02]\n",
      " [ 2.28032708e-02 -2.62619536e-01 -2.61044833e-01  2.91667468e-01\n",
      "   2.32323637e-01]\n",
      " [ 6.14369561e-01 -2.16929350e-01 -1.18171319e+00 -5.20057934e-01\n",
      "   5.18626377e-01]\n",
      " [ 8.61155791e-01  9.94429565e-02 -1.13111881e-01  4.89487150e-01\n",
      "  -9.24565086e-02]\n",
      " [ 1.58592562e+00 -1.46376437e+00  8.18904032e-01 -3.63346714e-01\n",
      "   1.28749478e+00]\n",
      " [-9.47467777e-01  8.51642981e-01 -3.18348555e-01  2.48041306e-01\n",
      "   2.79701946e-01]\n",
      " [-1.89597557e-01  3.51383675e-02  5.24357616e-01  3.54697789e-01\n",
      "   7.91726043e-01]\n",
      " [ 1.10242887e-01 -4.17037595e-02 -6.27995683e-02  5.35312663e-01\n",
      "  -1.12703806e-01]\n",
      " [ 4.29251097e-01 -3.86557488e-01  5.29045611e-01  1.37272296e+00\n",
      "  -1.89657261e+00]\n",
      " [-1.65613889e-01 -1.37562488e-01  1.82646294e-01  2.43742697e-02\n",
      "  -6.61839819e-01]\n",
      " [ 1.92365511e-01  4.95142291e-02 -4.34396951e-01  8.87360783e-01\n",
      "  -3.23480393e-01]\n",
      " [-4.77824972e-01 -5.72517115e-02  1.26370302e+00 -1.23609987e-01\n",
      "  -3.42441636e-01]\n",
      " [-5.07263487e-01  4.14738749e-01 -3.20189678e-01 -1.40363259e-01\n",
      "   5.87439208e-02]\n",
      " [ 6.48639969e-02 -3.96269728e-01 -1.29683472e+00  7.95127415e-01\n",
      "  -1.19927506e-01]\n",
      " [-1.91032119e-01  1.32778681e-02 -1.76213918e-01 -3.02924073e-01\n",
      "  -2.11534345e-02]\n",
      " [ 7.45245008e-01 -3.39400501e-01 -1.20968812e-01  2.80940845e-01\n",
      "   6.64608562e-01]\n",
      " [-1.86579174e-01  2.56904496e-01  9.95358992e-01 -2.44064766e-01\n",
      "   2.32852652e-01]\n",
      " [-3.02042282e-01  3.06829670e-01  5.95239955e-01 -1.18663092e-01\n",
      "   1.15252288e-01]\n",
      " [ 9.02988557e-01 -1.35172060e+00 -7.56123993e-01 -5.84615508e-01\n",
      "   2.27109938e-01]\n",
      " [-1.99882712e-01  4.14285602e-01 -8.18526509e-01  7.35400542e-01\n",
      "   5.01910036e-01]\n",
      " [-1.25378775e-01  6.88937356e-02 -9.25383335e-01  1.21600083e-01\n",
      "   2.71939126e-03]\n",
      " [-3.49777499e-01  4.23505896e-01 -3.54412077e-02  8.03947443e-02\n",
      "   3.59268526e-01]\n",
      " [-4.12818043e-01  4.40417466e-01 -2.19836465e+00  9.15219164e-01\n",
      "   2.23737397e-01]\n",
      " [-1.16059437e-01  2.59198340e-01 -8.29866798e-01 -2.50066817e+00\n",
      "   2.13194883e-01]\n",
      " [ 1.15630891e+00 -1.89795333e-01  6.56723614e-02  8.98702728e-02\n",
      "   1.67274630e+00]\n",
      " [-1.25401213e-01 -7.79652289e-01 -4.05112127e-01  3.63891886e+00\n",
      "  -1.65355733e-01]\n",
      " [-1.56621079e+00  1.60468174e+00  1.53844142e+00  6.98570573e-01\n",
      "   4.77980206e-01]\n",
      " [ 1.28553385e-01 -5.02903319e-01 -5.62810126e-01 -1.43051971e+00\n",
      "  -1.37782839e-01]\n",
      " [ 1.54259869e-01 -1.50923852e-01 -8.53466108e-01 -8.02559203e-01\n",
      "   4.27338461e-01]\n",
      " [-5.30594368e-01  3.26446228e-01 -4.90331632e-01  9.29514185e-01\n",
      "   8.14025706e-02]\n",
      " [-1.40675021e+00  1.68675922e+00 -4.26446132e+00  1.81130908e+00\n",
      "  -5.21987092e-01]\n",
      " [-1.90588052e-01  4.68072971e-01 -8.70586378e-01 -5.36715693e-01\n",
      "  -3.23282531e-01]\n",
      " [-7.76021152e-01  1.11310323e-01  1.57085760e+00 -1.40471737e+00\n",
      "  -6.62557059e-01]\n",
      " [-4.58130860e-02 -2.12862756e-01 -7.57298441e-01 -1.79146992e-02\n",
      "   6.24595794e-01]\n",
      " [ 1.01702941e-01  1.39058890e-01  3.18186597e-01 -7.77373240e-01\n",
      "   5.97569085e-02]\n",
      " [ 1.01833282e-01 -4.31145697e-01 -4.96409740e-01 -3.77305103e-02\n",
      "  -5.08245744e-01]\n",
      " [ 3.05524811e-01 -2.30769026e-01 -1.28987914e-01 -5.46256409e-01\n",
      "  -1.50552103e-01]\n",
      " [ 4.65725119e-01 -1.78925679e-01 -3.69301911e-01 -4.55346849e-01\n",
      "  -3.31044556e-01]\n",
      " [-1.60900767e-01 -2.04224953e-01 -5.61494431e-01  4.13551014e-01\n",
      "   1.38339423e+00]\n",
      " [ 5.49352982e-01 -4.43449169e-01  3.86963975e+00  1.68990648e+00\n",
      "  -6.20714210e-02]\n",
      " [-2.72766154e-01  6.67541379e-01 -2.96735923e-01 -2.08573890e+00\n",
      "   1.14571257e+00]\n",
      " [-1.46558266e+00  4.94203591e-01  5.27686702e-01 -1.63753668e+00\n",
      "   6.89645931e-02]\n",
      " [ 4.87844158e-01  1.68271479e-01 -1.20241212e+00 -8.58873169e-01\n",
      "  -3.72782916e-01]\n",
      " [-5.71423099e-01  3.87156765e-01  1.28326863e+00 -1.89099425e+00\n",
      "   3.95438201e-01]\n",
      " [ 1.85426239e-01  8.16881012e-03 -2.37882636e-01 -2.69347863e-01\n",
      "  -6.64251640e-01]\n",
      " [ 6.79998899e-01  5.37959754e-01  4.18144577e-02 -4.54601588e-01\n",
      "  -1.31388087e-01]\n",
      " [ 7.96842612e-01 -8.40547691e-01 -1.29056990e+00  6.15488380e-01\n",
      "  -6.22167826e-01]\n",
      " [-1.09753602e+00 -2.97348781e-01  1.79724944e-01  3.55658997e-01\n",
      "  -2.99150184e-01]\n",
      " [ 9.95700831e-01 -2.57477840e+00 -4.67948912e-01 -8.57856687e-01\n",
      "  -2.00520899e+00]\n",
      " [ 4.96197350e-01 -3.82548553e-01  9.98250006e-01 -3.01525790e-01\n",
      "   9.30016417e-02]\n",
      " [-7.02002357e-02 -8.72815237e-03  1.97170772e+00  6.88811644e-01\n",
      "  -4.24559157e-01]\n",
      " [-5.13437642e-01  2.53416409e-01  2.04190454e+00 -5.68670271e-01\n",
      "   1.66398911e+00]\n",
      " [-2.05824519e+00  1.10535421e+00  5.04390102e-01 -1.05673785e-01\n",
      "  -1.68291923e-01]\n",
      " [-5.94912269e-01  5.46403660e-01 -2.19642779e-02  4.55490283e-01\n",
      "  -9.06889476e-02]\n",
      " [ 3.99240010e-02  3.79677719e-01 -1.38163800e+00 -6.43844799e-01\n",
      "  -7.56788333e-01]\n",
      " [-1.23792220e-01  1.87489543e-01 -1.16905526e-01  1.91394666e-01\n",
      "   3.51240381e-01]\n",
      " [-1.77669294e-01  7.90573660e-02  8.21980408e-01 -3.34095814e-01\n",
      "   5.41304489e-02]\n",
      " [-6.68873820e-01  6.12055260e-01 -1.62195867e+00 -3.61823637e+00\n",
      "   1.00817399e-01]\n",
      " [-5.13955859e-01 -9.85666639e-01  2.69971211e+00  2.26636174e+00\n",
      "  -1.09780181e+00]\n",
      " [-1.13229474e+00  1.73682992e-01 -1.52430874e-01 -2.91000115e-01\n",
      "   1.43819220e+00]\n",
      " [-3.62281843e+00  2.38410144e-01 -2.12905698e+00  3.40223927e-01\n",
      "   7.14287428e-01]\n",
      " [-5.99738494e-01  3.11691732e-01 -5.61161153e-01 -1.03542798e+00\n",
      "  -1.80209541e+00]\n",
      " [-5.82109208e-01  2.73546194e-01 -6.43954441e-01 -7.44582579e-01\n",
      "   8.56770741e-01]\n",
      " [ 2.39399231e+00 -2.14117347e+00 -6.78882403e-01 -2.55719486e-01\n",
      "  -1.62958898e+00]\n",
      " [-4.08697623e-02 -1.17595896e+00  3.17179010e-01 -3.00730400e+00\n",
      "  -7.24993814e-01]\n",
      " [-1.08691771e+00  3.97420596e-01 -1.21682835e+00  2.41593984e+00\n",
      "   2.62420613e+00]\n",
      " [ 4.77112136e-02  7.88442880e-02 -1.30526484e+00  1.68843668e+00\n",
      "  -3.23401038e-01]\n",
      " [ 7.68518839e-01 -6.95391889e-01  7.45521895e-01  8.18126129e-01\n",
      "  -1.74206885e+00]\n",
      " [ 1.21584426e+00 -8.83759452e-01  1.27051091e+00 -8.79697490e-01\n",
      "  -1.96529639e+00]\n",
      " [-8.48413058e-03 -3.06443528e-01 -2.33612227e-01  1.98461381e-01\n",
      "   6.76769270e-01]\n",
      " [ 1.05602648e-02  2.68192250e-01 -4.29770495e-02 -1.64376100e-01\n",
      "  -1.03819568e+00]\n",
      " [-1.64737504e-01 -1.59459288e-01  6.59382186e-01  4.73582184e-01\n",
      "  -6.14884877e-02]\n",
      " [-6.34770841e-01 -3.01971568e-02 -2.01353116e+00  8.76045618e-01\n",
      "   3.13518550e-01]\n",
      " [-2.52147162e-01  2.02191101e-01  4.62009768e-01  2.04018230e-01\n",
      "   1.79370957e-01]\n",
      " [ 1.02056313e+00 -5.54344788e-01  3.32051384e-01 -1.30633128e+00\n",
      "   4.70823253e-01]\n",
      " [ 5.12761107e-01  5.93012340e-01  1.56108808e+00  2.33697319e+00\n",
      "  -9.76042206e-01]\n",
      " [ 2.03099751e-01  3.72256826e-01 -2.37602427e+00 -2.66064794e-01\n",
      "  -2.90107243e-01]\n",
      " [-5.45408387e-01 -5.94858582e-02 -5.42893304e-01 -1.41415841e-01\n",
      "  -4.66173919e-01]\n",
      " [-4.97185764e-01 -1.02487879e-01 -2.50507550e-01  2.00870057e+00\n",
      "  -6.51663720e-01]\n",
      " [-8.69267171e-01 -4.06408595e-01  1.51162820e+00 -2.44573276e+00\n",
      "  -2.08040381e-01]\n",
      " [ 1.04865976e+00 -3.42703673e-01  5.59596964e-01 -4.20139620e-01\n",
      "  -3.98459162e-01]\n",
      " [ 9.09658367e-01 -7.93211007e-01  3.90464368e-01 -8.85197229e-01\n",
      "   5.84802497e-01]\n",
      " [ 2.31152754e-01  1.48864156e-02 -2.06335234e+00  1.01396165e+00\n",
      "  -3.26926910e-01]\n",
      " [-3.39143073e-01  1.46039814e-01 -2.08997810e-01 -4.59338777e-01\n",
      "   4.25203642e-01]\n",
      " [ 1.58985758e-01  2.56342463e-01  1.12768695e+00  1.91080256e-01\n",
      "  -2.68949027e-01]\n",
      " [ 1.00986113e-02  4.66570699e-01 -4.18902217e+00 -1.62134624e+00\n",
      "  -2.66731953e-02]\n",
      " [ 3.61272770e-01  2.51967709e-01 -4.63686808e+00 -8.19989361e-01\n",
      "   4.03003441e-01]\n",
      " [ 1.44308146e+00 -3.03627215e-01 -2.17705395e+00  8.06115548e-01\n",
      "   3.29564987e-01]\n",
      " [ 4.66842372e-01 -1.72346237e-01  3.56650480e-01  4.62003621e-01\n",
      "   3.87448821e+00]\n",
      " [ 1.66819847e+00 -4.90685479e-01  8.03019049e-01 -3.37743625e+00\n",
      "  -2.38488499e+00]\n",
      " [ 2.02009861e+00  2.56870003e+00  4.33890676e-01  2.26763676e+00\n",
      "  -2.61077700e+00]\n",
      " [-7.95482016e-01 -3.87484008e-02  3.21989027e-01 -1.29917194e-01\n",
      "   1.74429279e-02]\n",
      " [-3.24115484e-01 -4.52036073e-01 -6.35293890e-01 -2.41507595e-01\n",
      "  -1.50761424e+00]\n",
      " [-3.37320945e-01  3.65174600e-01 -8.58616078e-02  1.95815165e+00\n",
      "   7.31794819e-01]\n",
      " [ 7.49087250e-02 -8.84339841e-01 -7.55260068e-01 -4.74188080e-01\n",
      "  -8.53324835e-01]\n",
      " [-4.22706138e-01 -3.70405572e-01  5.26507607e+00 -2.18138521e+00\n",
      "  -1.70456883e-01]\n",
      " [ 1.36695321e+00 -1.42552903e+00  3.50991644e-01  6.14036789e-01\n",
      "   2.84224957e-01]\n",
      " [ 4.11944278e-01 -2.50443947e-01  5.19236156e-02 -5.63972353e-01\n",
      "   1.87083551e-02]\n",
      " [ 5.67663679e-01 -6.19586080e-01 -5.15058138e-01 -7.61285405e-01\n",
      "  -3.59879006e-01]\n",
      " [ 1.57915988e+00 -1.04419553e+00 -5.30589225e-01  1.82839309e-01\n",
      "  -6.80882867e-02]\n",
      " [ 1.32075674e+00 -7.80683962e-01 -1.76753319e+00 -7.37437393e-02\n",
      "   5.10357172e-01]\n",
      " [ 7.87013633e-02 -1.38621042e-01 -1.12303739e+00  4.36021134e-01\n",
      "   5.58738690e-02]\n",
      " [-1.17033455e+00  1.30205466e+00  1.63017368e+00  3.39776175e-02\n",
      "  -4.97010253e-01]\n",
      " [-1.03959920e+00  8.01039364e-01  1.41715476e+00 -2.04652787e+00\n",
      "  -1.09394116e+00]]\n"
     ]
    }
   ],
   "source": [
    "print(lda.scalings_)"
   ]
  },
  {
   "cell_type": "code",
   "execution_count": 25,
   "metadata": {},
   "outputs": [
    {
     "data": {
      "text/plain": [
       "array([0.66642521, 0.24797427, 0.05113157, 0.02575691, 0.00871204])"
      ]
     },
     "execution_count": 25,
     "metadata": {},
     "output_type": "execute_result"
    }
   ],
   "source": [
    "lda_var_ratios = lda.explained_variance_ratio_\n",
    "lda_var_ratios"
   ]
  },
  {
   "cell_type": "code",
   "execution_count": 26,
   "metadata": {},
   "outputs": [
    {
     "data": {
      "text/plain": [
       "(7352, 5)"
      ]
     },
     "execution_count": 26,
     "metadata": {},
     "output_type": "execute_result"
    }
   ],
   "source": [
    "X_train_lda.shape"
   ]
  },
  {
   "cell_type": "markdown",
   "metadata": {},
   "source": [
    "### Models"
   ]
  },
  {
   "cell_type": "code",
   "execution_count": 27,
   "metadata": {},
   "outputs": [
    {
     "name": "stdout",
     "output_type": "stream",
     "text": [
      "              precision    recall  f1-score   support\n",
      "\n",
      "           0       0.95      0.99      0.97       496\n",
      "           1       0.97      0.96      0.96       471\n",
      "           2       0.99      0.96      0.98       420\n",
      "           3       0.94      0.91      0.92       491\n",
      "           4       0.92      0.94      0.93       532\n",
      "           5       1.00      1.00      1.00       537\n",
      "\n",
      "    accuracy                           0.96      2947\n",
      "   macro avg       0.96      0.96      0.96      2947\n",
      "weighted avg       0.96      0.96      0.96      2947\n",
      "\n",
      "96.02000000000001 Recall\n",
      "96.16 pre\n",
      "96.08 fscore\n",
      "96.06 acc\n"
     ]
    }
   ],
   "source": [
    "#SVM\n",
    "\n",
    "svm_LDA = SVC(C = 10, gamma = 0.01, kernel = 'rbf')\n",
    "results(svm_LDA, X_train_lda, y_train, X_test_lda, y_test)"
   ]
  },
  {
   "cell_type": "code",
   "execution_count": 28,
   "metadata": {},
   "outputs": [
    {
     "name": "stdout",
     "output_type": "stream",
     "text": [
      "              precision    recall  f1-score   support\n",
      "\n",
      "           0       0.96      0.99      0.97       496\n",
      "           1       0.96      0.97      0.96       471\n",
      "           2       0.99      0.95      0.97       420\n",
      "           3       0.93      0.92      0.93       491\n",
      "           4       0.93      0.94      0.93       532\n",
      "           5       1.00      1.00      1.00       537\n",
      "\n",
      "    accuracy                           0.96      2947\n",
      "   macro avg       0.96      0.96      0.96      2947\n",
      "weighted avg       0.96      0.96      0.96      2947\n",
      "\n",
      "96.06 Recall\n",
      "96.22 pre\n",
      "96.12 fscore\n",
      "96.13000000000001 acc\n"
     ]
    }
   ],
   "source": [
    "#KNN\n",
    "\n",
    "knn_LDA = KNeighborsClassifier(metric= 'manhattan', n_neighbors = 15, weights = 'distance')\n",
    "results(knn_LDA, X_train_lda, y_train, X_test_lda, y_test)"
   ]
  },
  {
   "cell_type": "code",
   "execution_count": 29,
   "metadata": {},
   "outputs": [
    {
     "name": "stdout",
     "output_type": "stream",
     "text": [
      "              precision    recall  f1-score   support\n",
      "\n",
      "           0       0.97      0.99      0.98       496\n",
      "           1       0.97      0.97      0.97       471\n",
      "           2       0.99      0.97      0.98       420\n",
      "           3       0.93      0.91      0.92       491\n",
      "           4       0.92      0.94      0.93       532\n",
      "           5       1.00      1.00      1.00       537\n",
      "\n",
      "    accuracy                           0.96      2947\n",
      "   macro avg       0.96      0.96      0.96      2947\n",
      "weighted avg       0.96      0.96      0.96      2947\n",
      "\n",
      "96.22 Recall\n",
      "96.31 pre\n",
      "96.26 fscore\n",
      "96.23 acc\n"
     ]
    }
   ],
   "source": [
    "#RF\n",
    "\n",
    "rf_LDA = RandomForestClassifier(max_features= 'sqrt', min_samples_split= 5, n_estimators = 40)\n",
    "results(rf_LDA, X_train_lda, y_train, X_test_lda, y_test)"
   ]
  },
  {
   "cell_type": "code",
   "execution_count": null,
   "metadata": {},
   "outputs": [],
   "source": [
    "most_i"
   ]
  },
  {
   "cell_type": "code",
   "execution_count": null,
   "metadata": {},
   "outputs": [],
   "source": []
  },
  {
   "cell_type": "code",
   "execution_count": null,
   "metadata": {},
   "outputs": [],
   "source": []
  },
  {
   "cell_type": "markdown",
   "metadata": {},
   "source": [
    "# TRANSFER LEARNING"
   ]
  },
  {
   "cell_type": "code",
   "execution_count": 30,
   "metadata": {},
   "outputs": [],
   "source": [
    "# Variables-\n",
    "epochs = 30\n",
    "# batch_size = 64\n",
    "batch_size = 16\n",
    "num_classes = 6\n",
    "fig_size = (9,7)"
   ]
  },
  {
   "cell_type": "code",
   "execution_count": 31,
   "metadata": {},
   "outputs": [],
   "source": [
    "def CREATE_MODEL(input_shape):\n",
    "    model = Sequential()\n",
    "    model.add(Input(shape = input_shape,))\n",
    "    model.add(Dense(256,activation='relu'))\n",
    "    model.add(Dropout(0.2))\n",
    "    model.add(Dense(128,activation='relu'))\n",
    "    model.add(Dropout(0.2))\n",
    "    model.add(Dense(64,activation='relu'))\n",
    "#     model.add(Dropout(0.2))\n",
    "#     model.add(Dense(32,activation='relu'))\n",
    "    model.add(Dense(num_classes,activation='softmax'))\n",
    "    return model\n",
    "\n",
    "def COMPILE(model):\n",
    "    model.compile(\n",
    "    optimizer='adam',\n",
    "    loss='sparse_categorical_crossentropy',\n",
    "    metrics=['accuracy']\n",
    "    )\n",
    "    return model;\n",
    "    \n",
    "def FIT(model,X,y,i):\n",
    "    history = model.fit(\n",
    "    X,\n",
    "    y,\n",
    "    validation_split=0.2,\n",
    "    batch_size=batch_size,\n",
    "    epochs=epochs,\n",
    "    callbacks=[\n",
    "        tf.keras.callbacks.ModelCheckpoint(f'./model_{i}.h5', save_best_only=True),\n",
    "        tf.keras.callbacks.ReduceLROnPlateau(\n",
    "            monitor='val_loss',\n",
    "            factor=0.1,\n",
    "            patience=1\n",
    "        )\n",
    "    ],\n",
    "    verbose=0\n",
    "    )\n",
    "    return history,model\n",
    "\n",
    "def PLOT(history,i):\n",
    "    epochs_range = range(epochs)\n",
    "    train_loss = history.history['loss']\n",
    "    val_loss = history.history['val_loss']\n",
    "    train_acc = history.history['accuracy']\n",
    "    val_acc = history.history['val_accuracy']\n",
    "    \n",
    "    plt.figure(figsize=fig_size)\n",
    "    plt.plot(epochs_range,train_loss,label=\"Training Loss\")\n",
    "    plt.plot(epochs_range,val_loss,label=\"Validation Loss\")\n",
    "    plt.xlabel(\"Epoch\")\n",
    "    plt.ylabel(\"Loss\")\n",
    "    plt.legend()\n",
    "    plt.title(f\"Model {i} - Loss Over Time\")\n",
    "    plt.show()\n",
    "    \n",
    "    plt.figure(figsize=fig_size)\n",
    "    plt.plot(epochs_range,train_acc,label=\"Training accuracy\")\n",
    "    plt.plot(epochs_range,val_acc,label=\"Validation accuracy\")\n",
    "    plt.xlabel(\"Epoch\")\n",
    "    plt.ylabel(\"accuracy\")\n",
    "    plt.legend()\n",
    "    plt.title(f\"Model {i} - Accuracy\")\n",
    "    plt.show()\n",
    "\n",
    "def CONFUSION_MATRIX(y_test, y_pred):\n",
    "    confusionMatrix = confusion_matrix(y_test, y_pred)\n",
    "    sns.set(font_scale=1.5)\n",
    "    labels = [\"WALKING\", \"WALKING_UPSTAIRS\", \"WALKING_DOWNSTAIRS\", \"SITTING\", \"STANDING\", \"LYING\"]\n",
    "    plt.figure(figsize=(16,7))\n",
    "    sns.heatmap(confusionMatrix, cmap = \"Blues\", annot = True, fmt = \".0f\", xticklabels=labels, yticklabels=labels)\n",
    "    plt.title(\"Global Model Confusion Matrix\", fontsize = 30)\n",
    "    plt.xlabel('Predicted Class', fontsize = 20)\n",
    "    plt.ylabel('Original Class', fontsize = 20)\n",
    "    plt.tick_params(labelsize = 15)\n",
    "    plt.xticks(rotation = 45)\n",
    "    plt.show()"
   ]
  },
  {
   "cell_type": "code",
   "execution_count": 32,
   "metadata": {},
   "outputs": [],
   "source": [
    "def Model(X, y, n):\n",
    "    X, y = np.array(X), np.array(y)\n",
    "\n",
    "    model = CREATE_MODEL(X.shape[1])\n",
    "    print(model.summary())\n",
    "\n",
    "\n",
    "    model = COMPILE(model)\n",
    "    history, model = FIT(model, X, y, n)\n",
    "\n",
    "    PLOT(history, n)\n",
    "\n",
    "    print(history.history['accuracy'])\n",
    "    print(max(history.history['accuracy']))\n",
    "    \n",
    "    return model\n",
    "\n",
    "\n",
    "\n",
    "\n",
    "def data(X, Y, path):\n",
    "#     path = 'Real-Time'\n",
    "    \n",
    "    test_x = pd.read_csv('{0}/{1}'.format(path, X))\n",
    "    test_y = pd.read_csv('{0}/{1}'.format(path, Y))\n",
    "    \n",
    "    names = test_x.columns\n",
    "\n",
    "    scaler = MinMaxScaler(feature_range = [-1,1])\n",
    "    test_x  = scaler.fit_transform(test_x)\n",
    "        \n",
    "    return pd.DataFrame(test_x, columns = names), np.array(test_y)\n",
    "\n",
    "\n",
    "\n",
    "def check(clf, X, y, X_test, y_test):\n",
    "    clf.fit(X, y.ravel())\n",
    "        \n",
    "    y_predicted = clf.predict(X_test)\n",
    "    \n",
    "    recall = metrics.recall_score(y_test, y_predicted, average='macro' )\n",
    "    precision = metrics.precision_score(y_test, y_predicted, average='macro' )\n",
    "    f_score = metrics.f1_score(y_test, y_predicted, average=\"macro\") \n",
    "\n",
    "    print(round(recall,4) * 100, 'Recall')\n",
    "    print(round(precision, 4)*100, 'pre')\n",
    "    print(round(f_score, 4)*100, \"fscore\")\n",
    "    print('Accuracy is: ', metrics.accuracy_score(y_test, y_predicted))\n",
    "    \n",
    "    array = confusion_matrix(y_test,y_predicted)\n",
    "    \n",
    "    df_cm = pd.DataFrame(array, index = [i for i in LABELS],\n",
    "                    columns = [i for i in LABELS])\n",
    "    \n",
    "    plt.figure(figsize = (10,7))\n",
    "    sn.heatmap(df_cm, annot=True, cmap=\"BuPu\",fmt='g')\n",
    "    \n",
    "    \n",
    "    \n",
    "def saveModel(filename, model): \n",
    "    filename = 'Models/{0}.sav'.format(filename)\n",
    "    pickle.dump(model, open(filename, 'wb'))"
   ]
  },
  {
   "cell_type": "code",
   "execution_count": null,
   "metadata": {},
   "outputs": [],
   "source": [
    "model = Model(X_train, y_train, 4)"
   ]
  },
  {
   "cell_type": "code",
   "execution_count": null,
   "metadata": {},
   "outputs": [],
   "source": [
    "# X_test, y_test = np.array(X_test), np.array(y_test)\n",
    "\n",
    "# y_pred = model.predict(X_test)\n",
    "# y_pred = np.argmax(y_pred,axis=1)\n",
    "\n",
    "# print('Accuracy is: ',metrics.accuracy_score(y_pred, y_test))\n",
    "\n",
    "# CONFUSION_MATRIX(y_test,y_pred)"
   ]
  },
  {
   "cell_type": "code",
   "execution_count": null,
   "metadata": {},
   "outputs": [],
   "source": [
    "# model.pop()"
   ]
  },
  {
   "cell_type": "code",
   "execution_count": null,
   "metadata": {
    "scrolled": true
   },
   "outputs": [],
   "source": [
    "model = tf.keras.models.load_model('Models/Base/model_4.h5')\n",
    "model.pop()\n",
    "model.trainable = False\n",
    "\n",
    "model.summary()"
   ]
  },
  {
   "cell_type": "code",
   "execution_count": null,
   "metadata": {},
   "outputs": [],
   "source": []
  },
  {
   "cell_type": "code",
   "execution_count": null,
   "metadata": {},
   "outputs": [],
   "source": []
  },
  {
   "cell_type": "code",
   "execution_count": null,
   "metadata": {},
   "outputs": [],
   "source": []
  },
  {
   "cell_type": "code",
   "execution_count": null,
   "metadata": {},
   "outputs": [],
   "source": []
  },
  {
   "cell_type": "code",
   "execution_count": null,
   "metadata": {},
   "outputs": [],
   "source": [
    "X_train_pca.shape[1]"
   ]
  },
  {
   "cell_type": "code",
   "execution_count": null,
   "metadata": {},
   "outputs": [],
   "source": [
    "def PCA_MODEL_TRANSFER():\n",
    "    model_dimension = Sequential()\n",
    "    model_dimension.add(Input(shape = X_train_pca.shape[1],))\n",
    "    model_dimension.add(Dense(128,activation='relu'))\n",
    "    model_dimension.add(Dropout(0.2))\n",
    "    model_dimension.add(Dense(64,activation='relu'))\n",
    "    # model_dimension.add(Dropout(0.5))\n",
    "    # model_dimension.add(Dense(32,activation='relu'))\n",
    "    model_dimension.add(Dense(num_classes,activation='softmax')) \n",
    "\n",
    "\n",
    "    model_dimension.compile(\n",
    "    optimizer='adam',\n",
    "    loss='sparse_categorical_crossentropy',\n",
    "    metrics=['accuracy']\n",
    "    )\n",
    "\n",
    "    history = model_dimension.fit(\n",
    "    X_train_pca,\n",
    "    y_train,\n",
    "    validation_split=0.2,\n",
    "    batch_size=batch_size,\n",
    "    epochs=epochs,\n",
    "    callbacks=[\n",
    "        tf.keras.callbacks.ModelCheckpoint(f'./model_{10}.h5', save_best_only=True),\n",
    "        tf.keras.callbacks.ReduceLROnPlateau(\n",
    "            monitor='val_loss',\n",
    "            factor=0.1,\n",
    "            patience=1\n",
    "        )\n",
    "    ],\n",
    "    verbose=0\n",
    "    )\n",
    "\n",
    "    PLOT(history, 10)\n",
    "\n",
    "    print(history.history['accuracy'])\n",
    "    print(max(history.history['accuracy']))\n",
    "\n",
    "    return model_dimension\n",
    "\n",
    "model_dimension = PCA_MODEL_TRANSFER()"
   ]
  },
  {
   "cell_type": "code",
   "execution_count": null,
   "metadata": {},
   "outputs": [],
   "source": []
  },
  {
   "cell_type": "code",
   "execution_count": 34,
   "metadata": {},
   "outputs": [
    {
     "name": "stdout",
     "output_type": "stream",
     "text": [
      "Model: \"sequential_2\"\n",
      "_________________________________________________________________\n",
      "Layer (type)                 Output Shape              Param #   \n",
      "=================================================================\n",
      "dense_6 (Dense)              (None, 128)               25728     \n",
      "_________________________________________________________________\n",
      "dropout_2 (Dropout)          (None, 128)               0         \n",
      "_________________________________________________________________\n",
      "dense_7 (Dense)              (None, 64)                8256      \n",
      "_________________________________________________________________\n",
      "dense_8 (Dense)              (None, 6)                 390       \n",
      "=================================================================\n",
      "Total params: 34,374\n",
      "Trainable params: 34,374\n",
      "Non-trainable params: 0\n",
      "_________________________________________________________________\n",
      "Model: \"sequential_2\"\n",
      "_________________________________________________________________\n",
      "Layer (type)                 Output Shape              Param #   \n",
      "=================================================================\n",
      "dense_6 (Dense)              (None, 128)               25728     \n",
      "_________________________________________________________________\n",
      "dropout_2 (Dropout)          (None, 128)               0         \n",
      "_________________________________________________________________\n",
      "dense_7 (Dense)              (None, 64)                8256      \n",
      "=================================================================\n",
      "WARNING:tensorflow:Discrepancy between trainable weights and collected trainable weights, did you set `model.trainable` without calling `model.compile` after ?\n",
      "Total params: 68,358\n",
      "Trainable params: 34,374\n",
      "Non-trainable params: 33,984\n",
      "_________________________________________________________________\n"
     ]
    }
   ],
   "source": [
    "model_dimension = tf.keras.models.load_model('PCA/base_model.h5')\n",
    "# model_dimension = tf.keras.models.load_model('model_10.h5')\n",
    "model_dimension.summary()\n",
    "\n",
    "model_dimension.pop()\n",
    "model_dimension.trainable = False\n",
    "\n",
    "model_dimension.summary()"
   ]
  },
  {
   "cell_type": "code",
   "execution_count": null,
   "metadata": {},
   "outputs": [],
   "source": []
  },
  {
   "cell_type": "code",
   "execution_count": null,
   "metadata": {},
   "outputs": [],
   "source": [
    "def LDA_MODEL_TRANSFER(trainX, trainY):\n",
    "    model = Sequential()\n",
    "    model.add(Input(shape = trainX.shape[1],))\n",
    "    model.add(Dense(12,activation='relu'))\n",
    "    model.add(Dropout(0.2))\n",
    "    model.add(Dense(16,activation='relu'))\n",
    "#     model_dimension.add(Dropout(0.5))\n",
    "#     model_dimension.add(Dense(32,activation='relu'))\n",
    "    model.add(Dense(num_classes,activation='softmax')) \n",
    "\n",
    "\n",
    "    model.compile(\n",
    "    optimizer='adam',\n",
    "    loss='sparse_categorical_crossentropy',\n",
    "    metrics=['accuracy']\n",
    "    )\n",
    "\n",
    "    history = model.fit(\n",
    "    trainX,\n",
    "    trainY,\n",
    "    validation_split=0.2,\n",
    "    batch_size=batch_size,\n",
    "    epochs=epochs,\n",
    "    callbacks=[\n",
    "        tf.keras.callbacks.ModelCheckpoint(f'./model_{12}.h5', save_best_only=True),\n",
    "        tf.keras.callbacks.ReduceLROnPlateau(\n",
    "            monitor='val_loss',\n",
    "            factor=0.1,\n",
    "            patience=1\n",
    "        )\n",
    "    ],\n",
    "    verbose=0\n",
    "    )\n",
    "\n",
    "    PLOT(history, 10)\n",
    "\n",
    "    print(history.history['accuracy'])\n",
    "    print(max(history.history['accuracy']))\n",
    "\n",
    "    return model\n",
    "\n",
    "model_lda = LDA_MODEL_TRANSFER(pd.DataFrame(X_train_lda), y_train)"
   ]
  },
  {
   "cell_type": "code",
   "execution_count": null,
   "metadata": {},
   "outputs": [],
   "source": [
    "model_lda = tf.keras.models.load_model('model_12.h5')\n",
    "\n",
    "\n",
    "model_lda.pop()\n",
    "model_lda.trainable = False\n",
    "\n",
    "model_lda.summary()"
   ]
  },
  {
   "cell_type": "code",
   "execution_count": null,
   "metadata": {},
   "outputs": [],
   "source": []
  },
  {
   "cell_type": "code",
   "execution_count": null,
   "metadata": {},
   "outputs": [],
   "source": []
  },
  {
   "cell_type": "code",
   "execution_count": 35,
   "metadata": {},
   "outputs": [
    {
     "data": {
      "text/plain": [
       "((176, 64), (88, 64), (176, 1), (88, 1))"
      ]
     },
     "execution_count": 35,
     "metadata": {},
     "output_type": "execute_result"
    }
   ],
   "source": [
    "# X_test_real, y_test_real = data('X.csv', 'Y.csv', 'Real-Time')\n",
    "X, y = data('X.csv', 'Y.csv', 'Real-time_v1')\n",
    "y -= 1\n",
    "\n",
    "\n",
    "X_train_real, X_test_real, y_train_real, y_test_real = train_test_split(X, y, test_size=0.33, random_state=42)\n",
    "\n",
    "\n",
    "#BASE MODEL\n",
    "# X_train_real = model.predict(X_train_real.values)\n",
    "# X_test_real = model.predict(X_test_real.values)\n",
    "\n",
    "# PCA\n",
    "X_train_real = X_train_real.iloc[:,most_important]\n",
    "X_test_real = X_test_real.iloc[:,most_important]\n",
    "\n",
    "X_train_real = model_dimension.predict(X_train_real.values)\n",
    "X_test_real = model_dimension.predict(X_test_real.values)\n",
    "\n",
    "\n",
    "# #LDA\n",
    "# X_train_real = lda.transform(X_train_real.iloc[:,most_important])\n",
    "# X_test_real = lda.transform(X_test_real.iloc[:,most_important])\n",
    "\n",
    "# X_train_real = model_lda.predict(X_train_real)\n",
    "# X_test_real = model_lda.predict(X_test_real)\n",
    "\n",
    "\n",
    "X_train_real.shape, X_test_real.shape, y_train_real.shape, y_test_real.shape"
   ]
  },
  {
   "cell_type": "code",
   "execution_count": null,
   "metadata": {},
   "outputs": [],
   "source": [
    "X_train_real.shape"
   ]
  },
  {
   "cell_type": "markdown",
   "metadata": {},
   "source": [
    "# SVM"
   ]
  },
  {
   "cell_type": "code",
   "execution_count": 36,
   "metadata": {},
   "outputs": [
    {
     "name": "stdout",
     "output_type": "stream",
     "text": [
      "94.1 Recall\n",
      "94.94 pre\n",
      "94.23 fscore\n",
      "Accuracy is:  0.9431818181818182\n"
     ]
    },
    {
     "data": {
      "image/png": "[encoded data removed]",
      "text/plain": [
       "<Figure size 720x504 with 2 Axes>"
      ]
     },
     "metadata": {
      "needs_background": "light"
     },
     "output_type": "display_data"
    }
   ],
   "source": [
    "svm = SVC(C = 10, gamma = 0.01, kernel= 'rbf')\n",
    "check(svm, X_train_real, y_train_real, X_test_real, y_test_real)"
   ]
  },
  {
   "cell_type": "code",
   "execution_count": null,
   "metadata": {},
   "outputs": [],
   "source": [
    "# saveModel('PCA/svm_PCA_91', svm)"
   ]
  },
  {
   "cell_type": "code",
   "execution_count": 37,
   "metadata": {},
   "outputs": [
    {
     "name": "stdout",
     "output_type": "stream",
     "text": [
      "89.75 Recall\n",
      "91.74 pre\n",
      "89.82 fscore\n",
      "Accuracy is:  0.8977272727272727\n"
     ]
    },
    {
     "data": {
      "image/png": "[encoded data removed]",
      "text/plain": [
       "<Figure size 720x504 with 2 Axes>"
      ]
     },
     "metadata": {
      "needs_background": "light"
     },
     "output_type": "display_data"
    }
   ],
   "source": [
    "svm = SVC(C = 0.001, gamma = 1, kernel= 'poly')\n",
    "check(svm, X_train_real, y_train_real, X_test_real, y_test_real)\n",
    "\n",
    "# saveModel('LDA/svm_LDA_68.1', svm)"
   ]
  },
  {
   "cell_type": "code",
   "execution_count": null,
   "metadata": {},
   "outputs": [],
   "source": [
    "def svc_param_selection(X_train_real, y_train_real, nfolds):\n",
    "\n",
    "    param_grid = {'C': [0.0001, 0.001, 0.01, 0.1, 1], \n",
    "                  'gamma' : [0.01, 0.1, 1], \n",
    "                  'kernel': ['linear', 'poly', 'rbf', 'sigmoid'] }\n",
    "\n",
    "\n",
    "    grid_search = GridSearchCV( SVC(), \n",
    "                             param_grid, \n",
    "                             cv = nfolds,\n",
    "                             n_jobs = -1) # use all processor\n",
    "    grid_search.fit(X, y.ravel())\n",
    "\n",
    "    return grid_search.best_params_\n",
    "\n",
    "svc_param_selection(X_train_real, y_train_real, 5)"
   ]
  },
  {
   "cell_type": "markdown",
   "metadata": {},
   "source": [
    "# KNN"
   ]
  },
  {
   "cell_type": "code",
   "execution_count": 38,
   "metadata": {},
   "outputs": [
    {
     "name": "stdout",
     "output_type": "stream",
     "text": [
      "84.24000000000001 Recall\n",
      "84.41 pre\n",
      "84.26 fscore\n",
      "Accuracy is:  0.8409090909090909\n"
     ]
    },
    {
     "data": {
      "image/png": "[encoded data removed]",
      "text/plain": [
       "<Figure size 720x504 with 2 Axes>"
      ]
     },
     "metadata": {
      "needs_background": "light"
     },
     "output_type": "display_data"
    }
   ],
   "source": [
    "knn = KNeighborsClassifier(metric= 'manhattan', n_neighbors = 5, weights = 'distance')\n",
    "check(knn, X_train_real, y_train_real, X_test_real, y_test_real)"
   ]
  },
  {
   "cell_type": "code",
   "execution_count": null,
   "metadata": {},
   "outputs": [],
   "source": [
    "# saveModel('LDA/knn_LDA_63.6', knn)"
   ]
  },
  {
   "cell_type": "code",
   "execution_count": null,
   "metadata": {},
   "outputs": [],
   "source": [
    "def knn_param_selection(X, y, nfolds):\n",
    "\n",
    "    param_grid = {'n_neighbors' : [3,5,7,11,13,15,19,21],\n",
    "                'weights' : ['uniform', 'distance'], \n",
    "                'metric' : ['euclidean','manhattan'] }\n",
    "\n",
    "    grid_search = GridSearchCV(KNeighborsClassifier(), \n",
    "                             param_grid, \n",
    "                             cv = nfolds,\n",
    "                             n_jobs = -1)\n",
    "\n",
    "    grid_search.fit(X,y)\n",
    "\n",
    "    return grid_search.best_params_\n",
    "                  \n",
    "# knn_param_selection(X, y.ravel(), 5)"
   ]
  },
  {
   "cell_type": "markdown",
   "metadata": {},
   "source": [
    "# Random Forest"
   ]
  },
  {
   "cell_type": "code",
   "execution_count": 39,
   "metadata": {},
   "outputs": [
    {
     "name": "stdout",
     "output_type": "stream",
     "text": [
      "82.32000000000001 Recall\n",
      "85.39 pre\n",
      "82.87 fscore\n",
      "Accuracy is:  0.8295454545454546\n"
     ]
    },
    {
     "data": {
      "image/png": "[encoded data removed]",
      "text/plain": [
       "<Figure size 720x504 with 2 Axes>"
      ]
     },
     "metadata": {
      "needs_background": "light"
     },
     "output_type": "display_data"
    }
   ],
   "source": [
    "rf = RandomForestClassifier(max_features= 'sqrt', min_samples_split= 6, n_estimators = 30)\n",
    "check(rf, X_train_real, y_train_real, X_test_real, y_test_real)"
   ]
  },
  {
   "cell_type": "code",
   "execution_count": null,
   "metadata": {},
   "outputs": [],
   "source": [
    "# saveModel('LDA/rf_LDA_71.5', rf)"
   ]
  },
  {
   "cell_type": "code",
   "execution_count": 40,
   "metadata": {},
   "outputs": [
    {
     "name": "stdout",
     "output_type": "stream",
     "text": [
      "88.86 Recall\n",
      "89.35 pre\n",
      "88.68 fscore\n",
      "Accuracy is:  0.8863636363636364\n"
     ]
    },
    {
     "data": {
      "image/png": "[encoded data removed]",
      "text/plain": [
       "<Figure size 720x504 with 2 Axes>"
      ]
     },
     "metadata": {
      "needs_background": "light"
     },
     "output_type": "display_data"
    }
   ],
   "source": [
    "rf = RandomForestClassifier(max_features= 'sqrt', min_samples_split= 6, n_estimators = 40)\n",
    "check(rf, X_train_real, y_train_real, X_test_real, y_test_real)"
   ]
  },
  {
   "cell_type": "code",
   "execution_count": null,
   "metadata": {},
   "outputs": [],
   "source": [
    "def rf_param_selection(X, y, nfolds):\n",
    "    param_grid = {'n_estimators': [40, 50, 150],\n",
    "                'max_features': ['sqrt', 0.25, 0.5, 0.75, 1.0],\n",
    "                'min_samples_split': [4, 6,8, 10]}\n",
    "\n",
    "    grid_search = GridSearchCV(RandomForestClassifier(),\n",
    "                             param_grid,\n",
    "                             cv = nfolds,\n",
    "                             n_jobs = -1)\n",
    "    grid_search.fit(X, y)\n",
    "\n",
    "    return grid_search.best_params_\n",
    "\n",
    "# knn_param_selection(X, y.ravel(), 5)\n",
    "\n",
    "rf_param_selection(X, y.ravel(), 5)"
   ]
  },
  {
   "cell_type": "markdown",
   "metadata": {},
   "source": []
  },
  {
   "cell_type": "code",
   "execution_count": null,
   "metadata": {},
   "outputs": [],
   "source": []
  },
  {
   "cell_type": "code",
   "execution_count": null,
   "metadata": {},
   "outputs": [],
   "source": []
  },
  {
   "cell_type": "markdown",
   "metadata": {},
   "source": [
    "# LSTM"
   ]
  },
  {
   "cell_type": "code",
   "execution_count": 41,
   "metadata": {},
   "outputs": [],
   "source": [
    "X_train_lstm = np.reshape(X_train_real, (X_train_real.shape[0], 1, X_train_real.shape[1]))\n",
    "X_test_lstm = np.reshape(X_test_real, (X_test_real.shape[0], 1, X_test_real.shape[1]))"
   ]
  },
  {
   "cell_type": "code",
   "execution_count": 44,
   "metadata": {},
   "outputs": [],
   "source": [
    "def LSTM_Model(trainX, trainY, testX, testY):\n",
    "    n_steps = 64\n",
    "    n_feature = 1\n",
    "    verbose, epochs, batch_size = 0, 50, 64\n",
    "\n",
    "    lstm = Sequential()\n",
    "    lstm.add(LSTM(units= trainX.shape[0], input_shape=(n_feature, n_steps) ))\n",
    "    lstm.add(Dense(128, activation='relu'))\n",
    "    lstm.add(Dropout(0.2))\n",
    "    lstm.add(Dense(64, activation='relu'))\n",
    "#     lstm.add(Dropout(0.2))\n",
    "#     lstm.add(Dense(64, activation='relu'))\n",
    "    lstm.add(Dense(6, activation='softmax'))\n",
    "\n",
    "    print(lstm.summary())\n",
    "\n",
    "    lstm.compile(loss='sparse_categorical_crossentropy', optimizer='adam', metrics=['accuracy'])\n",
    "    \n",
    "    \n",
    "    lstm.fit(trainX, trainY, epochs=epochs, batch_size=batch_size, verbose=verbose)\n",
    "\n",
    "\n",
    "    _, accuracy = lstm.evaluate(testX, testY, batch_size=batch_size, verbose=0)\n",
    "    \n",
    "    y_pred = lstm.predict(testX)\n",
    "    y_pred = np.argmax(y_pred,axis=1)\n",
    "    \n",
    "    recall = metrics.recall_score(testY, y_pred, average='macro' )\n",
    "    precision = metrics.precision_score(testY, y_pred, average='macro' )\n",
    "    f_score = metrics.f1_score(testY, y_pred, average=\"macro\") \n",
    "\n",
    "    print(round(recall,4) * 100, 'Recall')\n",
    "    print(round(precision, 4)*100, 'pre')\n",
    "    print(round(f_score, 4)*100, \"fscore\")\n",
    "    print('Accuracy is: ', metrics.accuracy_score(testY, y_pred))\n",
    "    \n",
    "    array = confusion_matrix(testY, y_pred)\n",
    "    \n",
    "    df_cm = pd.DataFrame(array, index = [i for i in LABELS],\n",
    "                    columns = [i for i in LABELS])\n",
    "    \n",
    "    plt.figure(figsize = (10,7))\n",
    "    sn.heatmap(df_cm, annot=True, cmap=\"BuPu\",fmt='g')\n",
    "\n",
    "    return accuracy, lstm\n"
   ]
  },
  {
   "cell_type": "code",
   "execution_count": 45,
   "metadata": {},
   "outputs": [
    {
     "name": "stdout",
     "output_type": "stream",
     "text": [
      "Model: \"sequential_1\"\n",
      "_________________________________________________________________\n",
      "Layer (type)                 Output Shape              Param #   \n",
      "=================================================================\n",
      "lstm_1 (LSTM)                (None, 176)               169664    \n",
      "_________________________________________________________________\n",
      "dense_3 (Dense)              (None, 128)               22656     \n",
      "_________________________________________________________________\n",
      "dropout_1 (Dropout)          (None, 128)               0         \n",
      "_________________________________________________________________\n",
      "dense_4 (Dense)              (None, 64)                8256      \n",
      "_________________________________________________________________\n",
      "dense_5 (Dense)              (None, 6)                 390       \n",
      "=================================================================\n",
      "Total params: 200,966\n",
      "Trainable params: 200,966\n",
      "Non-trainable params: 0\n",
      "_________________________________________________________________\n",
      "None\n",
      "92.10000000000001 Recall\n",
      "92.14 pre\n",
      "92.01 fscore\n",
      "Accuracy is:  0.9204545454545454\n"
     ]
    },
    {
     "data": {
      "image/png": "[encoded data removed]",
      "text/plain": [
       "<Figure size 720x504 with 2 Axes>"
      ]
     },
     "metadata": {
      "needs_background": "light"
     },
     "output_type": "display_data"
    }
   ],
   "source": [
    "accuracy, lstm = LSTM_Model(X_train_lstm, y_train_real, X_test_lstm, y_test_real )"
   ]
  },
  {
   "cell_type": "code",
   "execution_count": null,
   "metadata": {},
   "outputs": [],
   "source": [
    "from keras.models import load_model\n",
    "\n",
    "# lstm.save('Models/LDA/lstm_LDA_70.h5')\n"
   ]
  },
  {
   "cell_type": "code",
   "execution_count": null,
   "metadata": {},
   "outputs": [],
   "source": []
  },
  {
   "cell_type": "code",
   "execution_count": null,
   "metadata": {},
   "outputs": [],
   "source": []
  },
  {
   "cell_type": "code",
   "execution_count": null,
   "metadata": {},
   "outputs": [],
   "source": [
    "X_train_test = model.predict(X_train)\n",
    "X_test_test = model.predict(X_test)\n",
    "\n",
    "X_train_test = np.reshape(X_train_test, (X_train_test.shape[0], 1, X_train_test.shape[1]))\n",
    "X_test_test = np.reshape(X_test_test, (X_test_test.shape[0], 1, X_test_test.shape[1]))"
   ]
  },
  {
   "cell_type": "code",
   "execution_count": null,
   "metadata": {},
   "outputs": [],
   "source": [
    "LSTM_Model(X_train, y_train, X_test, y_test)"
   ]
  },
  {
   "cell_type": "code",
   "execution_count": null,
   "metadata": {},
   "outputs": [],
   "source": []
  },
  {
   "cell_type": "markdown",
   "metadata": {},
   "source": [
    "# CNN"
   ]
  },
  {
   "cell_type": "code",
   "execution_count": null,
   "metadata": {},
   "outputs": [],
   "source": [
    "cnn = Model(X_train_real, y_train_real, 5)\n",
    "\n",
    "\n",
    "\n",
    "\n",
    "y_pred = cnn.predict(X_test_real)\n",
    "y_pred = np.argmax(y_pred,axis=1)\n",
    "\n",
    "recall = metrics.recall_score(y_test_real, y_pred, average='macro' )\n",
    "precision = metrics.precision_score(y_test_real, y_pred, average='macro' )\n",
    "f_score = metrics.f1_score(y_test_real, y_pred, average=\"macro\") \n",
    "\n",
    "print(round(recall,4) * 100, 'Recall')\n",
    "print(round(precision, 4)*100, 'pre')\n",
    "print(round(f_score, 4)*100, \"fscore\")\n",
    "print('Accuracy is: ', metrics.accuracy_score(y_test_real, y_pred))"
   ]
  },
  {
   "cell_type": "code",
   "execution_count": null,
   "metadata": {},
   "outputs": [],
   "source": []
  },
  {
   "cell_type": "code",
   "execution_count": null,
   "metadata": {},
   "outputs": [],
   "source": []
  },
  {
   "cell_type": "markdown",
   "metadata": {},
   "source": [
    "# Feature extracted by my Code"
   ]
  },
  {
   "cell_type": "code",
   "execution_count": null,
   "metadata": {},
   "outputs": [],
   "source": [
    "scaler = MinMaxScaler(feature_range = [-1,1])\n",
    "\n",
    "X_train_fex = pd.read_csv(\"TRAIN_NEW_ALL.csv\")\n",
    "X_test_fex = pd.read_csv(\"TEST_NEW_ALL.csv\")\n",
    "\n",
    "X_train_fex = scaler.fit_transform(X_train_fex)\n",
    "X_test_fex  = scaler.fit_transform(X_test_fex)\n",
    "\n",
    "X_train_fex = pd.DataFrame(X_train_fex)\n",
    "X_test_fex = pd.DataFrame(X_test_fex)\n",
    "\n",
    "print(X_train_fex.shape, X_test_fex.shape)\n",
    "\n",
    "\n",
    "y_train_fex = pd.read_csv(\"UCI HAR Dataset/train/y_train.txt\", delim_whitespace=True, header=None)[:-1]\n",
    "y_test_fex = pd.read_csv(\"UCI HAR Dataset/test/y_test.txt\", delim_whitespace=True, header=None)[:-1]\n",
    "\n",
    "print(y_train.shape, y_test.shape)\n",
    "\n",
    "\n",
    "y_train_fex -= 1\n",
    "y_test_fex -= 1"
   ]
  },
  {
   "cell_type": "code",
   "execution_count": null,
   "metadata": {},
   "outputs": [],
   "source": [
    "model_extracted = Model(X_train_fex, y_train_fex, 5)"
   ]
  },
  {
   "cell_type": "code",
   "execution_count": null,
   "metadata": {},
   "outputs": [],
   "source": [
    "model_extracted.pop()\n",
    "model_extracted.trainable = True\n",
    "\n",
    "model_extracted.summary()"
   ]
  },
  {
   "cell_type": "code",
   "execution_count": null,
   "metadata": {},
   "outputs": [],
   "source": [
    "X, y = data('X.csv', 'Y.csv', 'Real-time_v1')\n",
    "X = model_extracted.predict(X)\n",
    "\n",
    "svm = SVC(C = 10, gamma = 0.01, kernel= 'rbf')\n",
    "check(svm, X, y, X, y)"
   ]
  },
  {
   "cell_type": "code",
   "execution_count": null,
   "metadata": {},
   "outputs": [],
   "source": []
  },
  {
   "cell_type": "code",
   "execution_count": null,
   "metadata": {},
   "outputs": [],
   "source": []
  },
  {
   "cell_type": "code",
   "execution_count": null,
   "metadata": {},
   "outputs": [],
   "source": []
  },
  {
   "cell_type": "code",
   "execution_count": null,
   "metadata": {},
   "outputs": [],
   "source": []
  },
  {
   "cell_type": "code",
   "execution_count": null,
   "metadata": {},
   "outputs": [],
   "source": []
  },
  {
   "cell_type": "code",
   "execution_count": null,
   "metadata": {},
   "outputs": [],
   "source": []
  },
  {
   "cell_type": "code",
   "execution_count": null,
   "metadata": {},
   "outputs": [],
   "source": []
  },
  {
   "cell_type": "code",
   "execution_count": null,
   "metadata": {},
   "outputs": [],
   "source": []
  },
  {
   "cell_type": "code",
   "execution_count": null,
   "metadata": {},
   "outputs": [],
   "source": []
  },
  {
   "cell_type": "code",
   "execution_count": null,
   "metadata": {},
   "outputs": [],
   "source": []
  },
  {
   "cell_type": "code",
   "execution_count": null,
   "metadata": {},
   "outputs": [],
   "source": []
  },
  {
   "cell_type": "code",
   "execution_count": null,
   "metadata": {},
   "outputs": [],
   "source": []
  },
  {
   "cell_type": "code",
   "execution_count": null,
   "metadata": {},
   "outputs": [],
   "source": []
  },
  {
   "cell_type": "code",
   "execution_count": null,
   "metadata": {},
   "outputs": [],
   "source": []
  },
  {
   "cell_type": "code",
   "execution_count": null,
   "metadata": {},
   "outputs": [],
   "source": []
  },
  {
   "cell_type": "code",
   "execution_count": null,
   "metadata": {},
   "outputs": [],
   "source": []
  },
  {
   "cell_type": "code",
   "execution_count": null,
   "metadata": {},
   "outputs": [],
   "source": []
  },
  {
   "cell_type": "code",
   "execution_count": null,
   "metadata": {},
   "outputs": [],
   "source": []
  },
  {
   "cell_type": "code",
   "execution_count": null,
   "metadata": {},
   "outputs": [],
   "source": []
  },
  {
   "cell_type": "markdown",
   "metadata": {},
   "source": [
    "# Model replica number-1 "
   ]
  },
  {
   "cell_type": "code",
   "execution_count": null,
   "metadata": {},
   "outputs": [],
   "source": [
    "# MODEL REPLICA NO.1\n",
    "X_train_1 = X_train[0:2500]\n",
    "y_train_1 = y_train[0:2500]"
   ]
  },
  {
   "cell_type": "code",
   "execution_count": null,
   "metadata": {},
   "outputs": [],
   "source": [
    "X_train_1, y_train_1 = PREPROCESS(X_train_1,y_train_1);"
   ]
  },
  {
   "cell_type": "code",
   "execution_count": null,
   "metadata": {},
   "outputs": [],
   "source": [
    "model_1 = CREATE_MODEL(X_train_1.shape[1]);\n",
    "model_1.summary()"
   ]
  },
  {
   "cell_type": "code",
   "execution_count": null,
   "metadata": {},
   "outputs": [],
   "source": [
    "model_1 = COMPILE(model_1)\n",
    "history_1,model_1 = FIT(model_1,X_train_1,y_train_1,1)"
   ]
  },
  {
   "cell_type": "code",
   "execution_count": null,
   "metadata": {},
   "outputs": [],
   "source": [
    "PLOT(history_1,1)"
   ]
  },
  {
   "cell_type": "markdown",
   "metadata": {},
   "source": [
    "# Model replica number-2"
   ]
  },
  {
   "cell_type": "code",
   "execution_count": null,
   "metadata": {},
   "outputs": [],
   "source": [
    "# MODEL REPLICA NO.2\n",
    "X_train_2 = X_train[2500:5000]\n",
    "y_train_2 = y_train[2500:5000]"
   ]
  },
  {
   "cell_type": "code",
   "execution_count": null,
   "metadata": {},
   "outputs": [],
   "source": [
    "X_train_2, y_train_2 = PREPROCESS(X_train_2,y_train_2)"
   ]
  },
  {
   "cell_type": "code",
   "execution_count": null,
   "metadata": {
    "scrolled": true
   },
   "outputs": [],
   "source": [
    "model_2 = CREATE_MODEL(X_train_2.shape[1])\n",
    "model_2.summary()"
   ]
  },
  {
   "cell_type": "code",
   "execution_count": null,
   "metadata": {},
   "outputs": [],
   "source": [
    "model_2 = COMPILE(model_2)\n",
    "history_2,model_2 = FIT(model_2,X_train_2,y_train_2,2);"
   ]
  },
  {
   "cell_type": "code",
   "execution_count": null,
   "metadata": {},
   "outputs": [],
   "source": [
    "PLOT(history_2,2);"
   ]
  },
  {
   "cell_type": "markdown",
   "metadata": {},
   "source": [
    "# Model replica number-3"
   ]
  },
  {
   "cell_type": "code",
   "execution_count": null,
   "metadata": {},
   "outputs": [],
   "source": [
    "# MODEL REPLICA NO.3\n",
    "X_train_3 = X_train[5000:-1]\n",
    "y_train_3 = y_train[5000:-1]"
   ]
  },
  {
   "cell_type": "code",
   "execution_count": null,
   "metadata": {},
   "outputs": [],
   "source": [
    "X_train_3, y_train_3 = PREPROCESS(X_train_3,y_train_3)"
   ]
  },
  {
   "cell_type": "code",
   "execution_count": null,
   "metadata": {},
   "outputs": [],
   "source": [
    "model_3 = CREATE_MODEL(X_train_3.shape[1])\n",
    "model_3.summary()"
   ]
  },
  {
   "cell_type": "code",
   "execution_count": null,
   "metadata": {},
   "outputs": [],
   "source": [
    "model_3 = COMPILE(model_3);\n",
    "history_3, model_3 = FIT(model_3,X_train_3,y_train_3,3)"
   ]
  },
  {
   "cell_type": "code",
   "execution_count": null,
   "metadata": {},
   "outputs": [],
   "source": [
    "PLOT(history_3,3)"
   ]
  },
  {
   "cell_type": "markdown",
   "metadata": {},
   "source": [
    "# The global model"
   ]
  },
  {
   "cell_type": "code",
   "execution_count": null,
   "metadata": {},
   "outputs": [],
   "source": [
    "model_g = CREATE_MODEL(X_test.shape[1])\n",
    "model_g.summary()"
   ]
  },
  {
   "cell_type": "code",
   "execution_count": null,
   "metadata": {},
   "outputs": [],
   "source": [
    "all_models = []\n",
    "LOAD_MODELS()"
   ]
  },
  {
   "cell_type": "code",
   "execution_count": null,
   "metadata": {},
   "outputs": [],
   "source": [
    "weights = [max(history_1.history['accuracy']), max(history_2.history['accuracy']), max(history_3.history['accuracy'])]\n",
    "x = max(weights)\n",
    "idx = weights.index(x)\n",
    "weights[idx] = 1\n",
    "x = min(weights)\n",
    "idx = weights.index(x)\n",
    "weights[idx] = 0.02\n",
    "for i in range(3):\n",
    "    if(weights[i] != 1 and weights[i] != 0.02):\n",
    "        weights[i] = 0.03\n",
    "        break\n",
    "avg_model_weights = APPLY_WEIGHT_FUNCTION(weights)"
   ]
  },
  {
   "cell_type": "code",
   "execution_count": null,
   "metadata": {},
   "outputs": [],
   "source": [
    "model_g.set_weights(avg_model_weights)\n",
    "model_g = COMPILE(model_g)\n",
    "_ , accuracy = model_g.evaluate(X_test,y_test,verbose=0)\n",
    "print(f\"Global Model Accuracy: {round(accuracy*100,2)}%\")"
   ]
  },
  {
   "cell_type": "code",
   "execution_count": null,
   "metadata": {},
   "outputs": [],
   "source": [
    "y_pred = model_g.predict(X_test)\n",
    "y_pred = np.argmax(y_pred,axis=1)"
   ]
  },
  {
   "cell_type": "code",
   "execution_count": null,
   "metadata": {},
   "outputs": [],
   "source": [
    "CONFUSION_MATRIX(y_test,y_pred)"
   ]
  },
  {
   "cell_type": "code",
   "execution_count": null,
   "metadata": {},
   "outputs": [],
   "source": []
  },
  {
   "cell_type": "code",
   "execution_count": null,
   "metadata": {},
   "outputs": [],
   "source": []
  },
  {
   "cell_type": "code",
   "execution_count": null,
   "metadata": {},
   "outputs": [],
   "source": []
  },
  {
   "cell_type": "code",
   "execution_count": null,
   "metadata": {},
   "outputs": [],
   "source": [
    "import pandas as pd"
   ]
  },
  {
   "cell_type": "code",
   "execution_count": null,
   "metadata": {},
   "outputs": [],
   "source": [
    "test = pd.read_csv('PCA/most_important_feature.txt', header = None)\n",
    "test[0].values"
   ]
  },
  {
   "cell_type": "code",
   "execution_count": null,
   "metadata": {},
   "outputs": [],
   "source": []
  }
 ],
 "metadata": {
  "kernelspec": {
   "display_name": "Python 3",
   "language": "python",
   "name": "python3"
  },
  "language_info": {
   "codemirror_mode": {
    "name": "ipython",
    "version": 3
   },
   "file_extension": ".py",
   "mimetype": "text/x-python",
   "name": "python",
   "nbconvert_exporter": "python",
   "pygments_lexer": "ipython3",
   "version": "3.7.3"
  }
 },
 "nbformat": 4,
 "nbformat_minor": 2
}
