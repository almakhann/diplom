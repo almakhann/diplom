{
 "cells": [
  {
   "cell_type": "code",
   "execution_count": 1,
   "metadata": {},
   "outputs": [],
   "source": [
    "import pandas as pd\n",
    "import numpy as np\n",
    "import matplotlib.pyplot as plt\n",
    "\n",
    "import scipy \n",
    "from scipy import stats,signal\n",
    "import statsmodels.api as sm"
   ]
  },
  {
   "cell_type": "code",
   "execution_count": 2,
   "metadata": {},
   "outputs": [],
   "source": [
    "import serial, time\n",
    "\n",
    "def Arduino(n):\n",
    "    ser = serial.Serial(port='/dev/cu.usbmodem1421', baudrate=22000)\n",
    "\n",
    "    if ser.isOpen():\n",
    "        print(\"{} connected!\".format(ser.port))\n",
    "        try:\n",
    "            start = time.time()\n",
    "            \n",
    "            gryo = {'X':[], 'Y': [], 'Z': []}\n",
    "            acc = {'X':[], 'Y': [], 'Z': []}\n",
    "            while True:  \n",
    "        \n",
    "                try:\n",
    "                  \n",
    "                    line_byte = ser.readline().strip().decode(\"UTF-8\")\n",
    "                  \n",
    "                except: \n",
    "                   \n",
    "                    continue\n",
    "                    \n",
    "                    \n",
    "                if 'Gryo' in line_byte:\n",
    "                    try:\n",
    "                        line = line_byte.split('\\t')\n",
    "                        gryo['X'].append(line[1])\n",
    "                        gryo['Y'].append(line[2])\n",
    "                        gryo['Z'].append(line[3])\n",
    "                        \n",
    "                    except:\n",
    "                        continue\n",
    "\n",
    "                if 'Acc' in line_byte:\n",
    "                    try:\n",
    "                        line = line_byte.split('\\t')\n",
    "                        acc['X'].append(line[1])\n",
    "                        acc['Y'].append(line[2])\n",
    "                        acc['Z'].append(line[3])\n",
    "                       \n",
    "                    except:\n",
    "                        continue\n",
    "                    \n",
    "                    if time.time() - start > n:\n",
    "                        break\n",
    "            return gryo, acc\n",
    "\n",
    "        except KeyboardInterrupt:\n",
    "            print(\"KeyboardInterrupt has been caught.\")"
   ]
  },
  {
   "cell_type": "code",
   "execution_count": 3,
   "metadata": {},
   "outputs": [
    {
     "name": "stdout",
     "output_type": "stream",
     "text": [
      "/dev/cu.usbmodem1421 connected!\n"
     ]
    }
   ],
   "source": [
    "a, b =Arduino(3)"
   ]
  },
  {
   "cell_type": "code",
   "execution_count": null,
   "metadata": {},
   "outputs": [],
   "source": []
  },
  {
   "cell_type": "code",
   "execution_count": 4,
   "metadata": {},
   "outputs": [],
   "source": [
    "s,m  = 10,30"
   ]
  },
  {
   "cell_type": "markdown",
   "metadata": {},
   "source": [
    "# Walking Up"
   ]
  },
  {
   "cell_type": "code",
   "execution_count": null,
   "metadata": {},
   "outputs": [],
   "source": [
    "time.sleep(5)\n",
    "print('start')\n",
    "gryo_wa1,acc_wa1 = Arduino(s)\n",
    "print(len(gryo_base['X']))\n",
    "\n",
    "wa_a1 = pd.DataFrame(acc_wa1)\n",
    "wa_g1 = pd.DataFrame(gryo_wa1)"
   ]
  },
  {
   "cell_type": "code",
   "execution_count": null,
   "metadata": {},
   "outputs": [],
   "source": [
    "time.sleep(5)\n",
    "print('start')\n",
    "gryo_wa2,acc_wa2 = Arduino(s)\n",
    "print(len(gryo_base['X']))\n",
    "\n",
    "wa_a2 = pd.DataFrame(acc_wa2)\n",
    "wa_g2 = pd.DataFrame(gryo_wa2)"
   ]
  },
  {
   "cell_type": "code",
   "execution_count": null,
   "metadata": {},
   "outputs": [],
   "source": [
    "time.sleep(5)\n",
    "print('start')\n",
    "gryo_wa3,acc_wa3 = Arduino(s)\n",
    "print(len(gryo_base['X']))\n",
    "\n",
    "wa_a3 = pd.DataFrame(acc_wa3)\n",
    "wa_g3 = pd.DataFrame(gryo_wa3)"
   ]
  },
  {
   "cell_type": "code",
   "execution_count": null,
   "metadata": {},
   "outputs": [],
   "source": [
    "time.sleep(5)\n",
    "print('start')\n",
    "gryo_wa4,acc_wa4 = Arduino(s)\n",
    "print(len(gryo_base['X']))\n",
    "\n",
    "wa_a4 = pd.DataFrame(acc_wa4)\n",
    "wa_g4 = pd.DataFrame(gryo_wa4)"
   ]
  },
  {
   "cell_type": "code",
   "execution_count": null,
   "metadata": {},
   "outputs": [],
   "source": [
    "w_up_acc = pd.concat( [pd.DataFrame(wa_a1),pd.DataFrame(wa_a2),pd.DataFrame(wa_a3),pd.DataFrame(wa_a4)], axis = 0).reset_index()\n",
    "w_up_gryo = pd.concat( [pd.DataFrame(wa_g1),pd.DataFrame(wa_g2),pd.DataFrame(wa_g3),pd.DataFrame(wa_g4)], axis = 0).reset_index()\n",
    "\n",
    "w_up_acc.drop(['index'],axis = 1, inplace = True)\n",
    "w_up_gryo.drop(['index'],axis = 1, inplace = True)"
   ]
  },
  {
   "cell_type": "code",
   "execution_count": null,
   "metadata": {},
   "outputs": [],
   "source": [
    "w_up_acc"
   ]
  },
  {
   "cell_type": "code",
   "execution_count": null,
   "metadata": {},
   "outputs": [],
   "source": [
    "for i in range (w_up_gryo.shape[0]):\n",
    "    x,y,z = w_up_gryo.iloc[i,:].values\n",
    "   \n",
    "    if 'Gryo' in x:\n",
    "        print(i)\n"
   ]
  },
  {
   "cell_type": "markdown",
   "metadata": {},
   "source": [
    "## Walking downstairs"
   ]
  },
  {
   "cell_type": "code",
   "execution_count": null,
   "metadata": {},
   "outputs": [],
   "source": [
    "time.sleep(5)\n",
    "print('start')\n",
    "gryo_base,acc_base = Arduino(s)\n",
    "print(len(gryo_base['X']))\n",
    "\n",
    "wd1 = pd.DataFrame(acc_base)\n",
    "wd2 = pd.DataFrame(gryo_base)"
   ]
  },
  {
   "cell_type": "code",
   "execution_count": null,
   "metadata": {},
   "outputs": [],
   "source": [
    "time.sleep(5)\n",
    "print('start')\n",
    "gryo_base,acc_base = Arduino(s)\n",
    "print(len(gryo_base['X']))\n",
    "\n",
    "wd3 = pd.DataFrame(acc_base)\n",
    "wd4 = pd.DataFrame(gryo_base)"
   ]
  },
  {
   "cell_type": "code",
   "execution_count": null,
   "metadata": {},
   "outputs": [],
   "source": [
    "time.sleep(5)\n",
    "print('start')\n",
    "gryo_base,acc_base = Arduino(s)\n",
    "print(len(gryo_base['X']))\n",
    "\n",
    "wd5 = pd.DataFrame(acc_base)\n",
    "wd6 = pd.DataFrame(gryo_base)"
   ]
  },
  {
   "cell_type": "code",
   "execution_count": null,
   "metadata": {},
   "outputs": [],
   "source": [
    "time.sleep(5)\n",
    "print('start')\n",
    "gryo_base,acc_base = Arduino(s)\n",
    "print(len(gryo_base['X']))\n",
    "\n",
    "wd7 = pd.DataFrame(acc_base)\n",
    "wd8 = pd.DataFrame(gryo_base)"
   ]
  },
  {
   "cell_type": "code",
   "execution_count": null,
   "metadata": {},
   "outputs": [],
   "source": [
    "w_down_acc = pd.concat( [pd.DataFrame(wd1),pd.DataFrame(wd3),pd.DataFrame(wd5)], axis = 0).reset_index()\n",
    "w_down_gryo = pd.concat( [pd.DataFrame(wd2),pd.DataFrame(wd4),pd.DataFrame(wd6)], axis = 0).reset_index()\n",
    "\n",
    "w_down_acc.drop(['index'],axis = 1, inplace = True)\n",
    "w_down_gryo.drop(['index'],axis = 1, inplace = True)"
   ]
  },
  {
   "cell_type": "code",
   "execution_count": null,
   "metadata": {},
   "outputs": [],
   "source": []
  },
  {
   "cell_type": "code",
   "execution_count": null,
   "metadata": {},
   "outputs": [],
   "source": [
    "w_down_gryo.drop(728, inplace = True)"
   ]
  },
  {
   "cell_type": "code",
   "execution_count": null,
   "metadata": {},
   "outputs": [],
   "source": [
    "w_down_acc.drop(729, inplace = True)"
   ]
  },
  {
   "cell_type": "code",
   "execution_count": null,
   "metadata": {},
   "outputs": [],
   "source": [
    "for i in range (w_down_acc.shape[0]):\n",
    "    x,y,z = w_down_acc.iloc[i,:].values\n",
    "    print(i,x,y,z)\n",
    "\n",
    "    "
   ]
  },
  {
   "cell_type": "markdown",
   "metadata": {},
   "source": [
    "## walking downstair"
   ]
  },
  {
   "cell_type": "code",
   "execution_count": null,
   "metadata": {},
   "outputs": [],
   "source": [
    "walking_down_ACC = w_down_acc\n",
    "walking_down_GRYO = w_down_gryo\n",
    "\n",
    "col = ['X', 'Y', 'Z']\n",
    "for i in col:\n",
    "    walking_down_ACC[[str(i)]] = walking_down_ACC[[i]].astype(float)\n",
    "    walking_down_GRYO[[str(i)]] = walking_down_GRYO[[i]].astype(float)\n",
    "\n",
    "pl = plt.figure(1)\n",
    "walking_down_ACC.plot()\n",
    "\n",
    "\n",
    "plt.figure(2)\n",
    "walking_down_GRYO.plot()\n",
    "\n",
    "plt.show()"
   ]
  },
  {
   "cell_type": "code",
   "execution_count": null,
   "metadata": {},
   "outputs": [],
   "source": [
    "walking_down_ACC.to_csv('Real-Time/walking_down_acc.csv', index = None)\n",
    "walking_down_GRYO.to_csv('Real-Time/walking_down_gryo.csv', index = None)"
   ]
  },
  {
   "cell_type": "code",
   "execution_count": null,
   "metadata": {},
   "outputs": [],
   "source": []
  },
  {
   "cell_type": "markdown",
   "metadata": {},
   "source": [
    "## walking upstair"
   ]
  },
  {
   "cell_type": "code",
   "execution_count": null,
   "metadata": {},
   "outputs": [],
   "source": [
    "walking_up_ACC = w_up_acc\n",
    "walking_up_GRYO = w_up_gryo\n",
    "\n",
    "col = ['X', 'Y', 'Z']\n",
    "for i in col:\n",
    "    walking_up_ACC[[str(i)]] = walking_up_ACC[[i]].astype(float)\n",
    "    walking_up_GRYO[[str(i)]] = walking_up_GRYO[[i]].astype(float)\n",
    "    \n",
    "pl = plt.figure(1)\n",
    "walking_up_ACC.plot()\n",
    "\n",
    "\n",
    "plt.figure(2)\n",
    "walking_up_GRYO.plot()\n",
    "\n",
    "\n",
    "\n",
    "plt.show()"
   ]
  },
  {
   "cell_type": "code",
   "execution_count": null,
   "metadata": {},
   "outputs": [],
   "source": [
    "walking_up_ACC.to_csv('Real-Time/walking_up_acc.csv', index = None)\n",
    "walking_up_GRYO.to_csv('Real-Time/walking_up_gryo.csv', index = None)"
   ]
  },
  {
   "cell_type": "code",
   "execution_count": null,
   "metadata": {},
   "outputs": [],
   "source": []
  },
  {
   "cell_type": "markdown",
   "metadata": {},
   "source": [
    "## Walking"
   ]
  },
  {
   "cell_type": "code",
   "execution_count": null,
   "metadata": {},
   "outputs": [],
   "source": [
    "time.sleep(2)\n",
    "print('start')\n",
    "gryo_walk,acc_walk = Arduino(m)\n",
    "print(len(gryo_walk['X']))\n",
    "\n",
    "walking_ACC = pd.DataFrame(acc_walk)\n",
    "walking_GRYO = pd.DataFrame(gryo_walk)\n",
    "\n",
    "col = ['X', 'Y', 'Z']\n",
    "for i in col:\n",
    "    walking_ACC[[str(i)]] = walking_ACC[[i]].astype(float)\n",
    "    walking_GRYO[[str(i)]] = walking_GRYO[[i]].astype(float)\n",
    "    \n",
    "pl = plt.figure(1)\n",
    "walking_ACC.plot()\n",
    "\n",
    "\n",
    "plt.figure(2)\n",
    "walking_GRYO.plot()\n",
    "\n",
    "plt.show()"
   ]
  },
  {
   "cell_type": "code",
   "execution_count": null,
   "metadata": {},
   "outputs": [],
   "source": [
    "walking_ACC.to_csv('Real-Time/walking_acc.csv', index = None)\n",
    "walking_GRYO.to_csv('Real-Time/walking_gryo.csv', index = None)"
   ]
  },
  {
   "cell_type": "code",
   "execution_count": null,
   "metadata": {},
   "outputs": [],
   "source": []
  },
  {
   "cell_type": "markdown",
   "metadata": {},
   "source": [
    "## Lying"
   ]
  },
  {
   "cell_type": "code",
   "execution_count": null,
   "metadata": {},
   "outputs": [],
   "source": [
    "print('start')\n",
    "gryo_lay,acc_lay = Arduino(m)\n",
    "print(len(gryo_lay['X']))\n",
    "\n",
    "lying_ACC = pd.DataFrame(acc_lay)\n",
    "lying_GRYO = pd.DataFrame(gryo_lay)\n",
    "\n",
    "col = ['X', 'Y', 'Z']\n",
    "for i in col:\n",
    "    lying_ACC[[str(i)]] = lying_ACC[[i]].astype(float)\n",
    "    lying_GRYO[[str(i)]] = lying_GRYO[[i]].astype(float)\n",
    "    \n",
    "pl = plt.figure(1)\n",
    "lying_ACC.plot()\n",
    "\n",
    "\n",
    "plt.figure(2)\n",
    "lying_GRYO.plot()\n",
    "\n",
    "plt.show()    "
   ]
  },
  {
   "cell_type": "code",
   "execution_count": null,
   "metadata": {},
   "outputs": [],
   "source": [
    "lying_ACC.to_csv('Real-Time/lying_acc.csv', index = None)\n",
    "lying_GRYO.to_csv('Real-Time/lying_gryo.csv', index = None)"
   ]
  },
  {
   "cell_type": "code",
   "execution_count": null,
   "metadata": {},
   "outputs": [],
   "source": []
  },
  {
   "cell_type": "markdown",
   "metadata": {},
   "source": [
    "## Sitting"
   ]
  },
  {
   "cell_type": "code",
   "execution_count": 6,
   "metadata": {},
   "outputs": [
    {
     "name": "stdout",
     "output_type": "stream",
     "text": [
      "start\n",
      "/dev/cu.usbmodem1421 connected!\n",
      "1488\n"
     ]
    },
    {
     "data": {
      "text/plain": [
       "<Figure size 432x288 with 0 Axes>"
      ]
     },
     "metadata": {},
     "output_type": "display_data"
    },
    {
     "data": {
      "image/png": "[encoded data removed]",
      "text/plain": [
       "<Figure size 432x288 with 1 Axes>"
      ]
     },
     "metadata": {
      "needs_background": "light"
     },
     "output_type": "display_data"
    },
    {
     "data": {
      "image/png": "[encoded data removed]",
      "text/plain": [
       "<Figure size 432x288 with 1 Axes>"
      ]
     },
     "metadata": {
      "needs_background": "light"
     },
     "output_type": "display_data"
    }
   ],
   "source": [
    "print('start')\n",
    "gryo_sitting,acc_sitting = Arduino(m)\n",
    "print(len(gryo_sitting['X']))\n",
    "\n",
    "sitting_ACC = pd.DataFrame(acc_sitting)\n",
    "sitting_GRYO = pd.DataFrame(gryo_sitting)\n",
    "\n",
    "col = ['X', 'Y', 'Z']\n",
    "for i in col:\n",
    "    sitting_ACC[[str(i)]] = sitting_ACC[[i]].astype(float)\n",
    "    sitting_GRYO[[str(i)]] = sitting_GRYO[[i]].astype(float)\n",
    "   \n",
    "\n",
    "\n",
    "pl = plt.figure(1)\n",
    "sitting_ACC.plot()\n",
    "\n",
    "plt.figure(2)\n",
    "sitting_GRYO.plot()\n",
    "\n",
    "plt.show()"
   ]
  },
  {
   "cell_type": "code",
   "execution_count": 7,
   "metadata": {},
   "outputs": [],
   "source": [
    "sitting_ACC.to_csv('Real-Time/sitting_acc.csv', index = None)\n",
    "sitting_GRYO.to_csv('Real-Time/sitting_gryo.csv', index = None)"
   ]
  },
  {
   "cell_type": "code",
   "execution_count": null,
   "metadata": {},
   "outputs": [],
   "source": []
  },
  {
   "cell_type": "markdown",
   "metadata": {},
   "source": [
    "## Standing"
   ]
  },
  {
   "cell_type": "code",
   "execution_count": null,
   "metadata": {},
   "outputs": [],
   "source": [
    "print('start')\n",
    "gryo_stand,acc_stand = Arduino(m)\n",
    "print(len(gryo_stand['X']))\n",
    "\n",
    "staying_ACC = pd.DataFrame(acc_stand)\n",
    "staying_GRYO = pd.DataFrame(gryo_stand)\n",
    "\n",
    "col = ['X', 'Y', 'Z']\n",
    "for i in col:\n",
    "    staying_ACC[[str(i)]] = staying_ACC[[i]].astype(float)\n",
    "    staying_GRYO[[str(i)]] = staying_GRYO[[i]].astype(float)\n",
    "    \n",
    "\n",
    "pl = plt.figure(1)\n",
    "staying_ACC.plot()\n",
    "\n",
    "\n",
    "plt.figure(2)\n",
    "staying_GRYO.plot()\n",
    "\n",
    "plt.show()"
   ]
  },
  {
   "cell_type": "code",
   "execution_count": null,
   "metadata": {},
   "outputs": [],
   "source": [
    "staying_ACC.to_csv('Real-Time/staying_acc.csv', index = None)\n",
    "staying_GRYO.to_csv('Real-Time/staying_gryo.csv', index = None)"
   ]
  },
  {
   "cell_type": "code",
   "execution_count": null,
   "metadata": {},
   "outputs": [],
   "source": []
  }
 ],
 "metadata": {
  "kernelspec": {
   "display_name": "Python 3",
   "language": "python",
   "name": "python3"
  },
  "language_info": {
   "codemirror_mode": {
    "name": "ipython",
    "version": 3
   },
   "file_extension": ".py",
   "mimetype": "text/x-python",
   "name": "python",
   "nbconvert_exporter": "python",
   "pygments_lexer": "ipython3",
   "version": "3.7.3"
  }
 },
 "nbformat": 4,
 "nbformat_minor": 4
}
