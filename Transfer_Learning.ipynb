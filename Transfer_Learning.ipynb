{
 "cells": [
  {
   "cell_type": "code",
   "execution_count": 1,
   "metadata": {},
   "outputs": [],
   "source": [
    "import tensorflow as tf\n",
    "from tensorflow.keras.models import Sequential, load_model\n",
    "from tensorflow.keras.layers import Dense, Input, Dropout, Flatten, LSTM\n",
    "\n",
    "from sklearn.preprocessing import LabelEncoder, MinMaxScaler\n",
    "from sklearn.utils import shuffle\n",
    "\n",
    "import pandas as pd\n",
    "import numpy as np\n",
    "import matplotlib.pyplot as plt\n",
    "import seaborn as sn\n",
    "\n",
    "import sklearn.metrics as metrics\n",
    "from sklearn.metrics import confusion_matrix, classification_report\n",
    "from sklearn.model_selection import train_test_split\n",
    "\n",
    "from sklearn.svm import SVC\n",
    "from sklearn.neighbors import KNeighborsClassifier\n",
    "from sklearn.ensemble import RandomForestClassifier\n",
    "\n",
    "from sklearn.preprocessing import MinMaxScaler\n",
    "from sklearn.model_selection import GridSearchCV\n",
    "\n",
    "from sklearn.decomposition import PCA\n",
    "from sklearn.discriminant_analysis import LinearDiscriminantAnalysis as LDA"
   ]
  },
  {
   "cell_type": "code",
   "execution_count": 2,
   "metadata": {},
   "outputs": [],
   "source": [
    "SEED = 42\n",
    "np.random.seed(SEED)\n",
    "tf.random.set_seed(SEED)"
   ]
  },
  {
   "cell_type": "code",
   "execution_count": 3,
   "metadata": {},
   "outputs": [],
   "source": [
    "LABELS = [\n",
    "    \"WALKING\",\n",
    "    \"WALKING_UPSTAIRS\",\n",
    "    \"WALKING_DOWNSTAIRS\",\n",
    "    \"SITTING\",\n",
    "    \"STANDING\",\n",
    "    \"LAYING\"\n",
    "]"
   ]
  },
  {
   "cell_type": "markdown",
   "metadata": {},
   "source": [
    "# Loading and preprocessing the raw data to a .csv file-"
   ]
  },
  {
   "cell_type": "code",
   "execution_count": 4,
   "metadata": {},
   "outputs": [
    {
     "data": {
      "text/html": [
       "<div>\n",
       "<style scoped>\n",
       "    .dataframe tbody tr th:only-of-type {\n",
       "        vertical-align: middle;\n",
       "    }\n",
       "\n",
       "    .dataframe tbody tr th {\n",
       "        vertical-align: top;\n",
       "    }\n",
       "\n",
       "    .dataframe thead th {\n",
       "        text-align: right;\n",
       "    }\n",
       "</style>\n",
       "<table border=\"1\" class=\"dataframe\">\n",
       "  <thead>\n",
       "    <tr style=\"text-align: right;\">\n",
       "      <th></th>\n",
       "      <th>tBodyAcc-mean()-X</th>\n",
       "      <th>tBodyAcc-mean()-Y</th>\n",
       "      <th>tBodyAcc-mean()-Z</th>\n",
       "      <th>tBodyAcc-std()-X</th>\n",
       "      <th>tBodyAcc-std()-Y</th>\n",
       "      <th>tBodyAcc-std()-Z</th>\n",
       "      <th>tBodyAcc-mad()-X</th>\n",
       "      <th>tBodyAcc-mad()-Y</th>\n",
       "      <th>tBodyAcc-mad()-Z</th>\n",
       "      <th>tBodyAcc-max()-X</th>\n",
       "      <th>...</th>\n",
       "      <th>angle(tBodyAccMean,gravity)</th>\n",
       "      <th>angle(tBodyAccJerkMean),gravityMean)</th>\n",
       "      <th>angle(tBodyGyroMean,gravityMean)</th>\n",
       "      <th>angle(tBodyGyroJerkMean,gravityMean)</th>\n",
       "      <th>angle(X,gravityMean)</th>\n",
       "      <th>angle(Y,gravityMean)</th>\n",
       "      <th>angle(Z,gravityMean)</th>\n",
       "      <th>subject_id</th>\n",
       "      <th>activity</th>\n",
       "      <th>activity_name</th>\n",
       "    </tr>\n",
       "  </thead>\n",
       "  <tbody>\n",
       "    <tr>\n",
       "      <th>0</th>\n",
       "      <td>0.288585</td>\n",
       "      <td>-0.020294</td>\n",
       "      <td>-0.132905</td>\n",
       "      <td>-0.995279</td>\n",
       "      <td>-0.983111</td>\n",
       "      <td>-0.913526</td>\n",
       "      <td>-0.995112</td>\n",
       "      <td>-0.983185</td>\n",
       "      <td>-0.923527</td>\n",
       "      <td>-0.934724</td>\n",
       "      <td>...</td>\n",
       "      <td>-0.112754</td>\n",
       "      <td>0.030400</td>\n",
       "      <td>-0.464761</td>\n",
       "      <td>-0.018446</td>\n",
       "      <td>-0.841247</td>\n",
       "      <td>0.179941</td>\n",
       "      <td>-0.058627</td>\n",
       "      <td>1</td>\n",
       "      <td>5</td>\n",
       "      <td>STANDING</td>\n",
       "    </tr>\n",
       "    <tr>\n",
       "      <th>1</th>\n",
       "      <td>0.278419</td>\n",
       "      <td>-0.016411</td>\n",
       "      <td>-0.123520</td>\n",
       "      <td>-0.998245</td>\n",
       "      <td>-0.975300</td>\n",
       "      <td>-0.960322</td>\n",
       "      <td>-0.998807</td>\n",
       "      <td>-0.974914</td>\n",
       "      <td>-0.957686</td>\n",
       "      <td>-0.943068</td>\n",
       "      <td>...</td>\n",
       "      <td>0.053477</td>\n",
       "      <td>-0.007435</td>\n",
       "      <td>-0.732626</td>\n",
       "      <td>0.703511</td>\n",
       "      <td>-0.844788</td>\n",
       "      <td>0.180289</td>\n",
       "      <td>-0.054317</td>\n",
       "      <td>1</td>\n",
       "      <td>5</td>\n",
       "      <td>STANDING</td>\n",
       "    </tr>\n",
       "    <tr>\n",
       "      <th>2</th>\n",
       "      <td>0.279653</td>\n",
       "      <td>-0.019467</td>\n",
       "      <td>-0.113462</td>\n",
       "      <td>-0.995380</td>\n",
       "      <td>-0.967187</td>\n",
       "      <td>-0.978944</td>\n",
       "      <td>-0.996520</td>\n",
       "      <td>-0.963668</td>\n",
       "      <td>-0.977469</td>\n",
       "      <td>-0.938692</td>\n",
       "      <td>...</td>\n",
       "      <td>-0.118559</td>\n",
       "      <td>0.177899</td>\n",
       "      <td>0.100699</td>\n",
       "      <td>0.808529</td>\n",
       "      <td>-0.848933</td>\n",
       "      <td>0.180637</td>\n",
       "      <td>-0.049118</td>\n",
       "      <td>1</td>\n",
       "      <td>5</td>\n",
       "      <td>STANDING</td>\n",
       "    </tr>\n",
       "    <tr>\n",
       "      <th>3</th>\n",
       "      <td>0.279174</td>\n",
       "      <td>-0.026201</td>\n",
       "      <td>-0.123283</td>\n",
       "      <td>-0.996091</td>\n",
       "      <td>-0.983403</td>\n",
       "      <td>-0.990675</td>\n",
       "      <td>-0.997099</td>\n",
       "      <td>-0.982750</td>\n",
       "      <td>-0.989302</td>\n",
       "      <td>-0.938692</td>\n",
       "      <td>...</td>\n",
       "      <td>-0.036788</td>\n",
       "      <td>-0.012892</td>\n",
       "      <td>0.640011</td>\n",
       "      <td>-0.485366</td>\n",
       "      <td>-0.848649</td>\n",
       "      <td>0.181935</td>\n",
       "      <td>-0.047663</td>\n",
       "      <td>1</td>\n",
       "      <td>5</td>\n",
       "      <td>STANDING</td>\n",
       "    </tr>\n",
       "    <tr>\n",
       "      <th>4</th>\n",
       "      <td>0.276629</td>\n",
       "      <td>-0.016570</td>\n",
       "      <td>-0.115362</td>\n",
       "      <td>-0.998139</td>\n",
       "      <td>-0.980817</td>\n",
       "      <td>-0.990482</td>\n",
       "      <td>-0.998321</td>\n",
       "      <td>-0.979672</td>\n",
       "      <td>-0.990441</td>\n",
       "      <td>-0.942469</td>\n",
       "      <td>...</td>\n",
       "      <td>0.123320</td>\n",
       "      <td>0.122542</td>\n",
       "      <td>0.693578</td>\n",
       "      <td>-0.615971</td>\n",
       "      <td>-0.847865</td>\n",
       "      <td>0.185151</td>\n",
       "      <td>-0.043892</td>\n",
       "      <td>1</td>\n",
       "      <td>5</td>\n",
       "      <td>STANDING</td>\n",
       "    </tr>\n",
       "  </tbody>\n",
       "</table>\n",
       "<p>5 rows × 564 columns</p>\n",
       "</div>"
      ],
      "text/plain": [
       "   tBodyAcc-mean()-X  tBodyAcc-mean()-Y  tBodyAcc-mean()-Z  tBodyAcc-std()-X  \\\n",
       "0           0.288585          -0.020294          -0.132905         -0.995279   \n",
       "1           0.278419          -0.016411          -0.123520         -0.998245   \n",
       "2           0.279653          -0.019467          -0.113462         -0.995380   \n",
       "3           0.279174          -0.026201          -0.123283         -0.996091   \n",
       "4           0.276629          -0.016570          -0.115362         -0.998139   \n",
       "\n",
       "   tBodyAcc-std()-Y  tBodyAcc-std()-Z  tBodyAcc-mad()-X  tBodyAcc-mad()-Y  \\\n",
       "0         -0.983111         -0.913526         -0.995112         -0.983185   \n",
       "1         -0.975300         -0.960322         -0.998807         -0.974914   \n",
       "2         -0.967187         -0.978944         -0.996520         -0.963668   \n",
       "3         -0.983403         -0.990675         -0.997099         -0.982750   \n",
       "4         -0.980817         -0.990482         -0.998321         -0.979672   \n",
       "\n",
       "   tBodyAcc-mad()-Z  tBodyAcc-max()-X  ...  angle(tBodyAccMean,gravity)  \\\n",
       "0         -0.923527         -0.934724  ...                    -0.112754   \n",
       "1         -0.957686         -0.943068  ...                     0.053477   \n",
       "2         -0.977469         -0.938692  ...                    -0.118559   \n",
       "3         -0.989302         -0.938692  ...                    -0.036788   \n",
       "4         -0.990441         -0.942469  ...                     0.123320   \n",
       "\n",
       "   angle(tBodyAccJerkMean),gravityMean)  angle(tBodyGyroMean,gravityMean)  \\\n",
       "0                              0.030400                         -0.464761   \n",
       "1                             -0.007435                         -0.732626   \n",
       "2                              0.177899                          0.100699   \n",
       "3                             -0.012892                          0.640011   \n",
       "4                              0.122542                          0.693578   \n",
       "\n",
       "   angle(tBodyGyroJerkMean,gravityMean)  angle(X,gravityMean)  \\\n",
       "0                             -0.018446             -0.841247   \n",
       "1                              0.703511             -0.844788   \n",
       "2                              0.808529             -0.848933   \n",
       "3                             -0.485366             -0.848649   \n",
       "4                             -0.615971             -0.847865   \n",
       "\n",
       "   angle(Y,gravityMean)  angle(Z,gravityMean)  subject_id  activity  \\\n",
       "0              0.179941             -0.058627           1         5   \n",
       "1              0.180289             -0.054317           1         5   \n",
       "2              0.180637             -0.049118           1         5   \n",
       "3              0.181935             -0.047663           1         5   \n",
       "4              0.185151             -0.043892           1         5   \n",
       "\n",
       "   activity_name  \n",
       "0       STANDING  \n",
       "1       STANDING  \n",
       "2       STANDING  \n",
       "3       STANDING  \n",
       "4       STANDING  \n",
       "\n",
       "[5 rows x 564 columns]"
      ]
     },
     "execution_count": 4,
     "metadata": {},
     "output_type": "execute_result"
    }
   ],
   "source": [
    "# The data is given in the form of .txt files. Here we convert the data into a .csv file \n",
    "# and save it under the 'train' and 'test' directories for further use. Also the data here is \n",
    "# arranged according to the subject ID. Therefore to break any correlation that may exists \n",
    "# between the datapoints, we shuffle the dataset before dividing it into public and private \n",
    "# datasets to be used in the Neural Network model.\n",
    "features = []\n",
    "with open(\"./UCI HAR Dataset/features.txt\") as file:\n",
    "    for line in file:\n",
    "        features.append(line.split()[1])\n",
    "        \n",
    "# Renaming duplicate column names\n",
    "names = []\n",
    "count = {}\n",
    "for feature in features:\n",
    "    if(features.count(feature) > 1):\n",
    "        names.append(feature)\n",
    "for name in names:\n",
    "    count[name] = features.count(name)\n",
    "\n",
    "for i in range(len(features)):\n",
    "    if(features[i] in names):\n",
    "        num = count[features[i]]\n",
    "        count[features[i]] -= 1;\n",
    "        features[i] = str(features[i] + str(num))\n",
    "        \n",
    "train_df = pd.read_csv(\"./UCI HAR Dataset/train/X_train.txt\", delim_whitespace = True,names= features)\n",
    "train_df['subject_id'] = pd.read_csv(\"./UCI HAR Dataset/train/subject_train.txt\",header= None,squeeze=True)\n",
    "train_df[\"activity\"] = pd.read_csv(\"./UCI HAR Dataset/train/y_train.txt\", header = None, squeeze = True)\n",
    "activity = pd.read_csv(\"./UCI HAR Dataset/train/y_train.txt\", header = None, squeeze = True)\n",
    "label_name = activity.map({1: \"WALKING\", 2:\"WALKING_UPSTAIRS\", 3:\"WALKING_DOWNSTAIRS\", 4:\"SITTING\", 5:\"STANDING\", 6:\"LYING\"})\n",
    "train_df[\"activity_name\"] = label_name\n",
    "train_df.head()"
   ]
  },
  {
   "cell_type": "code",
   "execution_count": 5,
   "metadata": {},
   "outputs": [
    {
     "data": {
      "text/html": [
       "<div>\n",
       "<style scoped>\n",
       "    .dataframe tbody tr th:only-of-type {\n",
       "        vertical-align: middle;\n",
       "    }\n",
       "\n",
       "    .dataframe tbody tr th {\n",
       "        vertical-align: top;\n",
       "    }\n",
       "\n",
       "    .dataframe thead th {\n",
       "        text-align: right;\n",
       "    }\n",
       "</style>\n",
       "<table border=\"1\" class=\"dataframe\">\n",
       "  <thead>\n",
       "    <tr style=\"text-align: right;\">\n",
       "      <th></th>\n",
       "      <th>tBodyAcc-mean()-X</th>\n",
       "      <th>tBodyAcc-mean()-Y</th>\n",
       "      <th>tBodyAcc-mean()-Z</th>\n",
       "      <th>tBodyAcc-std()-X</th>\n",
       "      <th>tBodyAcc-std()-Y</th>\n",
       "      <th>tBodyAcc-std()-Z</th>\n",
       "      <th>tBodyAcc-mad()-X</th>\n",
       "      <th>tBodyAcc-mad()-Y</th>\n",
       "      <th>tBodyAcc-mad()-Z</th>\n",
       "      <th>tBodyAcc-max()-X</th>\n",
       "      <th>...</th>\n",
       "      <th>angle(tBodyAccMean,gravity)</th>\n",
       "      <th>angle(tBodyAccJerkMean),gravityMean)</th>\n",
       "      <th>angle(tBodyGyroMean,gravityMean)</th>\n",
       "      <th>angle(tBodyGyroJerkMean,gravityMean)</th>\n",
       "      <th>angle(X,gravityMean)</th>\n",
       "      <th>angle(Y,gravityMean)</th>\n",
       "      <th>angle(Z,gravityMean)</th>\n",
       "      <th>subject_id</th>\n",
       "      <th>activity</th>\n",
       "      <th>activity_name</th>\n",
       "    </tr>\n",
       "  </thead>\n",
       "  <tbody>\n",
       "    <tr>\n",
       "      <th>0</th>\n",
       "      <td>0.257178</td>\n",
       "      <td>-0.023285</td>\n",
       "      <td>-0.014654</td>\n",
       "      <td>-0.938404</td>\n",
       "      <td>-0.920091</td>\n",
       "      <td>-0.667683</td>\n",
       "      <td>-0.952501</td>\n",
       "      <td>-0.925249</td>\n",
       "      <td>-0.674302</td>\n",
       "      <td>-0.894088</td>\n",
       "      <td>...</td>\n",
       "      <td>0.006462</td>\n",
       "      <td>0.162920</td>\n",
       "      <td>-0.825886</td>\n",
       "      <td>0.271151</td>\n",
       "      <td>-0.720009</td>\n",
       "      <td>0.276801</td>\n",
       "      <td>-0.057978</td>\n",
       "      <td>2</td>\n",
       "      <td>5</td>\n",
       "      <td>STANDING</td>\n",
       "    </tr>\n",
       "    <tr>\n",
       "      <th>1</th>\n",
       "      <td>0.286027</td>\n",
       "      <td>-0.013163</td>\n",
       "      <td>-0.119083</td>\n",
       "      <td>-0.975415</td>\n",
       "      <td>-0.967458</td>\n",
       "      <td>-0.944958</td>\n",
       "      <td>-0.986799</td>\n",
       "      <td>-0.968401</td>\n",
       "      <td>-0.945823</td>\n",
       "      <td>-0.894088</td>\n",
       "      <td>...</td>\n",
       "      <td>-0.083495</td>\n",
       "      <td>0.017500</td>\n",
       "      <td>-0.434375</td>\n",
       "      <td>0.920593</td>\n",
       "      <td>-0.698091</td>\n",
       "      <td>0.281343</td>\n",
       "      <td>-0.083898</td>\n",
       "      <td>2</td>\n",
       "      <td>5</td>\n",
       "      <td>STANDING</td>\n",
       "    </tr>\n",
       "    <tr>\n",
       "      <th>2</th>\n",
       "      <td>0.275485</td>\n",
       "      <td>-0.026050</td>\n",
       "      <td>-0.118152</td>\n",
       "      <td>-0.993819</td>\n",
       "      <td>-0.969926</td>\n",
       "      <td>-0.962748</td>\n",
       "      <td>-0.994403</td>\n",
       "      <td>-0.970735</td>\n",
       "      <td>-0.963483</td>\n",
       "      <td>-0.939260</td>\n",
       "      <td>...</td>\n",
       "      <td>-0.034956</td>\n",
       "      <td>0.202302</td>\n",
       "      <td>0.064103</td>\n",
       "      <td>0.145068</td>\n",
       "      <td>-0.702771</td>\n",
       "      <td>0.280083</td>\n",
       "      <td>-0.079346</td>\n",
       "      <td>2</td>\n",
       "      <td>5</td>\n",
       "      <td>STANDING</td>\n",
       "    </tr>\n",
       "    <tr>\n",
       "      <th>3</th>\n",
       "      <td>0.270298</td>\n",
       "      <td>-0.032614</td>\n",
       "      <td>-0.117520</td>\n",
       "      <td>-0.994743</td>\n",
       "      <td>-0.973268</td>\n",
       "      <td>-0.967091</td>\n",
       "      <td>-0.995274</td>\n",
       "      <td>-0.974471</td>\n",
       "      <td>-0.968897</td>\n",
       "      <td>-0.938610</td>\n",
       "      <td>...</td>\n",
       "      <td>-0.017067</td>\n",
       "      <td>0.154438</td>\n",
       "      <td>0.340134</td>\n",
       "      <td>0.296407</td>\n",
       "      <td>-0.698954</td>\n",
       "      <td>0.284114</td>\n",
       "      <td>-0.077108</td>\n",
       "      <td>2</td>\n",
       "      <td>5</td>\n",
       "      <td>STANDING</td>\n",
       "    </tr>\n",
       "    <tr>\n",
       "      <th>4</th>\n",
       "      <td>0.274833</td>\n",
       "      <td>-0.027848</td>\n",
       "      <td>-0.129527</td>\n",
       "      <td>-0.993852</td>\n",
       "      <td>-0.967445</td>\n",
       "      <td>-0.978295</td>\n",
       "      <td>-0.994111</td>\n",
       "      <td>-0.965953</td>\n",
       "      <td>-0.977346</td>\n",
       "      <td>-0.938610</td>\n",
       "      <td>...</td>\n",
       "      <td>-0.002223</td>\n",
       "      <td>-0.040046</td>\n",
       "      <td>0.736715</td>\n",
       "      <td>-0.118545</td>\n",
       "      <td>-0.692245</td>\n",
       "      <td>0.290722</td>\n",
       "      <td>-0.073857</td>\n",
       "      <td>2</td>\n",
       "      <td>5</td>\n",
       "      <td>STANDING</td>\n",
       "    </tr>\n",
       "  </tbody>\n",
       "</table>\n",
       "<p>5 rows × 564 columns</p>\n",
       "</div>"
      ],
      "text/plain": [
       "   tBodyAcc-mean()-X  tBodyAcc-mean()-Y  tBodyAcc-mean()-Z  tBodyAcc-std()-X  \\\n",
       "0           0.257178          -0.023285          -0.014654         -0.938404   \n",
       "1           0.286027          -0.013163          -0.119083         -0.975415   \n",
       "2           0.275485          -0.026050          -0.118152         -0.993819   \n",
       "3           0.270298          -0.032614          -0.117520         -0.994743   \n",
       "4           0.274833          -0.027848          -0.129527         -0.993852   \n",
       "\n",
       "   tBodyAcc-std()-Y  tBodyAcc-std()-Z  tBodyAcc-mad()-X  tBodyAcc-mad()-Y  \\\n",
       "0         -0.920091         -0.667683         -0.952501         -0.925249   \n",
       "1         -0.967458         -0.944958         -0.986799         -0.968401   \n",
       "2         -0.969926         -0.962748         -0.994403         -0.970735   \n",
       "3         -0.973268         -0.967091         -0.995274         -0.974471   \n",
       "4         -0.967445         -0.978295         -0.994111         -0.965953   \n",
       "\n",
       "   tBodyAcc-mad()-Z  tBodyAcc-max()-X  ...  angle(tBodyAccMean,gravity)  \\\n",
       "0         -0.674302         -0.894088  ...                     0.006462   \n",
       "1         -0.945823         -0.894088  ...                    -0.083495   \n",
       "2         -0.963483         -0.939260  ...                    -0.034956   \n",
       "3         -0.968897         -0.938610  ...                    -0.017067   \n",
       "4         -0.977346         -0.938610  ...                    -0.002223   \n",
       "\n",
       "   angle(tBodyAccJerkMean),gravityMean)  angle(tBodyGyroMean,gravityMean)  \\\n",
       "0                              0.162920                         -0.825886   \n",
       "1                              0.017500                         -0.434375   \n",
       "2                              0.202302                          0.064103   \n",
       "3                              0.154438                          0.340134   \n",
       "4                             -0.040046                          0.736715   \n",
       "\n",
       "   angle(tBodyGyroJerkMean,gravityMean)  angle(X,gravityMean)  \\\n",
       "0                              0.271151             -0.720009   \n",
       "1                              0.920593             -0.698091   \n",
       "2                              0.145068             -0.702771   \n",
       "3                              0.296407             -0.698954   \n",
       "4                             -0.118545             -0.692245   \n",
       "\n",
       "   angle(Y,gravityMean)  angle(Z,gravityMean)  subject_id  activity  \\\n",
       "0              0.276801             -0.057978           2         5   \n",
       "1              0.281343             -0.083898           2         5   \n",
       "2              0.280083             -0.079346           2         5   \n",
       "3              0.284114             -0.077108           2         5   \n",
       "4              0.290722             -0.073857           2         5   \n",
       "\n",
       "   activity_name  \n",
       "0       STANDING  \n",
       "1       STANDING  \n",
       "2       STANDING  \n",
       "3       STANDING  \n",
       "4       STANDING  \n",
       "\n",
       "[5 rows x 564 columns]"
      ]
     },
     "execution_count": 5,
     "metadata": {},
     "output_type": "execute_result"
    }
   ],
   "source": [
    "test_df = pd.read_csv(\"./UCI HAR Dataset/test/X_test.txt\", delim_whitespace = True, names = features)\n",
    "test_df['subject_id'] = pd.read_csv(\"./UCI HAR Dataset/test/subject_test.txt\",header= None,squeeze=True)\n",
    "test_df[\"activity\"] = pd.read_csv(\"./UCI HAR Dataset/test/y_test.txt\", header = None, squeeze = True)\n",
    "activity = pd.read_csv(\"./UCI HAR Dataset/test/y_test.txt\", header = None, squeeze = True)\n",
    "label_name = activity.map({1: \"WALKING\", 2:\"WALKING_UPSTAIRS\", 3:\"WALKING_DOWNSTAIRS\", 4:\"SITTING\", 5:\"STANDING\", 6:\"LYING\"})\n",
    "test_df[\"activity_name\"] = label_name\n",
    "test_df.head()"
   ]
  },
  {
   "cell_type": "markdown",
   "metadata": {},
   "source": [
    "# Saving train and test data to a resuable .csv file-"
   ]
  },
  {
   "cell_type": "code",
   "execution_count": 6,
   "metadata": {},
   "outputs": [],
   "source": [
    "train_df = shuffle(train_df)\n",
    "test_df = shuffle(test_df)\n",
    "train_df.to_csv(\"./UCI HAR Dataset/train/train.csv\", index = False)\n",
    "test_df.to_csv(\"./UCI HAR Dataset/test/test.csv\", index = False)"
   ]
  },
  {
   "cell_type": "markdown",
   "metadata": {},
   "source": [
    "# Loading the data from the .csv file-"
   ]
  },
  {
   "cell_type": "code",
   "execution_count": 7,
   "metadata": {},
   "outputs": [],
   "source": [
    "train_df = pd.read_csv('./UCI HAR Dataset/train/train.csv')\n",
    "test_df = pd.read_csv('./UCI HAR Dataset/test/test.csv')\n",
    "train_df['activity'] -= 1;\n",
    "test_df['activity'] -= 1;\n",
    "\n",
    "y_train = train_df['activity']\n",
    "X_train = train_df.drop(['activity','activity_name','subject_id'],axis=1)\n",
    "y_test = test_df['activity']\n",
    "X_test = test_df.drop(['activity','activity_name','subject_id'],axis=1)"
   ]
  },
  {
   "cell_type": "code",
   "execution_count": 8,
   "metadata": {},
   "outputs": [
    {
     "data": {
      "text/plain": [
       "((7352, 561), (7352,), (2947, 561), (2947,))"
      ]
     },
     "execution_count": 8,
     "metadata": {},
     "output_type": "execute_result"
    }
   ],
   "source": [
    "X_train.shape, y_train.shape, X_test.shape, y_test.shape"
   ]
  },
  {
   "cell_type": "code",
   "execution_count": 9,
   "metadata": {},
   "outputs": [],
   "source": [
    "# X_train = pd.concat([X_train,X_test], axis = 0)\n",
    "# y_train = pd.concat([y_train,y_test], axis = 0)\n",
    "\n",
    "# X_train.shape, y_train.shape"
   ]
  },
  {
   "cell_type": "code",
   "execution_count": null,
   "metadata": {},
   "outputs": [],
   "source": []
  },
  {
   "cell_type": "code",
   "execution_count": null,
   "metadata": {},
   "outputs": [],
   "source": []
  },
  {
   "cell_type": "code",
   "execution_count": null,
   "metadata": {},
   "outputs": [],
   "source": []
  },
  {
   "cell_type": "code",
   "execution_count": 10,
   "metadata": {},
   "outputs": [],
   "source": [
    "def results(clf, trainX, trainY ,X, y_true): \n",
    "    clf.fit(trainX, trainY.values.ravel())\n",
    "    \n",
    "    X_test_values = X\n",
    "    y_predicted = clf.predict(X_test_values)\n",
    "    print(classification_report(y_true, y_predicted))\n",
    "\n",
    "    array = confusion_matrix(y_true, y_predicted)\n",
    "    df_cm = pd.DataFrame(array, index = [i for i in LABELS],\n",
    "                    columns = [i for i in LABELS])\n",
    "#     plt.figure(figsize = (10,7))\n",
    "#     sn.heatmap(df_cm, annot=True, cmap=\"BuPu\",fmt='g')\n",
    "    \n",
    "   \n",
    "    recall = metrics.recall_score(y_true, y_predicted, average='macro' )\n",
    "    precision = metrics.precision_score(y_true, y_predicted, average='macro' )\n",
    "    f_score = metrics.f1_score(y_true, y_predicted, average=\"macro\") \n",
    "    acc = metrics.accuracy_score(y_true, y_predicted)\n",
    "    \n",
    "    print(round(recall,4) * 100, 'Recall')\n",
    "    print(round(precision, 4)*100, 'pre')\n",
    "    print(round(f_score, 4)*100, \"fscore\")\n",
    "    print(round(acc, 4) *100, 'acc')"
   ]
  },
  {
   "cell_type": "markdown",
   "metadata": {},
   "source": [
    "# Dimensionality Reduction"
   ]
  },
  {
   "cell_type": "markdown",
   "metadata": {},
   "source": [
    "## PCA"
   ]
  },
  {
   "cell_type": "code",
   "execution_count": 11,
   "metadata": {},
   "outputs": [
    {
     "data": {
      "image/png": "[encoded data removed]",
      "text/plain": [
       "<Figure size 432x288 with 1 Axes>"
      ]
     },
     "metadata": {
      "needs_background": "light"
     },
     "output_type": "display_data"
    }
   ],
   "source": [
    "pca = PCA().fit(X_train)\n",
    "n_pcs= pca.components_.shape[0]\n",
    "\n",
    "most_important = [np.abs(pca.components_[i]).argmax() for i in range(n_pcs)]\n",
    "most_important = most_important[:350]\n",
    "# print(most_important)\n",
    "\n",
    "\n",
    "# Plotting the Cumulative Summation of the Explained Variance\n",
    "plt.figure()\n",
    "plt.plot(np.cumsum(pca.explained_variance_ratio_))\n",
    "plt.xlabel('Number of Components')\n",
    "plt.ylabel('Variance (%)') #for each component\n",
    "plt.title('HAR FEATURE Explained Variance')\n",
    "plt.show()"
   ]
  },
  {
   "cell_type": "code",
   "execution_count": 12,
   "metadata": {},
   "outputs": [],
   "source": [
    "# ratio = np.cumsum(pca.explained_variance_ratio_)\n",
    "# for i in range(len(ratio)):\n",
    "#     print(i, ratio[i])"
   ]
  },
  {
   "cell_type": "code",
   "execution_count": 13,
   "metadata": {},
   "outputs": [],
   "source": [
    "X_train_pca = X_train.iloc[:,most_important]\n",
    "X_test_pca = X_test.iloc[:,most_important]"
   ]
  },
  {
   "cell_type": "markdown",
   "metadata": {},
   "source": [
    "### Models"
   ]
  },
  {
   "cell_type": "code",
   "execution_count": 14,
   "metadata": {},
   "outputs": [
    {
     "name": "stdout",
     "output_type": "stream",
     "text": [
      "              precision    recall  f1-score   support\n",
      "\n",
      "           0       0.96      0.98      0.97       496\n",
      "           1       0.97      0.96      0.96       471\n",
      "           2       0.95      0.95      0.95       420\n",
      "           3       0.96      0.91      0.93       491\n",
      "           4       0.92      0.96      0.94       532\n",
      "           5       1.00      1.00      1.00       537\n",
      "\n",
      "    accuracy                           0.96      2947\n",
      "   macro avg       0.96      0.96      0.96      2947\n",
      "weighted avg       0.96      0.96      0.96      2947\n",
      "\n",
      "96.04 Recall\n",
      "96.14 pre\n",
      "96.07 fscore\n",
      "96.13000000000001 acc\n"
     ]
    }
   ],
   "source": [
    "#SVM\n",
    "\n",
    "svm = SVC(C = 10, gamma = 0.01, kernel = 'rbf')\n",
    "results(svm, X_train_pca, y_train ,X_test_pca, y_test)"
   ]
  },
  {
   "cell_type": "code",
   "execution_count": 15,
   "metadata": {},
   "outputs": [],
   "source": [
    "# svc_param_selection(X_train_pca, y_train, 5)"
   ]
  },
  {
   "cell_type": "code",
   "execution_count": 16,
   "metadata": {},
   "outputs": [
    {
     "name": "stdout",
     "output_type": "stream",
     "text": [
      "              precision    recall  f1-score   support\n",
      "\n",
      "           0       0.78      0.99      0.87       496\n",
      "           1       0.89      0.82      0.85       471\n",
      "           2       0.96      0.75      0.84       420\n",
      "           3       0.86      0.74      0.80       491\n",
      "           4       0.79      0.89      0.84       532\n",
      "           5       1.00      0.98      0.99       537\n",
      "\n",
      "    accuracy                           0.87      2947\n",
      "   macro avg       0.88      0.86      0.86      2947\n",
      "weighted avg       0.88      0.87      0.87      2947\n",
      "\n",
      "86.22999999999999 Recall\n",
      "87.86 pre\n",
      "86.48 fscore\n",
      "86.77 acc\n"
     ]
    }
   ],
   "source": [
    "#KNN\n",
    "\n",
    "knn = KNeighborsClassifier(metric= 'manhattan', n_neighbors = 15, weights = 'distance')\n",
    "results(knn, X_train_pca, y_train ,X_test_pca, y_test)"
   ]
  },
  {
   "cell_type": "code",
   "execution_count": 17,
   "metadata": {},
   "outputs": [],
   "source": [
    "# knn_param_selection(X_train_pca, y_train, 5)"
   ]
  },
  {
   "cell_type": "code",
   "execution_count": 18,
   "metadata": {},
   "outputs": [
    {
     "name": "stdout",
     "output_type": "stream",
     "text": [
      "              precision    recall  f1-score   support\n",
      "\n",
      "           0       0.94      0.98      0.96       496\n",
      "           1       0.92      0.94      0.93       471\n",
      "           2       0.95      0.89      0.92       420\n",
      "           3       0.95      0.86      0.90       491\n",
      "           4       0.88      0.96      0.92       532\n",
      "           5       1.00      1.00      1.00       537\n",
      "\n",
      "    accuracy                           0.94      2947\n",
      "   macro avg       0.94      0.94      0.94      2947\n",
      "weighted avg       0.94      0.94      0.94      2947\n",
      "\n",
      "93.57 Recall\n",
      "93.96 pre\n",
      "93.67 fscore\n",
      "93.82000000000001 acc\n"
     ]
    }
   ],
   "source": [
    "#RF\n",
    "\n",
    "rf = RandomForestClassifier(max_features= 'sqrt', min_samples_split= 6, n_estimators = 50)\n",
    "results(rf, X_train_pca, y_train ,X_test_pca, y_test)"
   ]
  },
  {
   "cell_type": "code",
   "execution_count": 19,
   "metadata": {},
   "outputs": [],
   "source": [
    "# rf_param_selection(X_train_pca, y_train, 5)"
   ]
  },
  {
   "cell_type": "markdown",
   "metadata": {},
   "source": [
    "## LDA"
   ]
  },
  {
   "cell_type": "code",
   "execution_count": 85,
   "metadata": {},
   "outputs": [],
   "source": [
    "lda = LDA(n_components=None)\n",
    "\n",
    "lda = lda.fit(X_train_pca, y_train.values.ravel())\n",
    "\n",
    "X_train_lda = lda.transform(X_train_pca)   \n",
    "X_test_lda = lda.transform(X_test_pca) \n"
   ]
  },
  {
   "cell_type": "code",
   "execution_count": 86,
   "metadata": {},
   "outputs": [
    {
     "name": "stdout",
     "output_type": "stream",
     "text": [
      "[[-1.03308137  0.76717623  0.01387004  0.26968125 -0.20261683]\n",
      " [-0.20043709  0.08384777  0.09978601 -0.11426939  0.09769512]\n",
      " [-2.2353199  -3.23693714  0.03416969  0.81607733 -0.70780613]\n",
      " ...\n",
      " [ 0.07870136 -0.13862104 -1.12303739  0.43602113  0.05587387]\n",
      " [-1.17033455  1.30205466  1.63017368  0.03397762 -0.49701025]\n",
      " [-1.0395992   0.80103936  1.41715476 -2.04652787 -1.09394116]]\n"
     ]
    }
   ],
   "source": [
    "print(lda.scalings_)"
   ]
  },
  {
   "cell_type": "code",
   "execution_count": 87,
   "metadata": {},
   "outputs": [
    {
     "data": {
      "text/plain": [
       "array([0.66642521, 0.24797427, 0.05113157, 0.02575691, 0.00871204])"
      ]
     },
     "execution_count": 87,
     "metadata": {},
     "output_type": "execute_result"
    }
   ],
   "source": [
    "lda_var_ratios = lda.explained_variance_ratio_\n",
    "lda_var_ratios"
   ]
  },
  {
   "cell_type": "code",
   "execution_count": 88,
   "metadata": {},
   "outputs": [
    {
     "data": {
      "text/plain": [
       "(7352, 5)"
      ]
     },
     "execution_count": 88,
     "metadata": {},
     "output_type": "execute_result"
    }
   ],
   "source": [
    "X_train_lda.shape"
   ]
  },
  {
   "cell_type": "markdown",
   "metadata": {},
   "source": [
    "### Models"
   ]
  },
  {
   "cell_type": "code",
   "execution_count": 24,
   "metadata": {},
   "outputs": [
    {
     "name": "stdout",
     "output_type": "stream",
     "text": [
      "              precision    recall  f1-score   support\n",
      "\n",
      "           0       0.95      0.99      0.97       496\n",
      "           1       0.97      0.96      0.96       471\n",
      "           2       0.99      0.96      0.98       420\n",
      "           3       0.94      0.91      0.92       491\n",
      "           4       0.92      0.94      0.93       532\n",
      "           5       1.00      1.00      1.00       537\n",
      "\n",
      "    accuracy                           0.96      2947\n",
      "   macro avg       0.96      0.96      0.96      2947\n",
      "weighted avg       0.96      0.96      0.96      2947\n",
      "\n",
      "96.02000000000001 Recall\n",
      "96.16 pre\n",
      "96.08 fscore\n",
      "96.06 acc\n"
     ]
    }
   ],
   "source": [
    "#SVM\n",
    "\n",
    "svm_LDA = SVC(C = 10, gamma = 0.01, kernel = 'rbf')\n",
    "results(svm_LDA, X_train_lda, y_train, X_test_lda, y_test)"
   ]
  },
  {
   "cell_type": "code",
   "execution_count": 25,
   "metadata": {},
   "outputs": [
    {
     "name": "stdout",
     "output_type": "stream",
     "text": [
      "              precision    recall  f1-score   support\n",
      "\n",
      "           0       0.96      0.99      0.97       496\n",
      "           1       0.96      0.97      0.96       471\n",
      "           2       0.99      0.95      0.97       420\n",
      "           3       0.93      0.92      0.93       491\n",
      "           4       0.93      0.94      0.93       532\n",
      "           5       1.00      1.00      1.00       537\n",
      "\n",
      "    accuracy                           0.96      2947\n",
      "   macro avg       0.96      0.96      0.96      2947\n",
      "weighted avg       0.96      0.96      0.96      2947\n",
      "\n",
      "96.06 Recall\n",
      "96.22 pre\n",
      "96.12 fscore\n",
      "96.13000000000001 acc\n"
     ]
    }
   ],
   "source": [
    "#KNN\n",
    "\n",
    "knn_LDA = KNeighborsClassifier(metric= 'manhattan', n_neighbors = 15, weights = 'distance')\n",
    "results(knn_LDA, X_train_lda, y_train, X_test_lda, y_test)"
   ]
  },
  {
   "cell_type": "code",
   "execution_count": 26,
   "metadata": {},
   "outputs": [
    {
     "name": "stdout",
     "output_type": "stream",
     "text": [
      "              precision    recall  f1-score   support\n",
      "\n",
      "           0       0.97      0.99      0.98       496\n",
      "           1       0.97      0.97      0.97       471\n",
      "           2       0.99      0.97      0.98       420\n",
      "           3       0.92      0.90      0.91       491\n",
      "           4       0.91      0.93      0.92       532\n",
      "           5       1.00      1.00      1.00       537\n",
      "\n",
      "    accuracy                           0.96      2947\n",
      "   macro avg       0.96      0.96      0.96      2947\n",
      "weighted avg       0.96      0.96      0.96      2947\n",
      "\n",
      "96.06 Recall\n",
      "96.17 pre\n",
      "96.1 fscore\n",
      "96.06 acc\n"
     ]
    }
   ],
   "source": [
    "#RF\n",
    "\n",
    "rf_LDA = RandomForestClassifier(max_features= 'sqrt', min_samples_split= 6, n_estimators = 50)\n",
    "results(rf_LDA, X_train_lda, y_train, X_test_lda, y_test)"
   ]
  },
  {
   "cell_type": "code",
   "execution_count": null,
   "metadata": {},
   "outputs": [],
   "source": []
  },
  {
   "cell_type": "code",
   "execution_count": null,
   "metadata": {},
   "outputs": [],
   "source": []
  },
  {
   "cell_type": "code",
   "execution_count": null,
   "metadata": {},
   "outputs": [],
   "source": []
  },
  {
   "cell_type": "markdown",
   "metadata": {},
   "source": [
    "# TRANSFER LEARNING"
   ]
  },
  {
   "cell_type": "code",
   "execution_count": 27,
   "metadata": {},
   "outputs": [],
   "source": [
    "# Variables-\n",
    "epochs = 30\n",
    "# batch_size = 64\n",
    "batch_size = 16\n",
    "num_classes = 6\n",
    "fig_size = (9,7)"
   ]
  },
  {
   "cell_type": "code",
   "execution_count": 28,
   "metadata": {},
   "outputs": [],
   "source": [
    "def CREATE_MODEL(input_shape):\n",
    "    model = Sequential()\n",
    "    model.add(Input(shape = input_shape,))\n",
    "    model.add(Dense(256,activation='relu'))\n",
    "    model.add(Dropout(0.2))\n",
    "    model.add(Dense(128,activation='relu'))\n",
    "    model.add(Dropout(0.2))\n",
    "    model.add(Dense(64,activation='relu'))\n",
    "#     model.add(Dropout(0.2))\n",
    "#     model.add(Dense(32,activation='relu'))\n",
    "    model.add(Dense(num_classes,activation='softmax'))\n",
    "    return model\n",
    "\n",
    "def COMPILE(model):\n",
    "    model.compile(\n",
    "    optimizer='adam',\n",
    "    loss='sparse_categorical_crossentropy',\n",
    "    metrics=['accuracy']\n",
    "    )\n",
    "    return model;\n",
    "    \n",
    "def FIT(model,X,y,i):\n",
    "    history = model.fit(\n",
    "    X,\n",
    "    y,\n",
    "    validation_split=0.2,\n",
    "    batch_size=batch_size,\n",
    "    epochs=epochs,\n",
    "    callbacks=[\n",
    "        tf.keras.callbacks.ModelCheckpoint(f'./model_{i}.h5', save_best_only=True),\n",
    "        tf.keras.callbacks.ReduceLROnPlateau(\n",
    "            monitor='val_loss',\n",
    "            factor=0.1,\n",
    "            patience=1\n",
    "        )\n",
    "    ],\n",
    "    verbose=0\n",
    "    )\n",
    "    return history,model\n",
    "\n",
    "def PLOT(history,i):\n",
    "    epochs_range = range(epochs)\n",
    "    train_loss = history.history['loss']\n",
    "    val_loss = history.history['val_loss']\n",
    "    train_acc = history.history['accuracy']\n",
    "    val_acc = history.history['val_accuracy']\n",
    "    \n",
    "    plt.figure(figsize=fig_size)\n",
    "    plt.plot(epochs_range,train_loss,label=\"Training Loss\")\n",
    "    plt.plot(epochs_range,val_loss,label=\"Validation Loss\")\n",
    "    plt.xlabel(\"Epoch\")\n",
    "    plt.ylabel(\"Loss\")\n",
    "    plt.legend()\n",
    "    plt.title(f\"Model {i} - Loss Over Time\")\n",
    "    plt.show()\n",
    "    \n",
    "    plt.figure(figsize=fig_size)\n",
    "    plt.plot(epochs_range,train_acc,label=\"Training accuracy\")\n",
    "    plt.plot(epochs_range,val_acc,label=\"Validation accuracy\")\n",
    "    plt.xlabel(\"Epoch\")\n",
    "    plt.ylabel(\"accuracy\")\n",
    "    plt.legend()\n",
    "    plt.title(f\"Model {i} - Accuracy\")\n",
    "    plt.show()\n",
    "\n",
    "def CONFUSION_MATRIX(y_test, y_pred):\n",
    "    confusionMatrix = confusion_matrix(y_test, y_pred)\n",
    "    sns.set(font_scale=1.5)\n",
    "    labels = [\"WALKING\", \"WALKING_UPSTAIRS\", \"WALKING_DOWNSTAIRS\", \"SITTING\", \"STANDING\", \"LYING\"]\n",
    "    plt.figure(figsize=(16,7))\n",
    "    sns.heatmap(confusionMatrix, cmap = \"Blues\", annot = True, fmt = \".0f\", xticklabels=labels, yticklabels=labels)\n",
    "    plt.title(\"Global Model Confusion Matrix\", fontsize = 30)\n",
    "    plt.xlabel('Predicted Class', fontsize = 20)\n",
    "    plt.ylabel('Original Class', fontsize = 20)\n",
    "    plt.tick_params(labelsize = 15)\n",
    "    plt.xticks(rotation = 45)\n",
    "    plt.show()"
   ]
  },
  {
   "cell_type": "code",
   "execution_count": 29,
   "metadata": {},
   "outputs": [],
   "source": [
    "def Model(X, y, n):\n",
    "    X, y = np.array(X), np.array(y)\n",
    "\n",
    "    model = CREATE_MODEL(X.shape[1])\n",
    "    print(model.summary())\n",
    "\n",
    "\n",
    "    model = COMPILE(model)\n",
    "    history, model = FIT(model, X, y, n)\n",
    "\n",
    "    PLOT(history, n)\n",
    "\n",
    "    print(history.history['accuracy'])\n",
    "    print(max(history.history['accuracy']))\n",
    "    \n",
    "    return model\n",
    "\n",
    "\n",
    "\n",
    "\n",
    "def data(X, Y, path):\n",
    "#     path = 'Real-Time'\n",
    "    \n",
    "    test_x = pd.read_csv('{0}/{1}'.format(path, X))\n",
    "    test_y = pd.read_csv('{0}/{1}'.format(path, Y))\n",
    "    \n",
    "    names = test_x.columns\n",
    "\n",
    "    scaler = MinMaxScaler(feature_range = [-1,1])\n",
    "    test_x  = scaler.fit_transform(test_x)\n",
    "        \n",
    "    return pd.DataFrame(test_x, columns = names), np.array(test_y)\n",
    "\n",
    "\n",
    "\n",
    "def check(clf, X, y, X_test, y_test):\n",
    "    clf.fit(X, y.ravel())\n",
    "        \n",
    "    y_predicted = clf.predict(X_test)\n",
    "    \n",
    "    recall = metrics.recall_score(y_test, y_predicted, average='macro' )\n",
    "    precision = metrics.precision_score(y_test, y_predicted, average='macro' )\n",
    "    f_score = metrics.f1_score(y_test, y_predicted, average=\"macro\") \n",
    "\n",
    "    print(round(recall,4) * 100, 'Recall')\n",
    "    print(round(precision, 4)*100, 'pre')\n",
    "    print(round(f_score, 4)*100, \"fscore\")\n",
    "    print('Accuracy is: ', metrics.accuracy_score(y_test, y_predicted))\n",
    "    \n",
    "    array = confusion_matrix(y_test,y_predicted)\n",
    "    \n",
    "    df_cm = pd.DataFrame(array, index = [i for i in LABELS],\n",
    "                    columns = [i for i in LABELS])\n",
    "    \n",
    "    plt.figure(figsize = (10,7))\n",
    "    sn.heatmap(df_cm, annot=True, cmap=\"BuPu\",fmt='g')"
   ]
  },
  {
   "cell_type": "code",
   "execution_count": null,
   "metadata": {},
   "outputs": [],
   "source": [
    "model = Model(X_train, y_train, 4)"
   ]
  },
  {
   "cell_type": "code",
   "execution_count": null,
   "metadata": {},
   "outputs": [],
   "source": [
    "# X_test, y_test = np.array(X_test), np.array(y_test)\n",
    "\n",
    "# y_pred = model.predict(X_test)\n",
    "# y_pred = np.argmax(y_pred,axis=1)\n",
    "\n",
    "# print('Accuracy is: ',metrics.accuracy_score(y_pred, y_test))\n",
    "\n",
    "# CONFUSION_MATRIX(y_test,y_pred)"
   ]
  },
  {
   "cell_type": "code",
   "execution_count": null,
   "metadata": {},
   "outputs": [],
   "source": [
    "# model.pop()"
   ]
  },
  {
   "cell_type": "code",
   "execution_count": null,
   "metadata": {
    "scrolled": true
   },
   "outputs": [],
   "source": [
    "model.pop()\n",
    "model.trainable = False\n",
    "\n",
    "model.summary()"
   ]
  },
  {
   "cell_type": "code",
   "execution_count": null,
   "metadata": {},
   "outputs": [],
   "source": [
    "X_train_pca.shape[1]"
   ]
  },
  {
   "cell_type": "code",
   "execution_count": 45,
   "metadata": {},
   "outputs": [
    {
     "name": "stdout",
     "output_type": "stream",
     "text": [
      "WARNING:tensorflow:Falling back from v2 loop because of error: Failed to find data adapter that can handle input: <class 'pandas.core.frame.DataFrame'>, <class 'NoneType'>\n"
     ]
    },
    {
     "data": {
      "image/png": "[encoded data removed]",
      "text/plain": [
       "<Figure size 648x504 with 1 Axes>"
      ]
     },
     "metadata": {
      "needs_background": "light"
     },
     "output_type": "display_data"
    },
    {
     "data": {
      "image/png": "[encoded data removed]",
      "text/plain": [
       "<Figure size 648x504 with 1 Axes>"
      ]
     },
     "metadata": {
      "needs_background": "light"
     },
     "output_type": "display_data"
    },
    {
     "name": "stdout",
     "output_type": "stream",
     "text": [
      "[0.78115964, 0.8904948, 0.91634077, 0.9236524, 0.95017856, 0.95664, 0.95851046, 0.95851046, 0.9614011, 0.96072096, 0.96582216, 0.9661622, 0.96718246, 0.96582216, 0.96854275, 0.96718246, 0.96888286, 0.96854275, 0.9656521, 0.96803266, 0.9665023, 0.9673525, 0.965312, 0.9687128, 0.96633226, 0.96854275, 0.9665023, 0.96854275, 0.9670124, 0.96888286]\n",
      "0.96888286\n"
     ]
    }
   ],
   "source": [
    "def PCA_MODEL_TRANSFER():\n",
    "    model_dimension = Sequential()\n",
    "    model_dimension.add(Input(shape = X_train_pca.shape[1],))\n",
    "    model_dimension.add(Dense(128,activation='relu'))\n",
    "    model_dimension.add(Dropout(0.2))\n",
    "    model_dimension.add(Dense(64,activation='relu'))\n",
    "    # model_dimension.add(Dropout(0.5))\n",
    "    # model_dimension.add(Dense(32,activation='relu'))\n",
    "    model_dimension.add(Dense(num_classes,activation='softmax')) \n",
    "\n",
    "\n",
    "    model_dimension.compile(\n",
    "    optimizer='adam',\n",
    "    loss='sparse_categorical_crossentropy',\n",
    "    metrics=['accuracy']\n",
    "    )\n",
    "\n",
    "    history = model_dimension.fit(\n",
    "    X_train_pca,\n",
    "    y_train,\n",
    "    validation_split=0.2,\n",
    "    batch_size=batch_size,\n",
    "    epochs=epochs,\n",
    "    callbacks=[\n",
    "        tf.keras.callbacks.ModelCheckpoint(f'./model_{10}.h5', save_best_only=True),\n",
    "        tf.keras.callbacks.ReduceLROnPlateau(\n",
    "            monitor='val_loss',\n",
    "            factor=0.1,\n",
    "            patience=1\n",
    "        )\n",
    "    ],\n",
    "    verbose=0\n",
    "    )\n",
    "\n",
    "    PLOT(history, 10)\n",
    "\n",
    "    print(history.history['accuracy'])\n",
    "    print(max(history.history['accuracy']))\n",
    "\n",
    "    return model_dimension\n",
    "\n",
    "model_dimension = PCA_MODEL_TRANSFER()"
   ]
  },
  {
   "cell_type": "code",
   "execution_count": 31,
   "metadata": {},
   "outputs": [
    {
     "name": "stdout",
     "output_type": "stream",
     "text": [
      "Model: \"sequential\"\n",
      "_________________________________________________________________\n",
      "Layer (type)                 Output Shape              Param #   \n",
      "=================================================================\n",
      "dense (Dense)                (None, 128)               44928     \n",
      "_________________________________________________________________\n",
      "dropout (Dropout)            (None, 128)               0         \n",
      "_________________________________________________________________\n",
      "dense_1 (Dense)              (None, 64)                8256      \n",
      "=================================================================\n",
      "WARNING:tensorflow:Discrepancy between trainable weights and collected trainable weights, did you set `model.trainable` without calling `model.compile` after ?\n",
      "Total params: 106,758\n",
      "Trainable params: 53,574\n",
      "Non-trainable params: 53,184\n",
      "_________________________________________________________________\n"
     ]
    }
   ],
   "source": [
    "model_dimension.pop()\n",
    "model_dimension.trainable = False\n",
    "\n",
    "model_dimension.summary()"
   ]
  },
  {
   "cell_type": "code",
   "execution_count": 89,
   "metadata": {},
   "outputs": [
    {
     "data": {
      "text/plain": [
       "array([[-8.65740817,  2.06572835, -6.67851253,  0.58521306,  0.55860478],\n",
       "       [-9.30598969,  2.31333277, -5.78362181, -3.78073382,  0.13499376],\n",
       "       [-9.91101932,  1.83822091,  4.28048897, -3.28352479,  0.87664747],\n",
       "       ...,\n",
       "       [-7.47108696,  0.43121035,  3.13707595, -2.22849057, -0.05894395],\n",
       "       [ 4.07016171, -6.58919179,  0.19062664,  0.13872282,  1.15405721],\n",
       "       [-8.41751564,  0.79499148,  3.40143168, -2.14501624,  0.90491115]])"
      ]
     },
     "execution_count": 89,
     "metadata": {},
     "output_type": "execute_result"
    }
   ],
   "source": []
  },
  {
   "cell_type": "code",
   "execution_count": 113,
   "metadata": {},
   "outputs": [
    {
     "name": "stdout",
     "output_type": "stream",
     "text": [
      "WARNING:tensorflow:Falling back from v2 loop because of error: Failed to find data adapter that can handle input: <class 'pandas.core.frame.DataFrame'>, <class 'NoneType'>\n"
     ]
    },
    {
     "data": {
      "image/png": "[encoded data removed]",
      "text/plain": [
       "<Figure size 648x504 with 1 Axes>"
      ]
     },
     "metadata": {
      "needs_background": "light"
     },
     "output_type": "display_data"
    },
    {
     "data": {
      "image/png": "[encoded data removed]",
      "text/plain": [
       "<Figure size 648x504 with 1 Axes>"
      ]
     },
     "metadata": {
      "needs_background": "light"
     },
     "output_type": "display_data"
    },
    {
     "name": "stdout",
     "output_type": "stream",
     "text": [
      "[0.6337358, 0.8501955, 0.90375787, 0.9165108, 0.93113416, 0.9321544, 0.9379357, 0.9474579, 0.9469478, 0.943547, 0.947798, 0.9488182, 0.9496684, 0.94949836, 0.9443972, 0.947968, 0.94813806, 0.947968, 0.9469478, 0.95153886, 0.9452474, 0.95017856, 0.94932836, 0.947798, 0.94711787, 0.94626766, 0.94643766, 0.94728786, 0.9491583, 0.9466077]\n",
      "0.95153886\n"
     ]
    }
   ],
   "source": [
    "def LDA_MODEL_TRANSFER(trainX, trainY):\n",
    "    model = Sequential()\n",
    "    model.add(Input(shape = trainX.shape[1],))\n",
    "    model.add(Dense(12,activation='relu'))\n",
    "    model.add(Dropout(0.2))\n",
    "    model.add(Dense(16,activation='relu'))\n",
    "#     model_dimension.add(Dropout(0.5))\n",
    "#     model_dimension.add(Dense(32,activation='relu'))\n",
    "    model.add(Dense(num_classes,activation='softmax')) \n",
    "\n",
    "\n",
    "    model.compile(\n",
    "    optimizer='adam',\n",
    "    loss='sparse_categorical_crossentropy',\n",
    "    metrics=['accuracy']\n",
    "    )\n",
    "\n",
    "    history = model.fit(\n",
    "    trainX,\n",
    "    trainY,\n",
    "    validation_split=0.2,\n",
    "    batch_size=batch_size,\n",
    "    epochs=epochs,\n",
    "    callbacks=[\n",
    "        tf.keras.callbacks.ModelCheckpoint(f'./model_{10}.h5', save_best_only=True),\n",
    "        tf.keras.callbacks.ReduceLROnPlateau(\n",
    "            monitor='val_loss',\n",
    "            factor=0.1,\n",
    "            patience=1\n",
    "        )\n",
    "    ],\n",
    "    verbose=0\n",
    "    )\n",
    "\n",
    "    PLOT(history, 10)\n",
    "\n",
    "    print(history.history['accuracy'])\n",
    "    print(max(history.history['accuracy']))\n",
    "\n",
    "    return model\n",
    "\n",
    "model_lda = LDA_MODEL_TRANSFER(pd.DataFrame(X_train_lda), y_train)"
   ]
  },
  {
   "cell_type": "code",
   "execution_count": 114,
   "metadata": {},
   "outputs": [
    {
     "name": "stdout",
     "output_type": "stream",
     "text": [
      "Model: \"sequential_12\"\n",
      "_________________________________________________________________\n",
      "Layer (type)                 Output Shape              Param #   \n",
      "=================================================================\n",
      "dense_37 (Dense)             (None, 12)                72        \n",
      "_________________________________________________________________\n",
      "dropout_13 (Dropout)         (None, 12)                0         \n",
      "_________________________________________________________________\n",
      "dense_38 (Dense)             (None, 16)                208       \n",
      "=================================================================\n",
      "Total params: 382\n",
      "Trainable params: 382\n",
      "Non-trainable params: 0\n",
      "_________________________________________________________________\n"
     ]
    }
   ],
   "source": [
    "model_lda.pop()\n",
    "model_lda.trainable = False\n",
    "\n",
    "model_lda.summary()"
   ]
  },
  {
   "cell_type": "code",
   "execution_count": null,
   "metadata": {},
   "outputs": [],
   "source": []
  },
  {
   "cell_type": "code",
   "execution_count": null,
   "metadata": {},
   "outputs": [],
   "source": []
  },
  {
   "cell_type": "code",
   "execution_count": 115,
   "metadata": {},
   "outputs": [
    {
     "data": {
      "text/plain": [
       "((176, 16), (88, 16), (176, 1), (88, 1))"
      ]
     },
     "execution_count": 115,
     "metadata": {},
     "output_type": "execute_result"
    }
   ],
   "source": [
    "# X_test_real, y_test_real = data('X.csv', 'Y.csv', 'Real-Time')\n",
    "X, y = data('X.csv', 'Y.csv', 'Real-time_v1')\n",
    "y -= 1\n",
    "\n",
    "\n",
    "X_train_real, X_test_real, y_train_real, y_test_real = train_test_split(X, y, test_size=0.33, random_state=42)\n",
    "\n",
    "\n",
    "#BASE MODEL\n",
    "# X_train_real = model.predict(X_train_real.values)\n",
    "# X_test_real = model.predict(X_test_real.values)\n",
    "\n",
    "#PCA\n",
    "# X_train_real = X_train_real.iloc[:,most_important]\n",
    "# X_test_real = X_test_real.iloc[:,most_important]\n",
    "\n",
    "# X_train_real = model_dimension.predict(X_train_real.values)\n",
    "# X_test_real = model_dimension.predict(X_test_real.values)\n",
    "\n",
    "\n",
    "#LDA\n",
    "X_train_real = lda.transform(X_train_real.iloc[:,most_important])\n",
    "X_test_real = lda.transform(X_test_real.iloc[:,most_important])\n",
    "\n",
    "X_train_real = model_lda.predict(X_train_real)\n",
    "X_test_real = model_lda.predict(X_test_real)\n",
    "\n",
    "\n",
    "X_train_real.shape, X_test_real.shape, y_train_real.shape, y_test_real.shape"
   ]
  },
  {
   "cell_type": "code",
   "execution_count": 116,
   "metadata": {},
   "outputs": [
    {
     "data": {
      "text/plain": [
       "(176, 16)"
      ]
     },
     "execution_count": 116,
     "metadata": {},
     "output_type": "execute_result"
    }
   ],
   "source": [
    "X_train_real.shape"
   ]
  },
  {
   "cell_type": "markdown",
   "metadata": {},
   "source": [
    "# SVM"
   ]
  },
  {
   "cell_type": "code",
   "execution_count": 117,
   "metadata": {},
   "outputs": [
    {
     "name": "stdout",
     "output_type": "stream",
     "text": [
      "66.95 Recall\n",
      "69.04 pre\n",
      "66.75 fscore\n",
      "Accuracy is:  0.6704545454545454\n"
     ]
    },
    {
     "data": {
      "image/png": "[encoded data removed]",
      "text/plain": [
       "<Figure size 720x504 with 2 Axes>"
      ]
     },
     "metadata": {
      "needs_background": "light"
     },
     "output_type": "display_data"
    }
   ],
   "source": [
    "svm = SVC(C = 10, gamma = 0.01, kernel= 'rbf')\n",
    "check(svm, X_train_real, y_train_real, X_test_real, y_test_real)"
   ]
  },
  {
   "cell_type": "code",
   "execution_count": 118,
   "metadata": {},
   "outputs": [
    {
     "name": "stdout",
     "output_type": "stream",
     "text": [
      "69.48 Recall\n",
      "70.28 pre\n",
      "69.11 fscore\n",
      "Accuracy is:  0.6931818181818182\n"
     ]
    },
    {
     "data": {
      "image/png": "[encoded data removed]",
      "text/plain": [
       "<Figure size 720x504 with 2 Axes>"
      ]
     },
     "metadata": {
      "needs_background": "light"
     },
     "output_type": "display_data"
    }
   ],
   "source": [
    "svm = SVC(C = 0.001, gamma = 1, kernel= 'poly')\n",
    "check(svm, X_train_real, y_train_real, X_test_real, y_test_real)"
   ]
  },
  {
   "cell_type": "code",
   "execution_count": 119,
   "metadata": {},
   "outputs": [],
   "source": [
    "def svc_param_selection(X_train_real, y_train_real, nfolds):\n",
    "\n",
    "    param_grid = {'C': [0.0001, 0.001, 0.01, 0.1, 1], \n",
    "                  'gamma' : [0.01, 0.1, 1], \n",
    "                  'kernel': ['linear', 'poly', 'rbf', 'sigmoid'] }\n",
    "\n",
    "\n",
    "    grid_search = GridSearchCV( SVC(), \n",
    "                             param_grid, \n",
    "                             cv = nfolds,\n",
    "                             n_jobs = -1) # use all processor\n",
    "    grid_search.fit(X, y.ravel())\n",
    "\n",
    "    return grid_search.best_params_\n",
    "\n",
    "# svc_param_selection(X, y, 5)"
   ]
  },
  {
   "cell_type": "markdown",
   "metadata": {},
   "source": [
    "# KNN"
   ]
  },
  {
   "cell_type": "code",
   "execution_count": 120,
   "metadata": {},
   "outputs": [
    {
     "name": "stdout",
     "output_type": "stream",
     "text": [
      "64.01 Recall\n",
      "64.42 pre\n",
      "62.849999999999994 fscore\n",
      "Accuracy is:  0.6363636363636364\n"
     ]
    },
    {
     "data": {
      "image/png": "[encoded data removed]",
      "text/plain": [
       "<Figure size 720x504 with 2 Axes>"
      ]
     },
     "metadata": {
      "needs_background": "light"
     },
     "output_type": "display_data"
    }
   ],
   "source": [
    "knn = KNeighborsClassifier(metric= 'manhattan', n_neighbors = 5, weights = 'distance')\n",
    "check(knn, X_train_real, y_train_real, X_test_real, y_test_real)"
   ]
  },
  {
   "cell_type": "code",
   "execution_count": null,
   "metadata": {},
   "outputs": [],
   "source": [
    "def knn_param_selection(X, y, nfolds):\n",
    "\n",
    "    param_grid = {'n_neighbors' : [3,5,7,11,13,15,19,21],\n",
    "                'weights' : ['uniform', 'distance'], \n",
    "                'metric' : ['euclidean','manhattan'] }\n",
    "\n",
    "    grid_search = GridSearchCV(KNeighborsClassifier(), \n",
    "                             param_grid, \n",
    "                             cv = nfolds,\n",
    "                             n_jobs = -1)\n",
    "\n",
    "    grid_search.fit(X,y)\n",
    "\n",
    "    return grid_search.best_params_\n",
    "                  \n",
    "# knn_param_selection(X, y.ravel(), 5)"
   ]
  },
  {
   "cell_type": "markdown",
   "metadata": {},
   "source": [
    "# Random Forest"
   ]
  },
  {
   "cell_type": "code",
   "execution_count": 100,
   "metadata": {},
   "outputs": [
    {
     "name": "stdout",
     "output_type": "stream",
     "text": [
      "66.14 Recall\n",
      "66.69 pre\n",
      "65.75 fscore\n",
      "Accuracy is:  0.6590909090909091\n"
     ]
    },
    {
     "data": {
      "image/png": "[encoded data removed]",
      "text/plain": [
       "<Figure size 720x504 with 2 Axes>"
      ]
     },
     "metadata": {
      "needs_background": "light"
     },
     "output_type": "display_data"
    }
   ],
   "source": [
    "rf = RandomForestClassifier(max_features= 'sqrt', min_samples_split= 6, n_estimators = 50)\n",
    "check(rf, X_train_real, y_train_real, X_test_real, y_test_real)"
   ]
  },
  {
   "cell_type": "code",
   "execution_count": 101,
   "metadata": {},
   "outputs": [
    {
     "name": "stdout",
     "output_type": "stream",
     "text": [
      "69.39 Recall\n",
      "70.50999999999999 pre\n",
      "68.92 fscore\n",
      "Accuracy is:  0.6931818181818182\n"
     ]
    },
    {
     "data": {
      "image/png": "[encoded data removed]",
      "text/plain": [
       "<Figure size 720x504 with 2 Axes>"
      ]
     },
     "metadata": {
      "needs_background": "light"
     },
     "output_type": "display_data"
    }
   ],
   "source": [
    "rf = RandomForestClassifier(max_features= 'sqrt', min_samples_split= 6, n_estimators = 40)\n",
    "check(rf, X_train_real, y_train_real, X_test_real, y_test_real)"
   ]
  },
  {
   "cell_type": "code",
   "execution_count": null,
   "metadata": {},
   "outputs": [],
   "source": [
    "def rf_param_selection(X, y, nfolds):\n",
    "    param_grid = {'n_estimators': [40, 50, 150],\n",
    "                'max_features': ['sqrt', 0.25, 0.5, 0.75, 1.0],\n",
    "                'min_samples_split': [4, 6,8, 10]}\n",
    "\n",
    "    grid_search = GridSearchCV(RandomForestClassifier(),\n",
    "                             param_grid,\n",
    "                             cv = nfolds,\n",
    "                             n_jobs = -1)\n",
    "    grid_search.fit(X, y)\n",
    "\n",
    "    return grid_search.best_params_\n",
    "\n",
    "# knn_param_selection(X, y.ravel(), 5)\n",
    "\n",
    "rf_param_selection(X, y.ravel(), 5)"
   ]
  },
  {
   "cell_type": "markdown",
   "metadata": {},
   "source": []
  },
  {
   "cell_type": "code",
   "execution_count": null,
   "metadata": {},
   "outputs": [],
   "source": []
  },
  {
   "cell_type": "code",
   "execution_count": null,
   "metadata": {},
   "outputs": [],
   "source": []
  },
  {
   "cell_type": "markdown",
   "metadata": {},
   "source": [
    "# LSTM"
   ]
  },
  {
   "cell_type": "code",
   "execution_count": 40,
   "metadata": {},
   "outputs": [],
   "source": [
    "X_train_lstm = np.reshape(X_train_real, (X_train_real.shape[0], 1, X_train_real.shape[1]))\n",
    "X_test_lstm = np.reshape(X_test_real, (X_test_real.shape[0], 1, X_test_real.shape[1]))"
   ]
  },
  {
   "cell_type": "code",
   "execution_count": 41,
   "metadata": {},
   "outputs": [],
   "source": [
    "def LSTM_Model(trainX, trainY, testX, testY):\n",
    "    n_steps = 64\n",
    "    n_feature = 1\n",
    "    verbose, epochs, batch_size = 0, 50, 64\n",
    "\n",
    "    lstm = Sequential()\n",
    "    lstm.add(LSTM(units= trainX.shape[0], input_shape=(n_feature, n_steps) ))\n",
    "    lstm.add(Dense(128, activation='relu'))\n",
    "    lstm.add(Dropout(0.2))\n",
    "    lstm.add(Dense(64, activation='relu'))\n",
    "#     lstm.add(Dropout(0.2))\n",
    "#     lstm.add(Dense(64, activation='relu'))\n",
    "    lstm.add(Dense(6, activation='softmax'))\n",
    "\n",
    "    print(lstm.summary())\n",
    "\n",
    "    lstm.compile(loss='sparse_categorical_crossentropy', optimizer='adam', metrics=['accuracy'])\n",
    "    \n",
    "    \n",
    "    lstm.fit(trainX, trainY, epochs=epochs, batch_size=batch_size, verbose=verbose)\n",
    "\n",
    "\n",
    "    _, accuracy = lstm.evaluate(testX, testY, batch_size=batch_size, verbose=0)\n",
    "    \n",
    "    y_pred = lstm.predict(testX)\n",
    "    y_pred = np.argmax(y_pred,axis=1)\n",
    "    \n",
    "    recall = metrics.recall_score(testY, y_pred, average='macro' )\n",
    "    precision = metrics.precision_score(testY, y_pred, average='macro' )\n",
    "    f_score = metrics.f1_score(testY, y_pred, average=\"macro\") \n",
    "\n",
    "    print(round(recall,4) * 100, 'Recall')\n",
    "    print(round(precision, 4)*100, 'pre')\n",
    "    print(round(f_score, 4)*100, \"fscore\")\n",
    "    print('Accuracy is: ', metrics.accuracy_score(testY, y_pred))\n",
    "    \n",
    "    array = confusion_matrix(testY, y_pred)\n",
    "    \n",
    "    df_cm = pd.DataFrame(array, index = [i for i in LABELS],\n",
    "                    columns = [i for i in LABELS])\n",
    "    \n",
    "    plt.figure(figsize = (10,7))\n",
    "    sn.heatmap(df_cm, annot=True, cmap=\"BuPu\",fmt='g')\n",
    "\n",
    "    return accuracy"
   ]
  },
  {
   "cell_type": "code",
   "execution_count": 42,
   "metadata": {},
   "outputs": [
    {
     "name": "stdout",
     "output_type": "stream",
     "text": [
      "Model: \"sequential_1\"\n",
      "_________________________________________________________________\n",
      "Layer (type)                 Output Shape              Param #   \n",
      "=================================================================\n",
      "lstm (LSTM)                  (None, 176)               169664    \n",
      "_________________________________________________________________\n",
      "dense_3 (Dense)              (None, 128)               22656     \n",
      "_________________________________________________________________\n",
      "dropout_1 (Dropout)          (None, 128)               0         \n",
      "_________________________________________________________________\n",
      "dense_4 (Dense)              (None, 64)                8256      \n",
      "_________________________________________________________________\n",
      "dense_5 (Dense)              (None, 6)                 390       \n",
      "=================================================================\n",
      "Total params: 200,966\n",
      "Trainable params: 200,966\n",
      "Non-trainable params: 0\n",
      "_________________________________________________________________\n",
      "None\n",
      "84.84 Recall\n",
      "85.78 pre\n",
      "84.57000000000001 fscore\n",
      "Accuracy is:  0.8522727272727273\n"
     ]
    },
    {
     "data": {
      "text/plain": [
       "0.85227275"
      ]
     },
     "execution_count": 42,
     "metadata": {},
     "output_type": "execute_result"
    },
    {
     "data": {
      "image/png": "[encoded data removed]",
      "text/plain": [
       "<Figure size 720x504 with 2 Axes>"
      ]
     },
     "metadata": {
      "needs_background": "light"
     },
     "output_type": "display_data"
    }
   ],
   "source": [
    "LSTM_Model(X_train_lstm, y_train_real, X_test_lstm, y_test_real )"
   ]
  },
  {
   "cell_type": "code",
   "execution_count": null,
   "metadata": {},
   "outputs": [],
   "source": [
    "X_train_lstm.shape"
   ]
  },
  {
   "cell_type": "code",
   "execution_count": null,
   "metadata": {},
   "outputs": [],
   "source": []
  },
  {
   "cell_type": "code",
   "execution_count": null,
   "metadata": {},
   "outputs": [],
   "source": []
  },
  {
   "cell_type": "code",
   "execution_count": null,
   "metadata": {},
   "outputs": [],
   "source": [
    "X_train_test = model.predict(X_train)\n",
    "X_test_test = model.predict(X_test)\n",
    "\n",
    "X_train_test = np.reshape(X_train_test, (X_train_test.shape[0], 1, X_train_test.shape[1]))\n",
    "X_test_test = np.reshape(X_test_test, (X_test_test.shape[0], 1, X_test_test.shape[1]))"
   ]
  },
  {
   "cell_type": "code",
   "execution_count": null,
   "metadata": {},
   "outputs": [],
   "source": [
    "LSTM_Model(X_train, y_train, X_test, y_test)"
   ]
  },
  {
   "cell_type": "code",
   "execution_count": null,
   "metadata": {},
   "outputs": [],
   "source": []
  },
  {
   "cell_type": "markdown",
   "metadata": {},
   "source": [
    "# CNN"
   ]
  },
  {
   "cell_type": "code",
   "execution_count": null,
   "metadata": {},
   "outputs": [],
   "source": [
    "cnn = Model(X_train_real, y_train_real, 5)\n",
    "\n",
    "\n",
    "\n",
    "\n",
    "y_pred = cnn.predict(X_test_real)\n",
    "y_pred = np.argmax(y_pred,axis=1)\n",
    "\n",
    "recall = metrics.recall_score(y_test_real, y_pred, average='macro' )\n",
    "precision = metrics.precision_score(y_test_real, y_pred, average='macro' )\n",
    "f_score = metrics.f1_score(y_test_real, y_pred, average=\"macro\") \n",
    "\n",
    "print(round(recall,4) * 100, 'Recall')\n",
    "print(round(precision, 4)*100, 'pre')\n",
    "print(round(f_score, 4)*100, \"fscore\")\n",
    "print('Accuracy is: ', metrics.accuracy_score(y_test_real, y_pred))"
   ]
  },
  {
   "cell_type": "code",
   "execution_count": null,
   "metadata": {},
   "outputs": [],
   "source": []
  },
  {
   "cell_type": "code",
   "execution_count": null,
   "metadata": {},
   "outputs": [],
   "source": []
  },
  {
   "cell_type": "markdown",
   "metadata": {},
   "source": [
    "# Feature extracted by my Code"
   ]
  },
  {
   "cell_type": "code",
   "execution_count": null,
   "metadata": {},
   "outputs": [],
   "source": [
    "scaler = MinMaxScaler(feature_range = [-1,1])\n",
    "\n",
    "X_train_fex = pd.read_csv(\"TRAIN_NEW_ALL.csv\")\n",
    "X_test_fex = pd.read_csv(\"TEST_NEW_ALL.csv\")\n",
    "\n",
    "X_train_fex = scaler.fit_transform(X_train_fex)\n",
    "X_test_fex  = scaler.fit_transform(X_test_fex)\n",
    "\n",
    "X_train_fex = pd.DataFrame(X_train_fex)\n",
    "X_test_fex = pd.DataFrame(X_test_fex)\n",
    "\n",
    "print(X_train_fex.shape, X_test_fex.shape)\n",
    "\n",
    "\n",
    "y_train_fex = pd.read_csv(\"UCI HAR Dataset/train/y_train.txt\", delim_whitespace=True, header=None)[:-1]\n",
    "y_test_fex = pd.read_csv(\"UCI HAR Dataset/test/y_test.txt\", delim_whitespace=True, header=None)[:-1]\n",
    "\n",
    "print(y_train.shape, y_test.shape)\n",
    "\n",
    "\n",
    "y_train_fex -= 1\n",
    "y_test_fex -= 1"
   ]
  },
  {
   "cell_type": "code",
   "execution_count": null,
   "metadata": {},
   "outputs": [],
   "source": [
    "model_extracted = Model(X_train_fex, y_train_fex, 5)"
   ]
  },
  {
   "cell_type": "code",
   "execution_count": null,
   "metadata": {},
   "outputs": [],
   "source": [
    "model_extracted.pop()\n",
    "model_extracted.trainable = True\n",
    "\n",
    "model_extracted.summary()"
   ]
  },
  {
   "cell_type": "code",
   "execution_count": null,
   "metadata": {},
   "outputs": [],
   "source": [
    "X, y = data('X.csv', 'Y.csv', 'Real-time_v1')\n",
    "X = model_extracted.predict(X)\n",
    "\n",
    "svm = SVC(C = 10, gamma = 0.01, kernel= 'rbf')\n",
    "check(svm, X, y, X, y)"
   ]
  },
  {
   "cell_type": "code",
   "execution_count": null,
   "metadata": {},
   "outputs": [],
   "source": []
  },
  {
   "cell_type": "code",
   "execution_count": null,
   "metadata": {},
   "outputs": [],
   "source": []
  },
  {
   "cell_type": "code",
   "execution_count": null,
   "metadata": {},
   "outputs": [],
   "source": []
  },
  {
   "cell_type": "code",
   "execution_count": null,
   "metadata": {},
   "outputs": [],
   "source": []
  },
  {
   "cell_type": "code",
   "execution_count": null,
   "metadata": {},
   "outputs": [],
   "source": []
  },
  {
   "cell_type": "code",
   "execution_count": null,
   "metadata": {},
   "outputs": [],
   "source": []
  },
  {
   "cell_type": "code",
   "execution_count": null,
   "metadata": {},
   "outputs": [],
   "source": []
  },
  {
   "cell_type": "code",
   "execution_count": null,
   "metadata": {},
   "outputs": [],
   "source": []
  },
  {
   "cell_type": "code",
   "execution_count": null,
   "metadata": {},
   "outputs": [],
   "source": []
  },
  {
   "cell_type": "code",
   "execution_count": null,
   "metadata": {},
   "outputs": [],
   "source": []
  },
  {
   "cell_type": "code",
   "execution_count": null,
   "metadata": {},
   "outputs": [],
   "source": []
  },
  {
   "cell_type": "code",
   "execution_count": null,
   "metadata": {},
   "outputs": [],
   "source": []
  },
  {
   "cell_type": "code",
   "execution_count": null,
   "metadata": {},
   "outputs": [],
   "source": []
  },
  {
   "cell_type": "code",
   "execution_count": null,
   "metadata": {},
   "outputs": [],
   "source": []
  },
  {
   "cell_type": "code",
   "execution_count": null,
   "metadata": {},
   "outputs": [],
   "source": []
  },
  {
   "cell_type": "code",
   "execution_count": null,
   "metadata": {},
   "outputs": [],
   "source": []
  },
  {
   "cell_type": "code",
   "execution_count": null,
   "metadata": {},
   "outputs": [],
   "source": []
  },
  {
   "cell_type": "code",
   "execution_count": null,
   "metadata": {},
   "outputs": [],
   "source": []
  },
  {
   "cell_type": "code",
   "execution_count": null,
   "metadata": {},
   "outputs": [],
   "source": []
  },
  {
   "cell_type": "markdown",
   "metadata": {},
   "source": [
    "# Model replica number-1 "
   ]
  },
  {
   "cell_type": "code",
   "execution_count": null,
   "metadata": {},
   "outputs": [],
   "source": [
    "# MODEL REPLICA NO.1\n",
    "X_train_1 = X_train[0:2500]\n",
    "y_train_1 = y_train[0:2500]"
   ]
  },
  {
   "cell_type": "code",
   "execution_count": null,
   "metadata": {},
   "outputs": [],
   "source": [
    "X_train_1, y_train_1 = PREPROCESS(X_train_1,y_train_1);"
   ]
  },
  {
   "cell_type": "code",
   "execution_count": null,
   "metadata": {},
   "outputs": [],
   "source": [
    "model_1 = CREATE_MODEL(X_train_1.shape[1]);\n",
    "model_1.summary()"
   ]
  },
  {
   "cell_type": "code",
   "execution_count": null,
   "metadata": {},
   "outputs": [],
   "source": [
    "model_1 = COMPILE(model_1)\n",
    "history_1,model_1 = FIT(model_1,X_train_1,y_train_1,1)"
   ]
  },
  {
   "cell_type": "code",
   "execution_count": null,
   "metadata": {},
   "outputs": [],
   "source": [
    "PLOT(history_1,1)"
   ]
  },
  {
   "cell_type": "markdown",
   "metadata": {},
   "source": [
    "# Model replica number-2"
   ]
  },
  {
   "cell_type": "code",
   "execution_count": null,
   "metadata": {},
   "outputs": [],
   "source": [
    "# MODEL REPLICA NO.2\n",
    "X_train_2 = X_train[2500:5000]\n",
    "y_train_2 = y_train[2500:5000]"
   ]
  },
  {
   "cell_type": "code",
   "execution_count": null,
   "metadata": {},
   "outputs": [],
   "source": [
    "X_train_2, y_train_2 = PREPROCESS(X_train_2,y_train_2)"
   ]
  },
  {
   "cell_type": "code",
   "execution_count": null,
   "metadata": {
    "scrolled": true
   },
   "outputs": [],
   "source": [
    "model_2 = CREATE_MODEL(X_train_2.shape[1])\n",
    "model_2.summary()"
   ]
  },
  {
   "cell_type": "code",
   "execution_count": null,
   "metadata": {},
   "outputs": [],
   "source": [
    "model_2 = COMPILE(model_2)\n",
    "history_2,model_2 = FIT(model_2,X_train_2,y_train_2,2);"
   ]
  },
  {
   "cell_type": "code",
   "execution_count": null,
   "metadata": {},
   "outputs": [],
   "source": [
    "PLOT(history_2,2);"
   ]
  },
  {
   "cell_type": "markdown",
   "metadata": {},
   "source": [
    "# Model replica number-3"
   ]
  },
  {
   "cell_type": "code",
   "execution_count": null,
   "metadata": {},
   "outputs": [],
   "source": [
    "# MODEL REPLICA NO.3\n",
    "X_train_3 = X_train[5000:-1]\n",
    "y_train_3 = y_train[5000:-1]"
   ]
  },
  {
   "cell_type": "code",
   "execution_count": null,
   "metadata": {},
   "outputs": [],
   "source": [
    "X_train_3, y_train_3 = PREPROCESS(X_train_3,y_train_3)"
   ]
  },
  {
   "cell_type": "code",
   "execution_count": null,
   "metadata": {},
   "outputs": [],
   "source": [
    "model_3 = CREATE_MODEL(X_train_3.shape[1])\n",
    "model_3.summary()"
   ]
  },
  {
   "cell_type": "code",
   "execution_count": null,
   "metadata": {},
   "outputs": [],
   "source": [
    "model_3 = COMPILE(model_3);\n",
    "history_3, model_3 = FIT(model_3,X_train_3,y_train_3,3)"
   ]
  },
  {
   "cell_type": "code",
   "execution_count": null,
   "metadata": {},
   "outputs": [],
   "source": [
    "PLOT(history_3,3)"
   ]
  },
  {
   "cell_type": "markdown",
   "metadata": {},
   "source": [
    "# The global model"
   ]
  },
  {
   "cell_type": "code",
   "execution_count": null,
   "metadata": {},
   "outputs": [],
   "source": [
    "model_g = CREATE_MODEL(X_test.shape[1])\n",
    "model_g.summary()"
   ]
  },
  {
   "cell_type": "code",
   "execution_count": null,
   "metadata": {},
   "outputs": [],
   "source": [
    "all_models = []\n",
    "LOAD_MODELS()"
   ]
  },
  {
   "cell_type": "code",
   "execution_count": null,
   "metadata": {},
   "outputs": [],
   "source": [
    "weights = [max(history_1.history['accuracy']), max(history_2.history['accuracy']), max(history_3.history['accuracy'])]\n",
    "x = max(weights)\n",
    "idx = weights.index(x)\n",
    "weights[idx] = 1\n",
    "x = min(weights)\n",
    "idx = weights.index(x)\n",
    "weights[idx] = 0.02\n",
    "for i in range(3):\n",
    "    if(weights[i] != 1 and weights[i] != 0.02):\n",
    "        weights[i] = 0.03\n",
    "        break\n",
    "avg_model_weights = APPLY_WEIGHT_FUNCTION(weights)"
   ]
  },
  {
   "cell_type": "code",
   "execution_count": null,
   "metadata": {},
   "outputs": [],
   "source": [
    "model_g.set_weights(avg_model_weights)\n",
    "model_g = COMPILE(model_g)\n",
    "_ , accuracy = model_g.evaluate(X_test,y_test,verbose=0)\n",
    "print(f\"Global Model Accuracy: {round(accuracy*100,2)}%\")"
   ]
  },
  {
   "cell_type": "code",
   "execution_count": null,
   "metadata": {},
   "outputs": [],
   "source": [
    "y_pred = model_g.predict(X_test)\n",
    "y_pred = np.argmax(y_pred,axis=1)"
   ]
  },
  {
   "cell_type": "code",
   "execution_count": null,
   "metadata": {},
   "outputs": [],
   "source": [
    "CONFUSION_MATRIX(y_test,y_pred)"
   ]
  }
 ],
 "metadata": {
  "kernelspec": {
   "display_name": "Python 3",
   "language": "python",
   "name": "python3"
  },
  "language_info": {
   "codemirror_mode": {
    "name": "ipython",
    "version": 3
   },
   "file_extension": ".py",
   "mimetype": "text/x-python",
   "name": "python",
   "nbconvert_exporter": "python",
   "pygments_lexer": "ipython3",
   "version": "3.7.3"
  }
 },
 "nbformat": 4,
 "nbformat_minor": 2
}
